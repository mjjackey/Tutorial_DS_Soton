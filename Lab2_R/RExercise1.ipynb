{
 "cells": [
  {
   "cell_type": "code",
   "execution_count": 1,
   "metadata": {},
   "outputs": [
    {
     "data": {
      "text/html": [
       "26.8141753555838"
      ],
      "text/latex": [
       "26.8141753555838"
      ],
      "text/markdown": [
       "26.8141753555838"
      ],
      "text/plain": [
       "[1] 26.81418"
      ]
     },
     "metadata": {},
     "output_type": "display_data"
    }
   ],
   "source": [
    "sqrt(719)"
   ]
  },
  {
   "cell_type": "code",
   "execution_count": 2,
   "metadata": {},
   "outputs": [
    {
     "name": "stdout",
     "output_type": "stream",
     "text": [
      "[1] 178\n"
     ]
    },
    {
     "data": {
      "text/html": [
       "178"
      ],
      "text/latex": [
       "178"
      ],
      "text/markdown": [
       "178"
      ],
      "text/plain": [
       "[1] 178"
      ]
     },
     "metadata": {},
     "output_type": "display_data"
    }
   ],
   "source": [
    "b<-178.0\n",
    "print(b)\n",
    "b"
   ]
  },
  {
   "cell_type": "code",
   "execution_count": 3,
   "metadata": {},
   "outputs": [
    {
     "data": {
      "text/html": [
       "'178'"
      ],
      "text/latex": [
       "'178'"
      ],
      "text/markdown": [
       "'178'"
      ],
      "text/plain": [
       "[1] \"178\""
      ]
     },
     "metadata": {},
     "output_type": "display_data"
    }
   ],
   "source": [
    "b<-as.character(b)\n",
    "b"
   ]
  },
  {
   "cell_type": "code",
   "execution_count": 4,
   "metadata": {},
   "outputs": [
    {
     "data": {
      "text/html": [
       "'numeric'"
      ],
      "text/latex": [
       "'numeric'"
      ],
      "text/markdown": [
       "'numeric'"
      ],
      "text/plain": [
       "[1] \"numeric\""
      ]
     },
     "metadata": {},
     "output_type": "display_data"
    }
   ],
   "source": [
    "v<-c(1,2,3,4,5,6)\n",
    "class(v)"
   ]
  },
  {
   "cell_type": "code",
   "execution_count": 5,
   "metadata": {},
   "outputs": [
    {
     "data": {
      "text/html": [
       "'numeric'"
      ],
      "text/latex": [
       "'numeric'"
      ],
      "text/markdown": [
       "'numeric'"
      ],
      "text/plain": [
       "[1] \"numeric\""
      ]
     },
     "metadata": {},
     "output_type": "display_data"
    }
   ],
   "source": [
    "v2<-c(1, \"a\", 2, \"b\")\n",
    "class(v)"
   ]
  },
  {
   "cell_type": "code",
   "execution_count": 6,
   "metadata": {},
   "outputs": [
    {
     "data": {
      "text/html": [
       "'a'"
      ],
      "text/latex": [
       "'a'"
      ],
      "text/markdown": [
       "'a'"
      ],
      "text/plain": [
       "[1] \"a\""
      ]
     },
     "metadata": {},
     "output_type": "display_data"
    }
   ],
   "source": [
    "char30<-character(30)\n",
    "char30[1]<-\"a\"\n",
    "char30[1]"
   ]
  },
  {
   "cell_type": "code",
   "execution_count": 7,
   "metadata": {},
   "outputs": [
    {
     "data": {
      "text/html": [
       "'Jack'"
      ],
      "text/latex": [
       "'Jack'"
      ],
      "text/markdown": [
       "'Jack'"
      ],
      "text/plain": [
       "[1] \"Jack\""
      ]
     },
     "metadata": {},
     "output_type": "display_data"
    },
    {
     "data": {
      "text/html": [
       "'Jackie'"
      ],
      "text/latex": [
       "'Jackie'"
      ],
      "text/markdown": [
       "'Jackie'"
      ],
      "text/plain": [
       "[1] \"Jackie\""
      ]
     },
     "metadata": {},
     "output_type": "display_data"
    },
    {
     "data": {
      "text/html": [
       "6"
      ],
      "text/latex": [
       "6"
      ],
      "text/markdown": [
       "6"
      ],
      "text/plain": [
       "[1] 6"
      ]
     },
     "metadata": {},
     "output_type": "display_data"
    }
   ],
   "source": [
    "friendNames<-c(\"Mark\",\"Jack\",\"Jackie\")\n",
    "friendNames[2]\n",
    "friendNames[3]\n",
    "length(v)"
   ]
  },
  {
   "cell_type": "code",
   "execution_count": 8,
   "metadata": {},
   "outputs": [
    {
     "data": {
      "text/html": [
       "<ol class=list-inline>\n",
       "\t<li>'Jack'</li>\n",
       "\t<li>'Jackie'</li>\n",
       "</ol>\n"
      ],
      "text/latex": [
       "\\begin{enumerate*}\n",
       "\\item 'Jack'\n",
       "\\item 'Jackie'\n",
       "\\end{enumerate*}\n"
      ],
      "text/markdown": [
       "1. 'Jack'\n",
       "2. 'Jackie'\n",
       "\n",
       "\n"
      ],
      "text/plain": [
       "[1] \"Jack\"   \"Jackie\""
      ]
     },
     "metadata": {},
     "output_type": "display_data"
    }
   ],
   "source": [
    "friendNames[2:3]"
   ]
  },
  {
   "cell_type": "code",
   "execution_count": 9,
   "metadata": {},
   "outputs": [
    {
     "data": {
      "text/html": [
       "<ol class=list-inline>\n",
       "\t<li>'Mark'</li>\n",
       "\t<li>'Jackie'</li>\n",
       "</ol>\n"
      ],
      "text/latex": [
       "\\begin{enumerate*}\n",
       "\\item 'Mark'\n",
       "\\item 'Jackie'\n",
       "\\end{enumerate*}\n"
      ],
      "text/markdown": [
       "1. 'Mark'\n",
       "2. 'Jackie'\n",
       "\n",
       "\n"
      ],
      "text/plain": [
       "[1] \"Mark\"   \"Jackie\""
      ]
     },
     "metadata": {},
     "output_type": "display_data"
    }
   ],
   "source": [
    "friendNames[c(1,3)]"
   ]
  },
  {
   "cell_type": "code",
   "execution_count": 10,
   "metadata": {},
   "outputs": [
    {
     "data": {
      "text/html": [
       "<ol class=list-inline>\n",
       "\t<li>'Jack'</li>\n",
       "\t<li>'Jackie'</li>\n",
       "\t<li>'Mark'</li>\n",
       "</ol>\n"
      ],
      "text/latex": [
       "\\begin{enumerate*}\n",
       "\\item 'Jack'\n",
       "\\item 'Jackie'\n",
       "\\item 'Mark'\n",
       "\\end{enumerate*}\n"
      ],
      "text/markdown": [
       "1. 'Jack'\n",
       "2. 'Jackie'\n",
       "3. 'Mark'\n",
       "\n",
       "\n"
      ],
      "text/plain": [
       "[1] \"Jack\"   \"Jackie\" \"Mark\"  "
      ]
     },
     "metadata": {},
     "output_type": "display_data"
    }
   ],
   "source": [
    "sort(friendNames)"
   ]
  },
  {
   "cell_type": "code",
   "execution_count": 11,
   "metadata": {},
   "outputs": [
    {
     "data": {
      "text/html": [
       "<ol class=list-inline>\n",
       "\t<li>'Jack'</li>\n",
       "\t<li>'Jackie'</li>\n",
       "\t<li>'Mark'</li>\n",
       "</ol>\n"
      ],
      "text/latex": [
       "\\begin{enumerate*}\n",
       "\\item 'Jack'\n",
       "\\item 'Jackie'\n",
       "\\item 'Mark'\n",
       "\\end{enumerate*}\n"
      ],
      "text/markdown": [
       "1. 'Jack'\n",
       "2. 'Jackie'\n",
       "3. 'Mark'\n",
       "\n",
       "\n"
      ],
      "text/plain": [
       "[1] \"Jack\"   \"Jackie\" \"Mark\"  "
      ]
     },
     "metadata": {},
     "output_type": "display_data"
    }
   ],
   "source": [
    "friendNames[order(friendNames)]"
   ]
  },
  {
   "cell_type": "code",
   "execution_count": 12,
   "metadata": {},
   "outputs": [
    {
     "data": {
      "text/html": [
       "<ol class=list-inline>\n",
       "\t<li>'Mark'</li>\n",
       "\t<li>'Jackie'</li>\n",
       "\t<li>'Jack'</li>\n",
       "</ol>\n"
      ],
      "text/latex": [
       "\\begin{enumerate*}\n",
       "\\item 'Mark'\n",
       "\\item 'Jackie'\n",
       "\\item 'Jack'\n",
       "\\end{enumerate*}\n"
      ],
      "text/markdown": [
       "1. 'Mark'\n",
       "2. 'Jackie'\n",
       "3. 'Jack'\n",
       "\n",
       "\n"
      ],
      "text/plain": [
       "[1] \"Mark\"   \"Jackie\" \"Jack\"  "
      ]
     },
     "metadata": {},
     "output_type": "display_data"
    }
   ],
   "source": [
    "sort(friendNames,decreasing = TRUE)"
   ]
  },
  {
   "cell_type": "code",
   "execution_count": 13,
   "metadata": {},
   "outputs": [
    {
     "data": {
      "text/html": [
       "<ol class=list-inline>\n",
       "\t<li>'Mark'</li>\n",
       "\t<li>'Jackie'</li>\n",
       "\t<li>'Jack'</li>\n",
       "</ol>\n"
      ],
      "text/latex": [
       "\\begin{enumerate*}\n",
       "\\item 'Mark'\n",
       "\\item 'Jackie'\n",
       "\\item 'Jack'\n",
       "\\end{enumerate*}\n"
      ],
      "text/markdown": [
       "1. 'Mark'\n",
       "2. 'Jackie'\n",
       "3. 'Jack'\n",
       "\n",
       "\n"
      ],
      "text/plain": [
       "[1] \"Mark\"   \"Jackie\" \"Jack\"  "
      ]
     },
     "metadata": {},
     "output_type": "display_data"
    }
   ],
   "source": [
    "friendNames[rev(order(friendNames))]"
   ]
  },
  {
   "cell_type": "code",
   "execution_count": 14,
   "metadata": {},
   "outputs": [
    {
     "data": {
      "text/html": [
       "<ol class=list-inline>\n",
       "\t<li>'a'</li>\n",
       "\t<li>'a'</li>\n",
       "\t<li>'1'</li>\n",
       "\t<li>'2'</li>\n",
       "\t<li>'3'</li>\n",
       "\t<li>'4'</li>\n",
       "\t<li>'5'</li>\n",
       "\t<li>'7'</li>\n",
       "\t<li>'9'</li>\n",
       "\t<li>'11'</li>\n",
       "</ol>\n"
      ],
      "text/latex": [
       "\\begin{enumerate*}\n",
       "\\item 'a'\n",
       "\\item 'a'\n",
       "\\item '1'\n",
       "\\item '2'\n",
       "\\item '3'\n",
       "\\item '4'\n",
       "\\item '5'\n",
       "\\item '7'\n",
       "\\item '9'\n",
       "\\item '11'\n",
       "\\end{enumerate*}\n"
      ],
      "text/markdown": [
       "1. 'a'\n",
       "2. 'a'\n",
       "3. '1'\n",
       "4. '2'\n",
       "5. '3'\n",
       "6. '4'\n",
       "7. '5'\n",
       "8. '7'\n",
       "9. '9'\n",
       "10. '11'\n",
       "\n",
       "\n"
      ],
      "text/plain": [
       " [1] \"a\"  \"a\"  \"1\"  \"2\"  \"3\"  \"4\"  \"5\"  \"7\"  \"9\"  \"11\""
      ]
     },
     "metadata": {},
     "output_type": "display_data"
    }
   ],
   "source": [
    "v <- c(rep(\"a\",2), seq(1,5), seq(7,11,by=2))\n",
    "v"
   ]
  },
  {
   "cell_type": "code",
   "execution_count": 15,
   "metadata": {},
   "outputs": [
    {
     "data": {
      "text/html": [
       "<ol class=list-inline>\n",
       "\t<li>1</li>\n",
       "\t<li>2</li>\n",
       "\t<li>&lt;NA&gt;</li>\n",
       "\t<li>4</li>\n",
       "</ol>\n"
      ],
      "text/latex": [
       "\\begin{enumerate*}\n",
       "\\item 1\n",
       "\\item 2\n",
       "\\item <NA>\n",
       "\\item 4\n",
       "\\end{enumerate*}\n"
      ],
      "text/markdown": [
       "1. 1\n",
       "2. 2\n",
       "3. &lt;NA&gt;\n",
       "4. 4\n",
       "\n",
       "\n"
      ],
      "text/plain": [
       "[1]  1  2 NA  4"
      ]
     },
     "metadata": {},
     "output_type": "display_data"
    }
   ],
   "source": [
    "v <- c(1,2,NA,4)\n",
    "v"
   ]
  },
  {
   "cell_type": "code",
   "execution_count": 16,
   "metadata": {},
   "outputs": [
    {
     "data": {
      "text/html": [
       "<ol class=list-inline>\n",
       "\t<li>1</li>\n",
       "\t<li>2</li>\n",
       "\t<li>4</li>\n",
       "</ol>\n"
      ],
      "text/latex": [
       "\\begin{enumerate*}\n",
       "\\item 1\n",
       "\\item 2\n",
       "\\item 4\n",
       "\\end{enumerate*}\n"
      ],
      "text/markdown": [
       "1. 1\n",
       "2. 2\n",
       "3. 4\n",
       "\n",
       "\n"
      ],
      "text/plain": [
       "[1] 1 2 4"
      ]
     },
     "metadata": {},
     "output_type": "display_data"
    }
   ],
   "source": [
    "v[!is.na(v)]"
   ]
  },
  {
   "cell_type": "code",
   "execution_count": 17,
   "metadata": {},
   "outputs": [],
   "source": [
    "set.seed(100)\n",
    "mySample <-sample(1:100, 100, replace=T)"
   ]
  },
  {
   "cell_type": "code",
   "execution_count": 18,
   "metadata": {},
   "outputs": [
    {
     "data": {
      "text/html": [
       "<ol class=list-inline>\n",
       "\t<li>31</li>\n",
       "\t<li>26</li>\n",
       "\t<li>56</li>\n",
       "\t<li>6</li>\n",
       "\t<li>47</li>\n",
       "\t<li>49</li>\n",
       "\t<li>82</li>\n",
       "\t<li>38</li>\n",
       "\t<li>55</li>\n",
       "\t<li>18</li>\n",
       "\t<li>63</li>\n",
       "\t<li>89</li>\n",
       "\t<li>29</li>\n",
       "\t<li>40</li>\n",
       "\t<li>77</li>\n",
       "\t<li>67</li>\n",
       "\t<li>21</li>\n",
       "\t<li>36</li>\n",
       "\t<li>36</li>\n",
       "\t<li>70</li>\n",
       "\t<li>54</li>\n",
       "\t<li>72</li>\n",
       "\t<li>54</li>\n",
       "\t<li>75</li>\n",
       "\t<li>43</li>\n",
       "\t<li>18</li>\n",
       "\t<li>78</li>\n",
       "\t<li>89</li>\n",
       "\t<li>55</li>\n",
       "\t<li>28</li>\n",
       "\t<li>49</li>\n",
       "\t<li>93</li>\n",
       "\t<li>35</li>\n",
       "\t<li>96</li>\n",
       "\t<li>70</li>\n",
       "\t<li>89</li>\n",
       "\t<li>19</li>\n",
       "\t<li>63</li>\n",
       "\t<li>99</li>\n",
       "\t<li>14</li>\n",
       "\t<li>34</li>\n",
       "\t<li>87</li>\n",
       "\t<li>78</li>\n",
       "\t<li>83</li>\n",
       "\t<li>61</li>\n",
       "\t<li>50</li>\n",
       "\t<li>79</li>\n",
       "\t<li>89</li>\n",
       "\t<li>21</li>\n",
       "\t<li>31</li>\n",
       "\t<li>34</li>\n",
       "\t<li>20</li>\n",
       "\t<li>24</li>\n",
       "\t<li>28</li>\n",
       "\t<li>60</li>\n",
       "\t<li>26</li>\n",
       "\t<li>13</li>\n",
       "\t<li>23</li>\n",
       "\t<li>60</li>\n",
       "\t<li>22</li>\n",
       "\t<li>47</li>\n",
       "\t<li>65</li>\n",
       "\t<li>97</li>\n",
       "\t<li>68</li>\n",
       "\t<li>45</li>\n",
       "\t<li>36</li>\n",
       "\t<li>46</li>\n",
       "\t<li>45</li>\n",
       "\t<li>25</li>\n",
       "\t<li>70</li>\n",
       "\t<li>42</li>\n",
       "\t<li>33</li>\n",
       "\t<li>58</li>\n",
       "\t<li>97</li>\n",
       "\t<li>67</li>\n",
       "\t<li>63</li>\n",
       "\t<li>86</li>\n",
       "\t<li>78</li>\n",
       "\t<li>84</li>\n",
       "\t<li>10</li>\n",
       "\t<li>46</li>\n",
       "\t<li>60</li>\n",
       "\t<li>92</li>\n",
       "\t<li>99</li>\n",
       "\t<li>4</li>\n",
       "\t<li>58</li>\n",
       "\t<li>74</li>\n",
       "\t<li>25</li>\n",
       "\t<li>31</li>\n",
       "\t<li>74</li>\n",
       "\t<li>91</li>\n",
       "\t<li>21</li>\n",
       "\t<li>36</li>\n",
       "\t<li>45</li>\n",
       "\t<li>91</li>\n",
       "\t<li>39</li>\n",
       "\t<li>52</li>\n",
       "\t<li>13</li>\n",
       "\t<li>4</li>\n",
       "\t<li>78</li>\n",
       "</ol>\n"
      ],
      "text/latex": [
       "\\begin{enumerate*}\n",
       "\\item 31\n",
       "\\item 26\n",
       "\\item 56\n",
       "\\item 6\n",
       "\\item 47\n",
       "\\item 49\n",
       "\\item 82\n",
       "\\item 38\n",
       "\\item 55\n",
       "\\item 18\n",
       "\\item 63\n",
       "\\item 89\n",
       "\\item 29\n",
       "\\item 40\n",
       "\\item 77\n",
       "\\item 67\n",
       "\\item 21\n",
       "\\item 36\n",
       "\\item 36\n",
       "\\item 70\n",
       "\\item 54\n",
       "\\item 72\n",
       "\\item 54\n",
       "\\item 75\n",
       "\\item 43\n",
       "\\item 18\n",
       "\\item 78\n",
       "\\item 89\n",
       "\\item 55\n",
       "\\item 28\n",
       "\\item 49\n",
       "\\item 93\n",
       "\\item 35\n",
       "\\item 96\n",
       "\\item 70\n",
       "\\item 89\n",
       "\\item 19\n",
       "\\item 63\n",
       "\\item 99\n",
       "\\item 14\n",
       "\\item 34\n",
       "\\item 87\n",
       "\\item 78\n",
       "\\item 83\n",
       "\\item 61\n",
       "\\item 50\n",
       "\\item 79\n",
       "\\item 89\n",
       "\\item 21\n",
       "\\item 31\n",
       "\\item 34\n",
       "\\item 20\n",
       "\\item 24\n",
       "\\item 28\n",
       "\\item 60\n",
       "\\item 26\n",
       "\\item 13\n",
       "\\item 23\n",
       "\\item 60\n",
       "\\item 22\n",
       "\\item 47\n",
       "\\item 65\n",
       "\\item 97\n",
       "\\item 68\n",
       "\\item 45\n",
       "\\item 36\n",
       "\\item 46\n",
       "\\item 45\n",
       "\\item 25\n",
       "\\item 70\n",
       "\\item 42\n",
       "\\item 33\n",
       "\\item 58\n",
       "\\item 97\n",
       "\\item 67\n",
       "\\item 63\n",
       "\\item 86\n",
       "\\item 78\n",
       "\\item 84\n",
       "\\item 10\n",
       "\\item 46\n",
       "\\item 60\n",
       "\\item 92\n",
       "\\item 99\n",
       "\\item 4\n",
       "\\item 58\n",
       "\\item 74\n",
       "\\item 25\n",
       "\\item 31\n",
       "\\item 74\n",
       "\\item 91\n",
       "\\item 21\n",
       "\\item 36\n",
       "\\item 45\n",
       "\\item 91\n",
       "\\item 39\n",
       "\\item 52\n",
       "\\item 13\n",
       "\\item 4\n",
       "\\item 78\n",
       "\\end{enumerate*}\n"
      ],
      "text/markdown": [
       "1. 31\n",
       "2. 26\n",
       "3. 56\n",
       "4. 6\n",
       "5. 47\n",
       "6. 49\n",
       "7. 82\n",
       "8. 38\n",
       "9. 55\n",
       "10. 18\n",
       "11. 63\n",
       "12. 89\n",
       "13. 29\n",
       "14. 40\n",
       "15. 77\n",
       "16. 67\n",
       "17. 21\n",
       "18. 36\n",
       "19. 36\n",
       "20. 70\n",
       "21. 54\n",
       "22. 72\n",
       "23. 54\n",
       "24. 75\n",
       "25. 43\n",
       "26. 18\n",
       "27. 78\n",
       "28. 89\n",
       "29. 55\n",
       "30. 28\n",
       "31. 49\n",
       "32. 93\n",
       "33. 35\n",
       "34. 96\n",
       "35. 70\n",
       "36. 89\n",
       "37. 19\n",
       "38. 63\n",
       "39. 99\n",
       "40. 14\n",
       "41. 34\n",
       "42. 87\n",
       "43. 78\n",
       "44. 83\n",
       "45. 61\n",
       "46. 50\n",
       "47. 79\n",
       "48. 89\n",
       "49. 21\n",
       "50. 31\n",
       "51. 34\n",
       "52. 20\n",
       "53. 24\n",
       "54. 28\n",
       "55. 60\n",
       "56. 26\n",
       "57. 13\n",
       "58. 23\n",
       "59. 60\n",
       "60. 22\n",
       "61. 47\n",
       "62. 65\n",
       "63. 97\n",
       "64. 68\n",
       "65. 45\n",
       "66. 36\n",
       "67. 46\n",
       "68. 45\n",
       "69. 25\n",
       "70. 70\n",
       "71. 42\n",
       "72. 33\n",
       "73. 58\n",
       "74. 97\n",
       "75. 67\n",
       "76. 63\n",
       "77. 86\n",
       "78. 78\n",
       "79. 84\n",
       "80. 10\n",
       "81. 46\n",
       "82. 60\n",
       "83. 92\n",
       "84. 99\n",
       "85. 4\n",
       "86. 58\n",
       "87. 74\n",
       "88. 25\n",
       "89. 31\n",
       "90. 74\n",
       "91. 91\n",
       "92. 21\n",
       "93. 36\n",
       "94. 45\n",
       "95. 91\n",
       "96. 39\n",
       "97. 52\n",
       "98. 13\n",
       "99. 4\n",
       "100. 78\n",
       "\n",
       "\n"
      ],
      "text/plain": [
       "  [1] 31 26 56  6 47 49 82 38 55 18 63 89 29 40 77 67 21 36 36 70 54 72 54 75 43\n",
       " [26] 18 78 89 55 28 49 93 35 96 70 89 19 63 99 14 34 87 78 83 61 50 79 89 21 31\n",
       " [51] 34 20 24 28 60 26 13 23 60 22 47 65 97 68 45 36 46 45 25 70 42 33 58 97 67\n",
       " [76] 63 86 78 84 10 46 60 92 99  4 58 74 25 31 74 91 21 36 45 91 39 52 13  4 78"
      ]
     },
     "metadata": {},
     "output_type": "display_data"
    },
    {
     "data": {
      "text/html": [
       "<ol class=list-inline>\n",
       "\t<li>36</li>\n",
       "\t<li>54</li>\n",
       "\t<li>18</li>\n",
       "\t<li>89</li>\n",
       "\t<li>55</li>\n",
       "\t<li>49</li>\n",
       "\t<li>70</li>\n",
       "\t<li>89</li>\n",
       "\t<li>63</li>\n",
       "\t<li>78</li>\n",
       "\t<li>89</li>\n",
       "\t<li>21</li>\n",
       "\t<li>31</li>\n",
       "\t<li>34</li>\n",
       "\t<li>28</li>\n",
       "\t<li>26</li>\n",
       "\t<li>60</li>\n",
       "\t<li>47</li>\n",
       "\t<li>36</li>\n",
       "\t<li>45</li>\n",
       "\t<li>70</li>\n",
       "\t<li>97</li>\n",
       "\t<li>67</li>\n",
       "\t<li>63</li>\n",
       "\t<li>78</li>\n",
       "\t<li>46</li>\n",
       "\t<li>60</li>\n",
       "\t<li>99</li>\n",
       "\t<li>58</li>\n",
       "\t<li>25</li>\n",
       "\t<li>31</li>\n",
       "\t<li>74</li>\n",
       "\t<li>21</li>\n",
       "\t<li>36</li>\n",
       "\t<li>45</li>\n",
       "\t<li>91</li>\n",
       "\t<li>13</li>\n",
       "\t<li>4</li>\n",
       "\t<li>78</li>\n",
       "</ol>\n"
      ],
      "text/latex": [
       "\\begin{enumerate*}\n",
       "\\item 36\n",
       "\\item 54\n",
       "\\item 18\n",
       "\\item 89\n",
       "\\item 55\n",
       "\\item 49\n",
       "\\item 70\n",
       "\\item 89\n",
       "\\item 63\n",
       "\\item 78\n",
       "\\item 89\n",
       "\\item 21\n",
       "\\item 31\n",
       "\\item 34\n",
       "\\item 28\n",
       "\\item 26\n",
       "\\item 60\n",
       "\\item 47\n",
       "\\item 36\n",
       "\\item 45\n",
       "\\item 70\n",
       "\\item 97\n",
       "\\item 67\n",
       "\\item 63\n",
       "\\item 78\n",
       "\\item 46\n",
       "\\item 60\n",
       "\\item 99\n",
       "\\item 58\n",
       "\\item 25\n",
       "\\item 31\n",
       "\\item 74\n",
       "\\item 21\n",
       "\\item 36\n",
       "\\item 45\n",
       "\\item 91\n",
       "\\item 13\n",
       "\\item 4\n",
       "\\item 78\n",
       "\\end{enumerate*}\n"
      ],
      "text/markdown": [
       "1. 36\n",
       "2. 54\n",
       "3. 18\n",
       "4. 89\n",
       "5. 55\n",
       "6. 49\n",
       "7. 70\n",
       "8. 89\n",
       "9. 63\n",
       "10. 78\n",
       "11. 89\n",
       "12. 21\n",
       "13. 31\n",
       "14. 34\n",
       "15. 28\n",
       "16. 26\n",
       "17. 60\n",
       "18. 47\n",
       "19. 36\n",
       "20. 45\n",
       "21. 70\n",
       "22. 97\n",
       "23. 67\n",
       "24. 63\n",
       "25. 78\n",
       "26. 46\n",
       "27. 60\n",
       "28. 99\n",
       "29. 58\n",
       "30. 25\n",
       "31. 31\n",
       "32. 74\n",
       "33. 21\n",
       "34. 36\n",
       "35. 45\n",
       "36. 91\n",
       "37. 13\n",
       "38. 4\n",
       "39. 78\n",
       "\n",
       "\n"
      ],
      "text/plain": [
       " [1] 36 54 18 89 55 49 70 89 63 78 89 21 31 34 28 26 60 47 36 45 70 97 67 63 78\n",
       "[26] 46 60 99 58 25 31 74 21 36 45 91 13  4 78"
      ]
     },
     "metadata": {},
     "output_type": "display_data"
    }
   ],
   "source": [
    "mySample\n",
    "#Check if the sample contains any number twice.\n",
    "mySample[duplicated(mySample)] "
   ]
  },
  {
   "cell_type": "code",
   "execution_count": 19,
   "metadata": {},
   "outputs": [
    {
     "name": "stdout",
     "output_type": "stream",
     "text": [
      "[1] 10.00000 46.60000 29.77396\n",
      "[1] 20.00000 52.95000 33.90928\n",
      "[1] 30.00000 46.80000 32.79655\n",
      "[1] 40.00000 51.37500 29.20282\n",
      "[1] 50.000 51.360 27.415\n",
      "[1] 60.00000 55.48333 27.54503\n",
      "[1] 70.00000 50.32857 25.93510\n",
      "[1] 80.0000 52.0750 27.7702\n",
      "[1] 90.00000 53.08889 29.20507\n",
      "[1] 100.00000  52.48000  28.59981\n",
      "[1] 100.00000  54.71000  30.56283\n",
      "[1] 200.00000  50.02000  29.48894\n",
      "[1] 300.00000  51.89667  29.58338\n",
      "[1] 400.00000  51.75500  29.13696\n",
      "[1] 500.00000  49.87800  28.62793\n",
      "[1] 600.00000  50.30667  28.71957\n",
      "[1] 700.00000  49.89857  28.73200\n",
      "[1] 800.00000  50.05125  28.68200\n",
      "[1] 900.00000  49.61778  29.07435\n",
      "[1] 1000.00000   50.60700   28.76947\n"
     ]
    }
   ],
   "source": [
    "#how the standard deviation of the sample changes with sample size\n",
    "for (i in c(seq(10,100,by=10), seq(100,1000,by=100))) #c连接两个循环集\n",
    "{mySample <-sample(1:100, i, replace=T) #sample表示随机抽样,i用于改变sample的size,replace=T 代表可以重复抽样\n",
    " print (c(i, mean(mySample),sd(mySample))) } "
   ]
  },
  {
   "cell_type": "code",
   "execution_count": 20,
   "metadata": {},
   "outputs": [
    {
     "data": {
      "text/html": [
       "<table>\n",
       "<thead><tr><th scope=col>Sepal.Length</th><th scope=col>Sepal.Width</th><th scope=col>Petal.Length</th><th scope=col>Petal.Width</th><th scope=col>Species</th></tr></thead>\n",
       "<tbody>\n",
       "\t<tr><td>5.1   </td><td>3.5   </td><td>1.4   </td><td>0.2   </td><td>setosa</td></tr>\n",
       "\t<tr><td>4.9   </td><td>3.0   </td><td>1.4   </td><td>0.2   </td><td>setosa</td></tr>\n",
       "\t<tr><td>4.7   </td><td>3.2   </td><td>1.3   </td><td>0.2   </td><td>setosa</td></tr>\n",
       "\t<tr><td>4.6   </td><td>3.1   </td><td>1.5   </td><td>0.2   </td><td>setosa</td></tr>\n",
       "\t<tr><td>5.0   </td><td>3.6   </td><td>1.4   </td><td>0.2   </td><td>setosa</td></tr>\n",
       "\t<tr><td>5.4   </td><td>3.9   </td><td>1.7   </td><td>0.4   </td><td>setosa</td></tr>\n",
       "\t<tr><td>4.6   </td><td>3.4   </td><td>1.4   </td><td>0.3   </td><td>setosa</td></tr>\n",
       "\t<tr><td>5.0   </td><td>3.4   </td><td>1.5   </td><td>0.2   </td><td>setosa</td></tr>\n",
       "\t<tr><td>4.4   </td><td>2.9   </td><td>1.4   </td><td>0.2   </td><td>setosa</td></tr>\n",
       "\t<tr><td>4.9   </td><td>3.1   </td><td>1.5   </td><td>0.1   </td><td>setosa</td></tr>\n",
       "\t<tr><td>5.4   </td><td>3.7   </td><td>1.5   </td><td>0.2   </td><td>setosa</td></tr>\n",
       "\t<tr><td>4.8   </td><td>3.4   </td><td>1.6   </td><td>0.2   </td><td>setosa</td></tr>\n",
       "\t<tr><td>4.8   </td><td>3.0   </td><td>1.4   </td><td>0.1   </td><td>setosa</td></tr>\n",
       "\t<tr><td>4.3   </td><td>3.0   </td><td>1.1   </td><td>0.1   </td><td>setosa</td></tr>\n",
       "\t<tr><td>5.8   </td><td>4.0   </td><td>1.2   </td><td>0.2   </td><td>setosa</td></tr>\n",
       "\t<tr><td>5.7   </td><td>4.4   </td><td>1.5   </td><td>0.4   </td><td>setosa</td></tr>\n",
       "\t<tr><td>5.4   </td><td>3.9   </td><td>1.3   </td><td>0.4   </td><td>setosa</td></tr>\n",
       "\t<tr><td>5.1   </td><td>3.5   </td><td>1.4   </td><td>0.3   </td><td>setosa</td></tr>\n",
       "\t<tr><td>5.7   </td><td>3.8   </td><td>1.7   </td><td>0.3   </td><td>setosa</td></tr>\n",
       "\t<tr><td>5.1   </td><td>3.8   </td><td>1.5   </td><td>0.3   </td><td>setosa</td></tr>\n",
       "\t<tr><td>5.4   </td><td>3.4   </td><td>1.7   </td><td>0.2   </td><td>setosa</td></tr>\n",
       "\t<tr><td>5.1   </td><td>3.7   </td><td>1.5   </td><td>0.4   </td><td>setosa</td></tr>\n",
       "\t<tr><td>4.6   </td><td>3.6   </td><td>1.0   </td><td>0.2   </td><td>setosa</td></tr>\n",
       "\t<tr><td>5.1   </td><td>3.3   </td><td>1.7   </td><td>0.5   </td><td>setosa</td></tr>\n",
       "\t<tr><td>4.8   </td><td>3.4   </td><td>1.9   </td><td>0.2   </td><td>setosa</td></tr>\n",
       "\t<tr><td>5.0   </td><td>3.0   </td><td>1.6   </td><td>0.2   </td><td>setosa</td></tr>\n",
       "\t<tr><td>5.0   </td><td>3.4   </td><td>1.6   </td><td>0.4   </td><td>setosa</td></tr>\n",
       "\t<tr><td>5.2   </td><td>3.5   </td><td>1.5   </td><td>0.2   </td><td>setosa</td></tr>\n",
       "\t<tr><td>5.2   </td><td>3.4   </td><td>1.4   </td><td>0.2   </td><td>setosa</td></tr>\n",
       "\t<tr><td>4.7   </td><td>3.2   </td><td>1.6   </td><td>0.2   </td><td>setosa</td></tr>\n",
       "\t<tr><td>...</td><td>...</td><td>...</td><td>...</td><td>...</td></tr>\n",
       "\t<tr><td>6.9      </td><td>3.2      </td><td>5.7      </td><td>2.3      </td><td>virginica</td></tr>\n",
       "\t<tr><td>5.6      </td><td>2.8      </td><td>4.9      </td><td>2.0      </td><td>virginica</td></tr>\n",
       "\t<tr><td>7.7      </td><td>2.8      </td><td>6.7      </td><td>2.0      </td><td>virginica</td></tr>\n",
       "\t<tr><td>6.3      </td><td>2.7      </td><td>4.9      </td><td>1.8      </td><td>virginica</td></tr>\n",
       "\t<tr><td>6.7      </td><td>3.3      </td><td>5.7      </td><td>2.1      </td><td>virginica</td></tr>\n",
       "\t<tr><td>7.2      </td><td>3.2      </td><td>6.0      </td><td>1.8      </td><td>virginica</td></tr>\n",
       "\t<tr><td>6.2      </td><td>2.8      </td><td>4.8      </td><td>1.8      </td><td>virginica</td></tr>\n",
       "\t<tr><td>6.1      </td><td>3.0      </td><td>4.9      </td><td>1.8      </td><td>virginica</td></tr>\n",
       "\t<tr><td>6.4      </td><td>2.8      </td><td>5.6      </td><td>2.1      </td><td>virginica</td></tr>\n",
       "\t<tr><td>7.2      </td><td>3.0      </td><td>5.8      </td><td>1.6      </td><td>virginica</td></tr>\n",
       "\t<tr><td>7.4      </td><td>2.8      </td><td>6.1      </td><td>1.9      </td><td>virginica</td></tr>\n",
       "\t<tr><td>7.9      </td><td>3.8      </td><td>6.4      </td><td>2.0      </td><td>virginica</td></tr>\n",
       "\t<tr><td>6.4      </td><td>2.8      </td><td>5.6      </td><td>2.2      </td><td>virginica</td></tr>\n",
       "\t<tr><td>6.3      </td><td>2.8      </td><td>5.1      </td><td>1.5      </td><td>virginica</td></tr>\n",
       "\t<tr><td>6.1      </td><td>2.6      </td><td>5.6      </td><td>1.4      </td><td>virginica</td></tr>\n",
       "\t<tr><td>7.7      </td><td>3.0      </td><td>6.1      </td><td>2.3      </td><td>virginica</td></tr>\n",
       "\t<tr><td>6.3      </td><td>3.4      </td><td>5.6      </td><td>2.4      </td><td>virginica</td></tr>\n",
       "\t<tr><td>6.4      </td><td>3.1      </td><td>5.5      </td><td>1.8      </td><td>virginica</td></tr>\n",
       "\t<tr><td>6.0      </td><td>3.0      </td><td>4.8      </td><td>1.8      </td><td>virginica</td></tr>\n",
       "\t<tr><td>6.9      </td><td>3.1      </td><td>5.4      </td><td>2.1      </td><td>virginica</td></tr>\n",
       "\t<tr><td>6.7      </td><td>3.1      </td><td>5.6      </td><td>2.4      </td><td>virginica</td></tr>\n",
       "\t<tr><td>6.9      </td><td>3.1      </td><td>5.1      </td><td>2.3      </td><td>virginica</td></tr>\n",
       "\t<tr><td>5.8      </td><td>2.7      </td><td>5.1      </td><td>1.9      </td><td>virginica</td></tr>\n",
       "\t<tr><td>6.8      </td><td>3.2      </td><td>5.9      </td><td>2.3      </td><td>virginica</td></tr>\n",
       "\t<tr><td>6.7      </td><td>3.3      </td><td>5.7      </td><td>2.5      </td><td>virginica</td></tr>\n",
       "\t<tr><td>6.7      </td><td>3.0      </td><td>5.2      </td><td>2.3      </td><td>virginica</td></tr>\n",
       "\t<tr><td>6.3      </td><td>2.5      </td><td>5.0      </td><td>1.9      </td><td>virginica</td></tr>\n",
       "\t<tr><td>6.5      </td><td>3.0      </td><td>5.2      </td><td>2.0      </td><td>virginica</td></tr>\n",
       "\t<tr><td>6.2      </td><td>3.4      </td><td>5.4      </td><td>2.3      </td><td>virginica</td></tr>\n",
       "\t<tr><td>5.9      </td><td>3.0      </td><td>5.1      </td><td>1.8      </td><td>virginica</td></tr>\n",
       "</tbody>\n",
       "</table>\n"
      ],
      "text/latex": [
       "\\begin{tabular}{r|lllll}\n",
       " Sepal.Length & Sepal.Width & Petal.Length & Petal.Width & Species\\\\\n",
       "\\hline\n",
       "\t 5.1    & 3.5    & 1.4    & 0.2    & setosa\\\\\n",
       "\t 4.9    & 3.0    & 1.4    & 0.2    & setosa\\\\\n",
       "\t 4.7    & 3.2    & 1.3    & 0.2    & setosa\\\\\n",
       "\t 4.6    & 3.1    & 1.5    & 0.2    & setosa\\\\\n",
       "\t 5.0    & 3.6    & 1.4    & 0.2    & setosa\\\\\n",
       "\t 5.4    & 3.9    & 1.7    & 0.4    & setosa\\\\\n",
       "\t 4.6    & 3.4    & 1.4    & 0.3    & setosa\\\\\n",
       "\t 5.0    & 3.4    & 1.5    & 0.2    & setosa\\\\\n",
       "\t 4.4    & 2.9    & 1.4    & 0.2    & setosa\\\\\n",
       "\t 4.9    & 3.1    & 1.5    & 0.1    & setosa\\\\\n",
       "\t 5.4    & 3.7    & 1.5    & 0.2    & setosa\\\\\n",
       "\t 4.8    & 3.4    & 1.6    & 0.2    & setosa\\\\\n",
       "\t 4.8    & 3.0    & 1.4    & 0.1    & setosa\\\\\n",
       "\t 4.3    & 3.0    & 1.1    & 0.1    & setosa\\\\\n",
       "\t 5.8    & 4.0    & 1.2    & 0.2    & setosa\\\\\n",
       "\t 5.7    & 4.4    & 1.5    & 0.4    & setosa\\\\\n",
       "\t 5.4    & 3.9    & 1.3    & 0.4    & setosa\\\\\n",
       "\t 5.1    & 3.5    & 1.4    & 0.3    & setosa\\\\\n",
       "\t 5.7    & 3.8    & 1.7    & 0.3    & setosa\\\\\n",
       "\t 5.1    & 3.8    & 1.5    & 0.3    & setosa\\\\\n",
       "\t 5.4    & 3.4    & 1.7    & 0.2    & setosa\\\\\n",
       "\t 5.1    & 3.7    & 1.5    & 0.4    & setosa\\\\\n",
       "\t 4.6    & 3.6    & 1.0    & 0.2    & setosa\\\\\n",
       "\t 5.1    & 3.3    & 1.7    & 0.5    & setosa\\\\\n",
       "\t 4.8    & 3.4    & 1.9    & 0.2    & setosa\\\\\n",
       "\t 5.0    & 3.0    & 1.6    & 0.2    & setosa\\\\\n",
       "\t 5.0    & 3.4    & 1.6    & 0.4    & setosa\\\\\n",
       "\t 5.2    & 3.5    & 1.5    & 0.2    & setosa\\\\\n",
       "\t 5.2    & 3.4    & 1.4    & 0.2    & setosa\\\\\n",
       "\t 4.7    & 3.2    & 1.6    & 0.2    & setosa\\\\\n",
       "\t ... & ... & ... & ... & ...\\\\\n",
       "\t 6.9       & 3.2       & 5.7       & 2.3       & virginica\\\\\n",
       "\t 5.6       & 2.8       & 4.9       & 2.0       & virginica\\\\\n",
       "\t 7.7       & 2.8       & 6.7       & 2.0       & virginica\\\\\n",
       "\t 6.3       & 2.7       & 4.9       & 1.8       & virginica\\\\\n",
       "\t 6.7       & 3.3       & 5.7       & 2.1       & virginica\\\\\n",
       "\t 7.2       & 3.2       & 6.0       & 1.8       & virginica\\\\\n",
       "\t 6.2       & 2.8       & 4.8       & 1.8       & virginica\\\\\n",
       "\t 6.1       & 3.0       & 4.9       & 1.8       & virginica\\\\\n",
       "\t 6.4       & 2.8       & 5.6       & 2.1       & virginica\\\\\n",
       "\t 7.2       & 3.0       & 5.8       & 1.6       & virginica\\\\\n",
       "\t 7.4       & 2.8       & 6.1       & 1.9       & virginica\\\\\n",
       "\t 7.9       & 3.8       & 6.4       & 2.0       & virginica\\\\\n",
       "\t 6.4       & 2.8       & 5.6       & 2.2       & virginica\\\\\n",
       "\t 6.3       & 2.8       & 5.1       & 1.5       & virginica\\\\\n",
       "\t 6.1       & 2.6       & 5.6       & 1.4       & virginica\\\\\n",
       "\t 7.7       & 3.0       & 6.1       & 2.3       & virginica\\\\\n",
       "\t 6.3       & 3.4       & 5.6       & 2.4       & virginica\\\\\n",
       "\t 6.4       & 3.1       & 5.5       & 1.8       & virginica\\\\\n",
       "\t 6.0       & 3.0       & 4.8       & 1.8       & virginica\\\\\n",
       "\t 6.9       & 3.1       & 5.4       & 2.1       & virginica\\\\\n",
       "\t 6.7       & 3.1       & 5.6       & 2.4       & virginica\\\\\n",
       "\t 6.9       & 3.1       & 5.1       & 2.3       & virginica\\\\\n",
       "\t 5.8       & 2.7       & 5.1       & 1.9       & virginica\\\\\n",
       "\t 6.8       & 3.2       & 5.9       & 2.3       & virginica\\\\\n",
       "\t 6.7       & 3.3       & 5.7       & 2.5       & virginica\\\\\n",
       "\t 6.7       & 3.0       & 5.2       & 2.3       & virginica\\\\\n",
       "\t 6.3       & 2.5       & 5.0       & 1.9       & virginica\\\\\n",
       "\t 6.5       & 3.0       & 5.2       & 2.0       & virginica\\\\\n",
       "\t 6.2       & 3.4       & 5.4       & 2.3       & virginica\\\\\n",
       "\t 5.9       & 3.0       & 5.1       & 1.8       & virginica\\\\\n",
       "\\end{tabular}\n"
      ],
      "text/markdown": [
       "\n",
       "Sepal.Length | Sepal.Width | Petal.Length | Petal.Width | Species | \n",
       "|---|---|---|---|---|---|---|---|---|---|---|---|---|---|---|---|---|---|---|---|---|---|---|---|---|---|---|---|---|---|---|---|---|---|---|---|---|---|---|---|---|---|---|---|---|---|---|---|---|---|---|---|---|---|---|---|---|---|---|---|---|\n",
       "| 5.1    | 3.5    | 1.4    | 0.2    | setosa | \n",
       "| 4.9    | 3.0    | 1.4    | 0.2    | setosa | \n",
       "| 4.7    | 3.2    | 1.3    | 0.2    | setosa | \n",
       "| 4.6    | 3.1    | 1.5    | 0.2    | setosa | \n",
       "| 5.0    | 3.6    | 1.4    | 0.2    | setosa | \n",
       "| 5.4    | 3.9    | 1.7    | 0.4    | setosa | \n",
       "| 4.6    | 3.4    | 1.4    | 0.3    | setosa | \n",
       "| 5.0    | 3.4    | 1.5    | 0.2    | setosa | \n",
       "| 4.4    | 2.9    | 1.4    | 0.2    | setosa | \n",
       "| 4.9    | 3.1    | 1.5    | 0.1    | setosa | \n",
       "| 5.4    | 3.7    | 1.5    | 0.2    | setosa | \n",
       "| 4.8    | 3.4    | 1.6    | 0.2    | setosa | \n",
       "| 4.8    | 3.0    | 1.4    | 0.1    | setosa | \n",
       "| 4.3    | 3.0    | 1.1    | 0.1    | setosa | \n",
       "| 5.8    | 4.0    | 1.2    | 0.2    | setosa | \n",
       "| 5.7    | 4.4    | 1.5    | 0.4    | setosa | \n",
       "| 5.4    | 3.9    | 1.3    | 0.4    | setosa | \n",
       "| 5.1    | 3.5    | 1.4    | 0.3    | setosa | \n",
       "| 5.7    | 3.8    | 1.7    | 0.3    | setosa | \n",
       "| 5.1    | 3.8    | 1.5    | 0.3    | setosa | \n",
       "| 5.4    | 3.4    | 1.7    | 0.2    | setosa | \n",
       "| 5.1    | 3.7    | 1.5    | 0.4    | setosa | \n",
       "| 4.6    | 3.6    | 1.0    | 0.2    | setosa | \n",
       "| 5.1    | 3.3    | 1.7    | 0.5    | setosa | \n",
       "| 4.8    | 3.4    | 1.9    | 0.2    | setosa | \n",
       "| 5.0    | 3.0    | 1.6    | 0.2    | setosa | \n",
       "| 5.0    | 3.4    | 1.6    | 0.4    | setosa | \n",
       "| 5.2    | 3.5    | 1.5    | 0.2    | setosa | \n",
       "| 5.2    | 3.4    | 1.4    | 0.2    | setosa | \n",
       "| 4.7    | 3.2    | 1.6    | 0.2    | setosa | \n",
       "| ... | ... | ... | ... | ... | \n",
       "| 6.9       | 3.2       | 5.7       | 2.3       | virginica | \n",
       "| 5.6       | 2.8       | 4.9       | 2.0       | virginica | \n",
       "| 7.7       | 2.8       | 6.7       | 2.0       | virginica | \n",
       "| 6.3       | 2.7       | 4.9       | 1.8       | virginica | \n",
       "| 6.7       | 3.3       | 5.7       | 2.1       | virginica | \n",
       "| 7.2       | 3.2       | 6.0       | 1.8       | virginica | \n",
       "| 6.2       | 2.8       | 4.8       | 1.8       | virginica | \n",
       "| 6.1       | 3.0       | 4.9       | 1.8       | virginica | \n",
       "| 6.4       | 2.8       | 5.6       | 2.1       | virginica | \n",
       "| 7.2       | 3.0       | 5.8       | 1.6       | virginica | \n",
       "| 7.4       | 2.8       | 6.1       | 1.9       | virginica | \n",
       "| 7.9       | 3.8       | 6.4       | 2.0       | virginica | \n",
       "| 6.4       | 2.8       | 5.6       | 2.2       | virginica | \n",
       "| 6.3       | 2.8       | 5.1       | 1.5       | virginica | \n",
       "| 6.1       | 2.6       | 5.6       | 1.4       | virginica | \n",
       "| 7.7       | 3.0       | 6.1       | 2.3       | virginica | \n",
       "| 6.3       | 3.4       | 5.6       | 2.4       | virginica | \n",
       "| 6.4       | 3.1       | 5.5       | 1.8       | virginica | \n",
       "| 6.0       | 3.0       | 4.8       | 1.8       | virginica | \n",
       "| 6.9       | 3.1       | 5.4       | 2.1       | virginica | \n",
       "| 6.7       | 3.1       | 5.6       | 2.4       | virginica | \n",
       "| 6.9       | 3.1       | 5.1       | 2.3       | virginica | \n",
       "| 5.8       | 2.7       | 5.1       | 1.9       | virginica | \n",
       "| 6.8       | 3.2       | 5.9       | 2.3       | virginica | \n",
       "| 6.7       | 3.3       | 5.7       | 2.5       | virginica | \n",
       "| 6.7       | 3.0       | 5.2       | 2.3       | virginica | \n",
       "| 6.3       | 2.5       | 5.0       | 1.9       | virginica | \n",
       "| 6.5       | 3.0       | 5.2       | 2.0       | virginica | \n",
       "| 6.2       | 3.4       | 5.4       | 2.3       | virginica | \n",
       "| 5.9       | 3.0       | 5.1       | 1.8       | virginica | \n",
       "\n",
       "\n"
      ],
      "text/plain": [
       "    Sepal.Length Sepal.Width Petal.Length Petal.Width Species  \n",
       "1   5.1          3.5         1.4          0.2         setosa   \n",
       "2   4.9          3.0         1.4          0.2         setosa   \n",
       "3   4.7          3.2         1.3          0.2         setosa   \n",
       "4   4.6          3.1         1.5          0.2         setosa   \n",
       "5   5.0          3.6         1.4          0.2         setosa   \n",
       "6   5.4          3.9         1.7          0.4         setosa   \n",
       "7   4.6          3.4         1.4          0.3         setosa   \n",
       "8   5.0          3.4         1.5          0.2         setosa   \n",
       "9   4.4          2.9         1.4          0.2         setosa   \n",
       "10  4.9          3.1         1.5          0.1         setosa   \n",
       "11  5.4          3.7         1.5          0.2         setosa   \n",
       "12  4.8          3.4         1.6          0.2         setosa   \n",
       "13  4.8          3.0         1.4          0.1         setosa   \n",
       "14  4.3          3.0         1.1          0.1         setosa   \n",
       "15  5.8          4.0         1.2          0.2         setosa   \n",
       "16  5.7          4.4         1.5          0.4         setosa   \n",
       "17  5.4          3.9         1.3          0.4         setosa   \n",
       "18  5.1          3.5         1.4          0.3         setosa   \n",
       "19  5.7          3.8         1.7          0.3         setosa   \n",
       "20  5.1          3.8         1.5          0.3         setosa   \n",
       "21  5.4          3.4         1.7          0.2         setosa   \n",
       "22  5.1          3.7         1.5          0.4         setosa   \n",
       "23  4.6          3.6         1.0          0.2         setosa   \n",
       "24  5.1          3.3         1.7          0.5         setosa   \n",
       "25  4.8          3.4         1.9          0.2         setosa   \n",
       "26  5.0          3.0         1.6          0.2         setosa   \n",
       "27  5.0          3.4         1.6          0.4         setosa   \n",
       "28  5.2          3.5         1.5          0.2         setosa   \n",
       "29  5.2          3.4         1.4          0.2         setosa   \n",
       "30  4.7          3.2         1.6          0.2         setosa   \n",
       "... ...          ...         ...          ...         ...      \n",
       "121 6.9          3.2         5.7          2.3         virginica\n",
       "122 5.6          2.8         4.9          2.0         virginica\n",
       "123 7.7          2.8         6.7          2.0         virginica\n",
       "124 6.3          2.7         4.9          1.8         virginica\n",
       "125 6.7          3.3         5.7          2.1         virginica\n",
       "126 7.2          3.2         6.0          1.8         virginica\n",
       "127 6.2          2.8         4.8          1.8         virginica\n",
       "128 6.1          3.0         4.9          1.8         virginica\n",
       "129 6.4          2.8         5.6          2.1         virginica\n",
       "130 7.2          3.0         5.8          1.6         virginica\n",
       "131 7.4          2.8         6.1          1.9         virginica\n",
       "132 7.9          3.8         6.4          2.0         virginica\n",
       "133 6.4          2.8         5.6          2.2         virginica\n",
       "134 6.3          2.8         5.1          1.5         virginica\n",
       "135 6.1          2.6         5.6          1.4         virginica\n",
       "136 7.7          3.0         6.1          2.3         virginica\n",
       "137 6.3          3.4         5.6          2.4         virginica\n",
       "138 6.4          3.1         5.5          1.8         virginica\n",
       "139 6.0          3.0         4.8          1.8         virginica\n",
       "140 6.9          3.1         5.4          2.1         virginica\n",
       "141 6.7          3.1         5.6          2.4         virginica\n",
       "142 6.9          3.1         5.1          2.3         virginica\n",
       "143 5.8          2.7         5.1          1.9         virginica\n",
       "144 6.8          3.2         5.9          2.3         virginica\n",
       "145 6.7          3.3         5.7          2.5         virginica\n",
       "146 6.7          3.0         5.2          2.3         virginica\n",
       "147 6.3          2.5         5.0          1.9         virginica\n",
       "148 6.5          3.0         5.2          2.0         virginica\n",
       "149 6.2          3.4         5.4          2.3         virginica\n",
       "150 5.9          3.0         5.1          1.8         virginica"
      ]
     },
     "metadata": {},
     "output_type": "display_data"
    }
   ],
   "source": [
    "iris"
   ]
  },
  {
   "cell_type": "code",
   "execution_count": 21,
   "metadata": {},
   "outputs": [
    {
     "data": {
      "text/html": [
       "150"
      ],
      "text/latex": [
       "150"
      ],
      "text/markdown": [
       "150"
      ],
      "text/plain": [
       "[1] 150"
      ]
     },
     "metadata": {},
     "output_type": "display_data"
    },
    {
     "data": {
      "text/html": [
       "5"
      ],
      "text/latex": [
       "5"
      ],
      "text/markdown": [
       "5"
      ],
      "text/plain": [
       "[1] 5"
      ]
     },
     "metadata": {},
     "output_type": "display_data"
    }
   ],
   "source": [
    "nrow(iris)\n",
    "ncol(iris)"
   ]
  },
  {
   "cell_type": "code",
   "execution_count": 22,
   "metadata": {},
   "outputs": [
    {
     "data": {
      "text/html": [
       "<dl class=dl-horizontal>\n",
       "\t<dt>Sepal.Length</dt>\n",
       "\t\t<dd>'numeric'</dd>\n",
       "\t<dt>Sepal.Width</dt>\n",
       "\t\t<dd>'numeric'</dd>\n",
       "\t<dt>Petal.Length</dt>\n",
       "\t\t<dd>'numeric'</dd>\n",
       "\t<dt>Petal.Width</dt>\n",
       "\t\t<dd>'numeric'</dd>\n",
       "\t<dt>Species</dt>\n",
       "\t\t<dd>'factor'</dd>\n",
       "</dl>\n"
      ],
      "text/latex": [
       "\\begin{description*}\n",
       "\\item[Sepal.Length] 'numeric'\n",
       "\\item[Sepal.Width] 'numeric'\n",
       "\\item[Petal.Length] 'numeric'\n",
       "\\item[Petal.Width] 'numeric'\n",
       "\\item[Species] 'factor'\n",
       "\\end{description*}\n"
      ],
      "text/markdown": [
       "Sepal.Length\n",
       ":   'numeric'Sepal.Width\n",
       ":   'numeric'Petal.Length\n",
       ":   'numeric'Petal.Width\n",
       ":   'numeric'Species\n",
       ":   'factor'\n",
       "\n"
      ],
      "text/plain": [
       "Sepal.Length  Sepal.Width Petal.Length  Petal.Width      Species \n",
       "   \"numeric\"    \"numeric\"    \"numeric\"    \"numeric\"     \"factor\" "
      ]
     },
     "metadata": {},
     "output_type": "display_data"
    }
   ],
   "source": [
    "sapply(iris,class)"
   ]
  },
  {
   "cell_type": "code",
   "execution_count": 23,
   "metadata": {},
   "outputs": [
    {
     "data": {
      "text/html": [
       "'numeric'"
      ],
      "text/latex": [
       "'numeric'"
      ],
      "text/markdown": [
       "'numeric'"
      ],
      "text/plain": [
       "[1] \"numeric\""
      ]
     },
     "metadata": {},
     "output_type": "display_data"
    }
   ],
   "source": [
    "class(iris$Sepal.Length)"
   ]
  },
  {
   "cell_type": "code",
   "execution_count": 24,
   "metadata": {},
   "outputs": [
    {
     "data": {
      "text/html": [
       "'factor'"
      ],
      "text/latex": [
       "'factor'"
      ],
      "text/markdown": [
       "'factor'"
      ],
      "text/plain": [
       "[1] \"factor\""
      ]
     },
     "metadata": {},
     "output_type": "display_data"
    }
   ],
   "source": [
    "class(iris$Species)"
   ]
  },
  {
   "cell_type": "code",
   "execution_count": 25,
   "metadata": {},
   "outputs": [
    {
     "data": {
      "text/html": [
       "<table>\n",
       "<thead><tr><th></th><th scope=col>Petal.Width</th><th scope=col>Species</th></tr></thead>\n",
       "<tbody>\n",
       "\t<tr><th scope=row>149</th><td>2.3      </td><td>virginica</td></tr>\n",
       "\t<tr><th scope=row>150</th><td>1.8      </td><td>virginica</td></tr>\n",
       "</tbody>\n",
       "</table>\n"
      ],
      "text/latex": [
       "\\begin{tabular}{r|ll}\n",
       "  & Petal.Width & Species\\\\\n",
       "\\hline\n",
       "\t149 & 2.3       & virginica\\\\\n",
       "\t150 & 1.8       & virginica\\\\\n",
       "\\end{tabular}\n"
      ],
      "text/markdown": [
       "\n",
       "| <!--/--> | Petal.Width | Species | \n",
       "|---|---|\n",
       "| 149 | 2.3       | virginica | \n",
       "| 150 | 1.8       | virginica | \n",
       "\n",
       "\n"
      ],
      "text/plain": [
       "    Petal.Width Species  \n",
       "149 2.3         virginica\n",
       "150 1.8         virginica"
      ]
     },
     "metadata": {},
     "output_type": "display_data"
    }
   ],
   "source": [
    "#Get the last two rows in the last two columns of the iris data frame. \n",
    "#Get rows with Sepal.Width > 3.5 from iris. \n",
    "#Get the rows with the \"versicolor\" species from iris\n",
    "\n",
    "numRows <- nrow(iris)\n",
    "numCols <- ncol(iris)\n",
    "iris[(numRows-1):numRows, (numCols-1):numCols]\n"
   ]
  },
  {
   "cell_type": "code",
   "execution_count": 26,
   "metadata": {},
   "outputs": [
    {
     "data": {
      "text/html": [
       "<table>\n",
       "<thead><tr><th></th><th scope=col>Sepal.Length</th><th scope=col>Sepal.Width</th><th scope=col>Petal.Length</th><th scope=col>Petal.Width</th><th scope=col>Species</th></tr></thead>\n",
       "<tbody>\n",
       "\t<tr><th scope=row>5</th><td>5.0      </td><td>3.6      </td><td>1.4      </td><td>0.2      </td><td>setosa   </td></tr>\n",
       "\t<tr><th scope=row>6</th><td>5.4      </td><td>3.9      </td><td>1.7      </td><td>0.4      </td><td>setosa   </td></tr>\n",
       "\t<tr><th scope=row>11</th><td>5.4      </td><td>3.7      </td><td>1.5      </td><td>0.2      </td><td>setosa   </td></tr>\n",
       "\t<tr><th scope=row>15</th><td>5.8      </td><td>4.0      </td><td>1.2      </td><td>0.2      </td><td>setosa   </td></tr>\n",
       "\t<tr><th scope=row>16</th><td>5.7      </td><td>4.4      </td><td>1.5      </td><td>0.4      </td><td>setosa   </td></tr>\n",
       "\t<tr><th scope=row>17</th><td>5.4      </td><td>3.9      </td><td>1.3      </td><td>0.4      </td><td>setosa   </td></tr>\n",
       "\t<tr><th scope=row>19</th><td>5.7      </td><td>3.8      </td><td>1.7      </td><td>0.3      </td><td>setosa   </td></tr>\n",
       "\t<tr><th scope=row>20</th><td>5.1      </td><td>3.8      </td><td>1.5      </td><td>0.3      </td><td>setosa   </td></tr>\n",
       "\t<tr><th scope=row>22</th><td>5.1      </td><td>3.7      </td><td>1.5      </td><td>0.4      </td><td>setosa   </td></tr>\n",
       "\t<tr><th scope=row>23</th><td>4.6      </td><td>3.6      </td><td>1.0      </td><td>0.2      </td><td>setosa   </td></tr>\n",
       "\t<tr><th scope=row>33</th><td>5.2      </td><td>4.1      </td><td>1.5      </td><td>0.1      </td><td>setosa   </td></tr>\n",
       "\t<tr><th scope=row>34</th><td>5.5      </td><td>4.2      </td><td>1.4      </td><td>0.2      </td><td>setosa   </td></tr>\n",
       "\t<tr><th scope=row>38</th><td>4.9      </td><td>3.6      </td><td>1.4      </td><td>0.1      </td><td>setosa   </td></tr>\n",
       "\t<tr><th scope=row>45</th><td>5.1      </td><td>3.8      </td><td>1.9      </td><td>0.4      </td><td>setosa   </td></tr>\n",
       "\t<tr><th scope=row>47</th><td>5.1      </td><td>3.8      </td><td>1.6      </td><td>0.2      </td><td>setosa   </td></tr>\n",
       "\t<tr><th scope=row>49</th><td>5.3      </td><td>3.7      </td><td>1.5      </td><td>0.2      </td><td>setosa   </td></tr>\n",
       "\t<tr><th scope=row>110</th><td>7.2      </td><td>3.6      </td><td>6.1      </td><td>2.5      </td><td>virginica</td></tr>\n",
       "\t<tr><th scope=row>118</th><td>7.7      </td><td>3.8      </td><td>6.7      </td><td>2.2      </td><td>virginica</td></tr>\n",
       "\t<tr><th scope=row>132</th><td>7.9      </td><td>3.8      </td><td>6.4      </td><td>2.0      </td><td>virginica</td></tr>\n",
       "</tbody>\n",
       "</table>\n"
      ],
      "text/latex": [
       "\\begin{tabular}{r|lllll}\n",
       "  & Sepal.Length & Sepal.Width & Petal.Length & Petal.Width & Species\\\\\n",
       "\\hline\n",
       "\t5 & 5.0       & 3.6       & 1.4       & 0.2       & setosa   \\\\\n",
       "\t6 & 5.4       & 3.9       & 1.7       & 0.4       & setosa   \\\\\n",
       "\t11 & 5.4       & 3.7       & 1.5       & 0.2       & setosa   \\\\\n",
       "\t15 & 5.8       & 4.0       & 1.2       & 0.2       & setosa   \\\\\n",
       "\t16 & 5.7       & 4.4       & 1.5       & 0.4       & setosa   \\\\\n",
       "\t17 & 5.4       & 3.9       & 1.3       & 0.4       & setosa   \\\\\n",
       "\t19 & 5.7       & 3.8       & 1.7       & 0.3       & setosa   \\\\\n",
       "\t20 & 5.1       & 3.8       & 1.5       & 0.3       & setosa   \\\\\n",
       "\t22 & 5.1       & 3.7       & 1.5       & 0.4       & setosa   \\\\\n",
       "\t23 & 4.6       & 3.6       & 1.0       & 0.2       & setosa   \\\\\n",
       "\t33 & 5.2       & 4.1       & 1.5       & 0.1       & setosa   \\\\\n",
       "\t34 & 5.5       & 4.2       & 1.4       & 0.2       & setosa   \\\\\n",
       "\t38 & 4.9       & 3.6       & 1.4       & 0.1       & setosa   \\\\\n",
       "\t45 & 5.1       & 3.8       & 1.9       & 0.4       & setosa   \\\\\n",
       "\t47 & 5.1       & 3.8       & 1.6       & 0.2       & setosa   \\\\\n",
       "\t49 & 5.3       & 3.7       & 1.5       & 0.2       & setosa   \\\\\n",
       "\t110 & 7.2       & 3.6       & 6.1       & 2.5       & virginica\\\\\n",
       "\t118 & 7.7       & 3.8       & 6.7       & 2.2       & virginica\\\\\n",
       "\t132 & 7.9       & 3.8       & 6.4       & 2.0       & virginica\\\\\n",
       "\\end{tabular}\n"
      ],
      "text/markdown": [
       "\n",
       "| <!--/--> | Sepal.Length | Sepal.Width | Petal.Length | Petal.Width | Species | \n",
       "|---|---|---|---|---|---|---|---|---|---|---|---|---|---|---|---|---|---|---|\n",
       "| 5 | 5.0       | 3.6       | 1.4       | 0.2       | setosa    | \n",
       "| 6 | 5.4       | 3.9       | 1.7       | 0.4       | setosa    | \n",
       "| 11 | 5.4       | 3.7       | 1.5       | 0.2       | setosa    | \n",
       "| 15 | 5.8       | 4.0       | 1.2       | 0.2       | setosa    | \n",
       "| 16 | 5.7       | 4.4       | 1.5       | 0.4       | setosa    | \n",
       "| 17 | 5.4       | 3.9       | 1.3       | 0.4       | setosa    | \n",
       "| 19 | 5.7       | 3.8       | 1.7       | 0.3       | setosa    | \n",
       "| 20 | 5.1       | 3.8       | 1.5       | 0.3       | setosa    | \n",
       "| 22 | 5.1       | 3.7       | 1.5       | 0.4       | setosa    | \n",
       "| 23 | 4.6       | 3.6       | 1.0       | 0.2       | setosa    | \n",
       "| 33 | 5.2       | 4.1       | 1.5       | 0.1       | setosa    | \n",
       "| 34 | 5.5       | 4.2       | 1.4       | 0.2       | setosa    | \n",
       "| 38 | 4.9       | 3.6       | 1.4       | 0.1       | setosa    | \n",
       "| 45 | 5.1       | 3.8       | 1.9       | 0.4       | setosa    | \n",
       "| 47 | 5.1       | 3.8       | 1.6       | 0.2       | setosa    | \n",
       "| 49 | 5.3       | 3.7       | 1.5       | 0.2       | setosa    | \n",
       "| 110 | 7.2       | 3.6       | 6.1       | 2.5       | virginica | \n",
       "| 118 | 7.7       | 3.8       | 6.7       | 2.2       | virginica | \n",
       "| 132 | 7.9       | 3.8       | 6.4       | 2.0       | virginica | \n",
       "\n",
       "\n"
      ],
      "text/plain": [
       "    Sepal.Length Sepal.Width Petal.Length Petal.Width Species  \n",
       "5   5.0          3.6         1.4          0.2         setosa   \n",
       "6   5.4          3.9         1.7          0.4         setosa   \n",
       "11  5.4          3.7         1.5          0.2         setosa   \n",
       "15  5.8          4.0         1.2          0.2         setosa   \n",
       "16  5.7          4.4         1.5          0.4         setosa   \n",
       "17  5.4          3.9         1.3          0.4         setosa   \n",
       "19  5.7          3.8         1.7          0.3         setosa   \n",
       "20  5.1          3.8         1.5          0.3         setosa   \n",
       "22  5.1          3.7         1.5          0.4         setosa   \n",
       "23  4.6          3.6         1.0          0.2         setosa   \n",
       "33  5.2          4.1         1.5          0.1         setosa   \n",
       "34  5.5          4.2         1.4          0.2         setosa   \n",
       "38  4.9          3.6         1.4          0.1         setosa   \n",
       "45  5.1          3.8         1.9          0.4         setosa   \n",
       "47  5.1          3.8         1.6          0.2         setosa   \n",
       "49  5.3          3.7         1.5          0.2         setosa   \n",
       "110 7.2          3.6         6.1          2.5         virginica\n",
       "118 7.7          3.8         6.7          2.2         virginica\n",
       "132 7.9          3.8         6.4          2.0         virginica"
      ]
     },
     "metadata": {},
     "output_type": "display_data"
    }
   ],
   "source": [
    "iris[iris$Sepal.Width > 3.5, ]"
   ]
  },
  {
   "cell_type": "code",
   "execution_count": 27,
   "metadata": {},
   "outputs": [
    {
     "data": {
      "text/html": [
       "<table>\n",
       "<thead><tr><th></th><th scope=col>Sepal.Length</th><th scope=col>Sepal.Width</th><th scope=col>Petal.Length</th><th scope=col>Petal.Width</th><th scope=col>Species</th></tr></thead>\n",
       "<tbody>\n",
       "\t<tr><th scope=row>5</th><td>5.0      </td><td>3.6      </td><td>1.4      </td><td>0.2      </td><td>setosa   </td></tr>\n",
       "\t<tr><th scope=row>6</th><td>5.4      </td><td>3.9      </td><td>1.7      </td><td>0.4      </td><td>setosa   </td></tr>\n",
       "\t<tr><th scope=row>11</th><td>5.4      </td><td>3.7      </td><td>1.5      </td><td>0.2      </td><td>setosa   </td></tr>\n",
       "\t<tr><th scope=row>15</th><td>5.8      </td><td>4.0      </td><td>1.2      </td><td>0.2      </td><td>setosa   </td></tr>\n",
       "\t<tr><th scope=row>16</th><td>5.7      </td><td>4.4      </td><td>1.5      </td><td>0.4      </td><td>setosa   </td></tr>\n",
       "\t<tr><th scope=row>17</th><td>5.4      </td><td>3.9      </td><td>1.3      </td><td>0.4      </td><td>setosa   </td></tr>\n",
       "\t<tr><th scope=row>19</th><td>5.7      </td><td>3.8      </td><td>1.7      </td><td>0.3      </td><td>setosa   </td></tr>\n",
       "\t<tr><th scope=row>20</th><td>5.1      </td><td>3.8      </td><td>1.5      </td><td>0.3      </td><td>setosa   </td></tr>\n",
       "\t<tr><th scope=row>22</th><td>5.1      </td><td>3.7      </td><td>1.5      </td><td>0.4      </td><td>setosa   </td></tr>\n",
       "\t<tr><th scope=row>23</th><td>4.6      </td><td>3.6      </td><td>1.0      </td><td>0.2      </td><td>setosa   </td></tr>\n",
       "\t<tr><th scope=row>33</th><td>5.2      </td><td>4.1      </td><td>1.5      </td><td>0.1      </td><td>setosa   </td></tr>\n",
       "\t<tr><th scope=row>34</th><td>5.5      </td><td>4.2      </td><td>1.4      </td><td>0.2      </td><td>setosa   </td></tr>\n",
       "\t<tr><th scope=row>38</th><td>4.9      </td><td>3.6      </td><td>1.4      </td><td>0.1      </td><td>setosa   </td></tr>\n",
       "\t<tr><th scope=row>45</th><td>5.1      </td><td>3.8      </td><td>1.9      </td><td>0.4      </td><td>setosa   </td></tr>\n",
       "\t<tr><th scope=row>47</th><td>5.1      </td><td>3.8      </td><td>1.6      </td><td>0.2      </td><td>setosa   </td></tr>\n",
       "\t<tr><th scope=row>49</th><td>5.3      </td><td>3.7      </td><td>1.5      </td><td>0.2      </td><td>setosa   </td></tr>\n",
       "\t<tr><th scope=row>110</th><td>7.2      </td><td>3.6      </td><td>6.1      </td><td>2.5      </td><td>virginica</td></tr>\n",
       "\t<tr><th scope=row>118</th><td>7.7      </td><td>3.8      </td><td>6.7      </td><td>2.2      </td><td>virginica</td></tr>\n",
       "\t<tr><th scope=row>132</th><td>7.9      </td><td>3.8      </td><td>6.4      </td><td>2.0      </td><td>virginica</td></tr>\n",
       "</tbody>\n",
       "</table>\n"
      ],
      "text/latex": [
       "\\begin{tabular}{r|lllll}\n",
       "  & Sepal.Length & Sepal.Width & Petal.Length & Petal.Width & Species\\\\\n",
       "\\hline\n",
       "\t5 & 5.0       & 3.6       & 1.4       & 0.2       & setosa   \\\\\n",
       "\t6 & 5.4       & 3.9       & 1.7       & 0.4       & setosa   \\\\\n",
       "\t11 & 5.4       & 3.7       & 1.5       & 0.2       & setosa   \\\\\n",
       "\t15 & 5.8       & 4.0       & 1.2       & 0.2       & setosa   \\\\\n",
       "\t16 & 5.7       & 4.4       & 1.5       & 0.4       & setosa   \\\\\n",
       "\t17 & 5.4       & 3.9       & 1.3       & 0.4       & setosa   \\\\\n",
       "\t19 & 5.7       & 3.8       & 1.7       & 0.3       & setosa   \\\\\n",
       "\t20 & 5.1       & 3.8       & 1.5       & 0.3       & setosa   \\\\\n",
       "\t22 & 5.1       & 3.7       & 1.5       & 0.4       & setosa   \\\\\n",
       "\t23 & 4.6       & 3.6       & 1.0       & 0.2       & setosa   \\\\\n",
       "\t33 & 5.2       & 4.1       & 1.5       & 0.1       & setosa   \\\\\n",
       "\t34 & 5.5       & 4.2       & 1.4       & 0.2       & setosa   \\\\\n",
       "\t38 & 4.9       & 3.6       & 1.4       & 0.1       & setosa   \\\\\n",
       "\t45 & 5.1       & 3.8       & 1.9       & 0.4       & setosa   \\\\\n",
       "\t47 & 5.1       & 3.8       & 1.6       & 0.2       & setosa   \\\\\n",
       "\t49 & 5.3       & 3.7       & 1.5       & 0.2       & setosa   \\\\\n",
       "\t110 & 7.2       & 3.6       & 6.1       & 2.5       & virginica\\\\\n",
       "\t118 & 7.7       & 3.8       & 6.7       & 2.2       & virginica\\\\\n",
       "\t132 & 7.9       & 3.8       & 6.4       & 2.0       & virginica\\\\\n",
       "\\end{tabular}\n"
      ],
      "text/markdown": [
       "\n",
       "| <!--/--> | Sepal.Length | Sepal.Width | Petal.Length | Petal.Width | Species | \n",
       "|---|---|---|---|---|---|---|---|---|---|---|---|---|---|---|---|---|---|---|\n",
       "| 5 | 5.0       | 3.6       | 1.4       | 0.2       | setosa    | \n",
       "| 6 | 5.4       | 3.9       | 1.7       | 0.4       | setosa    | \n",
       "| 11 | 5.4       | 3.7       | 1.5       | 0.2       | setosa    | \n",
       "| 15 | 5.8       | 4.0       | 1.2       | 0.2       | setosa    | \n",
       "| 16 | 5.7       | 4.4       | 1.5       | 0.4       | setosa    | \n",
       "| 17 | 5.4       | 3.9       | 1.3       | 0.4       | setosa    | \n",
       "| 19 | 5.7       | 3.8       | 1.7       | 0.3       | setosa    | \n",
       "| 20 | 5.1       | 3.8       | 1.5       | 0.3       | setosa    | \n",
       "| 22 | 5.1       | 3.7       | 1.5       | 0.4       | setosa    | \n",
       "| 23 | 4.6       | 3.6       | 1.0       | 0.2       | setosa    | \n",
       "| 33 | 5.2       | 4.1       | 1.5       | 0.1       | setosa    | \n",
       "| 34 | 5.5       | 4.2       | 1.4       | 0.2       | setosa    | \n",
       "| 38 | 4.9       | 3.6       | 1.4       | 0.1       | setosa    | \n",
       "| 45 | 5.1       | 3.8       | 1.9       | 0.4       | setosa    | \n",
       "| 47 | 5.1       | 3.8       | 1.6       | 0.2       | setosa    | \n",
       "| 49 | 5.3       | 3.7       | 1.5       | 0.2       | setosa    | \n",
       "| 110 | 7.2       | 3.6       | 6.1       | 2.5       | virginica | \n",
       "| 118 | 7.7       | 3.8       | 6.7       | 2.2       | virginica | \n",
       "| 132 | 7.9       | 3.8       | 6.4       | 2.0       | virginica | \n",
       "\n",
       "\n"
      ],
      "text/plain": [
       "    Sepal.Length Sepal.Width Petal.Length Petal.Width Species  \n",
       "5   5.0          3.6         1.4          0.2         setosa   \n",
       "6   5.4          3.9         1.7          0.4         setosa   \n",
       "11  5.4          3.7         1.5          0.2         setosa   \n",
       "15  5.8          4.0         1.2          0.2         setosa   \n",
       "16  5.7          4.4         1.5          0.4         setosa   \n",
       "17  5.4          3.9         1.3          0.4         setosa   \n",
       "19  5.7          3.8         1.7          0.3         setosa   \n",
       "20  5.1          3.8         1.5          0.3         setosa   \n",
       "22  5.1          3.7         1.5          0.4         setosa   \n",
       "23  4.6          3.6         1.0          0.2         setosa   \n",
       "33  5.2          4.1         1.5          0.1         setosa   \n",
       "34  5.5          4.2         1.4          0.2         setosa   \n",
       "38  4.9          3.6         1.4          0.1         setosa   \n",
       "45  5.1          3.8         1.9          0.4         setosa   \n",
       "47  5.1          3.8         1.6          0.2         setosa   \n",
       "49  5.3          3.7         1.5          0.2         setosa   \n",
       "110 7.2          3.6         6.1          2.5         virginica\n",
       "118 7.7          3.8         6.7          2.2         virginica\n",
       "132 7.9          3.8         6.4          2.0         virginica"
      ]
     },
     "metadata": {},
     "output_type": "display_data"
    }
   ],
   "source": [
    "iris[which(iris$Sepal.Width > 3.5),]"
   ]
  },
  {
   "cell_type": "code",
   "execution_count": 28,
   "metadata": {},
   "outputs": [
    {
     "data": {
      "text/html": [
       "<table>\n",
       "<thead><tr><th></th><th scope=col>Sepal.Length</th><th scope=col>Sepal.Width</th><th scope=col>Petal.Length</th><th scope=col>Petal.Width</th><th scope=col>Species</th></tr></thead>\n",
       "<tbody>\n",
       "\t<tr><th scope=row>51</th><td>7.0       </td><td>3.2       </td><td>4.7       </td><td>1.4       </td><td>versicolor</td></tr>\n",
       "\t<tr><th scope=row>52</th><td>6.4       </td><td>3.2       </td><td>4.5       </td><td>1.5       </td><td>versicolor</td></tr>\n",
       "\t<tr><th scope=row>53</th><td>6.9       </td><td>3.1       </td><td>4.9       </td><td>1.5       </td><td>versicolor</td></tr>\n",
       "\t<tr><th scope=row>54</th><td>5.5       </td><td>2.3       </td><td>4.0       </td><td>1.3       </td><td>versicolor</td></tr>\n",
       "\t<tr><th scope=row>55</th><td>6.5       </td><td>2.8       </td><td>4.6       </td><td>1.5       </td><td>versicolor</td></tr>\n",
       "\t<tr><th scope=row>56</th><td>5.7       </td><td>2.8       </td><td>4.5       </td><td>1.3       </td><td>versicolor</td></tr>\n",
       "\t<tr><th scope=row>57</th><td>6.3       </td><td>3.3       </td><td>4.7       </td><td>1.6       </td><td>versicolor</td></tr>\n",
       "\t<tr><th scope=row>58</th><td>4.9       </td><td>2.4       </td><td>3.3       </td><td>1.0       </td><td>versicolor</td></tr>\n",
       "\t<tr><th scope=row>59</th><td>6.6       </td><td>2.9       </td><td>4.6       </td><td>1.3       </td><td>versicolor</td></tr>\n",
       "\t<tr><th scope=row>60</th><td>5.2       </td><td>2.7       </td><td>3.9       </td><td>1.4       </td><td>versicolor</td></tr>\n",
       "\t<tr><th scope=row>61</th><td>5.0       </td><td>2.0       </td><td>3.5       </td><td>1.0       </td><td>versicolor</td></tr>\n",
       "\t<tr><th scope=row>62</th><td>5.9       </td><td>3.0       </td><td>4.2       </td><td>1.5       </td><td>versicolor</td></tr>\n",
       "\t<tr><th scope=row>63</th><td>6.0       </td><td>2.2       </td><td>4.0       </td><td>1.0       </td><td>versicolor</td></tr>\n",
       "\t<tr><th scope=row>64</th><td>6.1       </td><td>2.9       </td><td>4.7       </td><td>1.4       </td><td>versicolor</td></tr>\n",
       "\t<tr><th scope=row>65</th><td>5.6       </td><td>2.9       </td><td>3.6       </td><td>1.3       </td><td>versicolor</td></tr>\n",
       "\t<tr><th scope=row>66</th><td>6.7       </td><td>3.1       </td><td>4.4       </td><td>1.4       </td><td>versicolor</td></tr>\n",
       "\t<tr><th scope=row>67</th><td>5.6       </td><td>3.0       </td><td>4.5       </td><td>1.5       </td><td>versicolor</td></tr>\n",
       "\t<tr><th scope=row>68</th><td>5.8       </td><td>2.7       </td><td>4.1       </td><td>1.0       </td><td>versicolor</td></tr>\n",
       "\t<tr><th scope=row>69</th><td>6.2       </td><td>2.2       </td><td>4.5       </td><td>1.5       </td><td>versicolor</td></tr>\n",
       "\t<tr><th scope=row>70</th><td>5.6       </td><td>2.5       </td><td>3.9       </td><td>1.1       </td><td>versicolor</td></tr>\n",
       "\t<tr><th scope=row>71</th><td>5.9       </td><td>3.2       </td><td>4.8       </td><td>1.8       </td><td>versicolor</td></tr>\n",
       "\t<tr><th scope=row>72</th><td>6.1       </td><td>2.8       </td><td>4.0       </td><td>1.3       </td><td>versicolor</td></tr>\n",
       "\t<tr><th scope=row>73</th><td>6.3       </td><td>2.5       </td><td>4.9       </td><td>1.5       </td><td>versicolor</td></tr>\n",
       "\t<tr><th scope=row>74</th><td>6.1       </td><td>2.8       </td><td>4.7       </td><td>1.2       </td><td>versicolor</td></tr>\n",
       "\t<tr><th scope=row>75</th><td>6.4       </td><td>2.9       </td><td>4.3       </td><td>1.3       </td><td>versicolor</td></tr>\n",
       "\t<tr><th scope=row>76</th><td>6.6       </td><td>3.0       </td><td>4.4       </td><td>1.4       </td><td>versicolor</td></tr>\n",
       "\t<tr><th scope=row>77</th><td>6.8       </td><td>2.8       </td><td>4.8       </td><td>1.4       </td><td>versicolor</td></tr>\n",
       "\t<tr><th scope=row>78</th><td>6.7       </td><td>3.0       </td><td>5.0       </td><td>1.7       </td><td>versicolor</td></tr>\n",
       "\t<tr><th scope=row>79</th><td>6.0       </td><td>2.9       </td><td>4.5       </td><td>1.5       </td><td>versicolor</td></tr>\n",
       "\t<tr><th scope=row>80</th><td>5.7       </td><td>2.6       </td><td>3.5       </td><td>1.0       </td><td>versicolor</td></tr>\n",
       "\t<tr><th scope=row>81</th><td>5.5       </td><td>2.4       </td><td>3.8       </td><td>1.1       </td><td>versicolor</td></tr>\n",
       "\t<tr><th scope=row>82</th><td>5.5       </td><td>2.4       </td><td>3.7       </td><td>1.0       </td><td>versicolor</td></tr>\n",
       "\t<tr><th scope=row>83</th><td>5.8       </td><td>2.7       </td><td>3.9       </td><td>1.2       </td><td>versicolor</td></tr>\n",
       "\t<tr><th scope=row>84</th><td>6.0       </td><td>2.7       </td><td>5.1       </td><td>1.6       </td><td>versicolor</td></tr>\n",
       "\t<tr><th scope=row>85</th><td>5.4       </td><td>3.0       </td><td>4.5       </td><td>1.5       </td><td>versicolor</td></tr>\n",
       "\t<tr><th scope=row>86</th><td>6.0       </td><td>3.4       </td><td>4.5       </td><td>1.6       </td><td>versicolor</td></tr>\n",
       "\t<tr><th scope=row>87</th><td>6.7       </td><td>3.1       </td><td>4.7       </td><td>1.5       </td><td>versicolor</td></tr>\n",
       "\t<tr><th scope=row>88</th><td>6.3       </td><td>2.3       </td><td>4.4       </td><td>1.3       </td><td>versicolor</td></tr>\n",
       "\t<tr><th scope=row>89</th><td>5.6       </td><td>3.0       </td><td>4.1       </td><td>1.3       </td><td>versicolor</td></tr>\n",
       "\t<tr><th scope=row>90</th><td>5.5       </td><td>2.5       </td><td>4.0       </td><td>1.3       </td><td>versicolor</td></tr>\n",
       "\t<tr><th scope=row>91</th><td>5.5       </td><td>2.6       </td><td>4.4       </td><td>1.2       </td><td>versicolor</td></tr>\n",
       "\t<tr><th scope=row>92</th><td>6.1       </td><td>3.0       </td><td>4.6       </td><td>1.4       </td><td>versicolor</td></tr>\n",
       "\t<tr><th scope=row>93</th><td>5.8       </td><td>2.6       </td><td>4.0       </td><td>1.2       </td><td>versicolor</td></tr>\n",
       "\t<tr><th scope=row>94</th><td>5.0       </td><td>2.3       </td><td>3.3       </td><td>1.0       </td><td>versicolor</td></tr>\n",
       "\t<tr><th scope=row>95</th><td>5.6       </td><td>2.7       </td><td>4.2       </td><td>1.3       </td><td>versicolor</td></tr>\n",
       "\t<tr><th scope=row>96</th><td>5.7       </td><td>3.0       </td><td>4.2       </td><td>1.2       </td><td>versicolor</td></tr>\n",
       "\t<tr><th scope=row>97</th><td>5.7       </td><td>2.9       </td><td>4.2       </td><td>1.3       </td><td>versicolor</td></tr>\n",
       "\t<tr><th scope=row>98</th><td>6.2       </td><td>2.9       </td><td>4.3       </td><td>1.3       </td><td>versicolor</td></tr>\n",
       "\t<tr><th scope=row>99</th><td>5.1       </td><td>2.5       </td><td>3.0       </td><td>1.1       </td><td>versicolor</td></tr>\n",
       "\t<tr><th scope=row>100</th><td>5.7       </td><td>2.8       </td><td>4.1       </td><td>1.3       </td><td>versicolor</td></tr>\n",
       "</tbody>\n",
       "</table>\n"
      ],
      "text/latex": [
       "\\begin{tabular}{r|lllll}\n",
       "  & Sepal.Length & Sepal.Width & Petal.Length & Petal.Width & Species\\\\\n",
       "\\hline\n",
       "\t51 & 7.0        & 3.2        & 4.7        & 1.4        & versicolor\\\\\n",
       "\t52 & 6.4        & 3.2        & 4.5        & 1.5        & versicolor\\\\\n",
       "\t53 & 6.9        & 3.1        & 4.9        & 1.5        & versicolor\\\\\n",
       "\t54 & 5.5        & 2.3        & 4.0        & 1.3        & versicolor\\\\\n",
       "\t55 & 6.5        & 2.8        & 4.6        & 1.5        & versicolor\\\\\n",
       "\t56 & 5.7        & 2.8        & 4.5        & 1.3        & versicolor\\\\\n",
       "\t57 & 6.3        & 3.3        & 4.7        & 1.6        & versicolor\\\\\n",
       "\t58 & 4.9        & 2.4        & 3.3        & 1.0        & versicolor\\\\\n",
       "\t59 & 6.6        & 2.9        & 4.6        & 1.3        & versicolor\\\\\n",
       "\t60 & 5.2        & 2.7        & 3.9        & 1.4        & versicolor\\\\\n",
       "\t61 & 5.0        & 2.0        & 3.5        & 1.0        & versicolor\\\\\n",
       "\t62 & 5.9        & 3.0        & 4.2        & 1.5        & versicolor\\\\\n",
       "\t63 & 6.0        & 2.2        & 4.0        & 1.0        & versicolor\\\\\n",
       "\t64 & 6.1        & 2.9        & 4.7        & 1.4        & versicolor\\\\\n",
       "\t65 & 5.6        & 2.9        & 3.6        & 1.3        & versicolor\\\\\n",
       "\t66 & 6.7        & 3.1        & 4.4        & 1.4        & versicolor\\\\\n",
       "\t67 & 5.6        & 3.0        & 4.5        & 1.5        & versicolor\\\\\n",
       "\t68 & 5.8        & 2.7        & 4.1        & 1.0        & versicolor\\\\\n",
       "\t69 & 6.2        & 2.2        & 4.5        & 1.5        & versicolor\\\\\n",
       "\t70 & 5.6        & 2.5        & 3.9        & 1.1        & versicolor\\\\\n",
       "\t71 & 5.9        & 3.2        & 4.8        & 1.8        & versicolor\\\\\n",
       "\t72 & 6.1        & 2.8        & 4.0        & 1.3        & versicolor\\\\\n",
       "\t73 & 6.3        & 2.5        & 4.9        & 1.5        & versicolor\\\\\n",
       "\t74 & 6.1        & 2.8        & 4.7        & 1.2        & versicolor\\\\\n",
       "\t75 & 6.4        & 2.9        & 4.3        & 1.3        & versicolor\\\\\n",
       "\t76 & 6.6        & 3.0        & 4.4        & 1.4        & versicolor\\\\\n",
       "\t77 & 6.8        & 2.8        & 4.8        & 1.4        & versicolor\\\\\n",
       "\t78 & 6.7        & 3.0        & 5.0        & 1.7        & versicolor\\\\\n",
       "\t79 & 6.0        & 2.9        & 4.5        & 1.5        & versicolor\\\\\n",
       "\t80 & 5.7        & 2.6        & 3.5        & 1.0        & versicolor\\\\\n",
       "\t81 & 5.5        & 2.4        & 3.8        & 1.1        & versicolor\\\\\n",
       "\t82 & 5.5        & 2.4        & 3.7        & 1.0        & versicolor\\\\\n",
       "\t83 & 5.8        & 2.7        & 3.9        & 1.2        & versicolor\\\\\n",
       "\t84 & 6.0        & 2.7        & 5.1        & 1.6        & versicolor\\\\\n",
       "\t85 & 5.4        & 3.0        & 4.5        & 1.5        & versicolor\\\\\n",
       "\t86 & 6.0        & 3.4        & 4.5        & 1.6        & versicolor\\\\\n",
       "\t87 & 6.7        & 3.1        & 4.7        & 1.5        & versicolor\\\\\n",
       "\t88 & 6.3        & 2.3        & 4.4        & 1.3        & versicolor\\\\\n",
       "\t89 & 5.6        & 3.0        & 4.1        & 1.3        & versicolor\\\\\n",
       "\t90 & 5.5        & 2.5        & 4.0        & 1.3        & versicolor\\\\\n",
       "\t91 & 5.5        & 2.6        & 4.4        & 1.2        & versicolor\\\\\n",
       "\t92 & 6.1        & 3.0        & 4.6        & 1.4        & versicolor\\\\\n",
       "\t93 & 5.8        & 2.6        & 4.0        & 1.2        & versicolor\\\\\n",
       "\t94 & 5.0        & 2.3        & 3.3        & 1.0        & versicolor\\\\\n",
       "\t95 & 5.6        & 2.7        & 4.2        & 1.3        & versicolor\\\\\n",
       "\t96 & 5.7        & 3.0        & 4.2        & 1.2        & versicolor\\\\\n",
       "\t97 & 5.7        & 2.9        & 4.2        & 1.3        & versicolor\\\\\n",
       "\t98 & 6.2        & 2.9        & 4.3        & 1.3        & versicolor\\\\\n",
       "\t99 & 5.1        & 2.5        & 3.0        & 1.1        & versicolor\\\\\n",
       "\t100 & 5.7        & 2.8        & 4.1        & 1.3        & versicolor\\\\\n",
       "\\end{tabular}\n"
      ],
      "text/markdown": [
       "\n",
       "| <!--/--> | Sepal.Length | Sepal.Width | Petal.Length | Petal.Width | Species | \n",
       "|---|---|---|---|---|---|---|---|---|---|---|---|---|---|---|---|---|---|---|---|---|---|---|---|---|---|---|---|---|---|---|---|---|---|---|---|---|---|---|---|---|---|---|---|---|---|---|---|---|---|\n",
       "| 51 | 7.0        | 3.2        | 4.7        | 1.4        | versicolor | \n",
       "| 52 | 6.4        | 3.2        | 4.5        | 1.5        | versicolor | \n",
       "| 53 | 6.9        | 3.1        | 4.9        | 1.5        | versicolor | \n",
       "| 54 | 5.5        | 2.3        | 4.0        | 1.3        | versicolor | \n",
       "| 55 | 6.5        | 2.8        | 4.6        | 1.5        | versicolor | \n",
       "| 56 | 5.7        | 2.8        | 4.5        | 1.3        | versicolor | \n",
       "| 57 | 6.3        | 3.3        | 4.7        | 1.6        | versicolor | \n",
       "| 58 | 4.9        | 2.4        | 3.3        | 1.0        | versicolor | \n",
       "| 59 | 6.6        | 2.9        | 4.6        | 1.3        | versicolor | \n",
       "| 60 | 5.2        | 2.7        | 3.9        | 1.4        | versicolor | \n",
       "| 61 | 5.0        | 2.0        | 3.5        | 1.0        | versicolor | \n",
       "| 62 | 5.9        | 3.0        | 4.2        | 1.5        | versicolor | \n",
       "| 63 | 6.0        | 2.2        | 4.0        | 1.0        | versicolor | \n",
       "| 64 | 6.1        | 2.9        | 4.7        | 1.4        | versicolor | \n",
       "| 65 | 5.6        | 2.9        | 3.6        | 1.3        | versicolor | \n",
       "| 66 | 6.7        | 3.1        | 4.4        | 1.4        | versicolor | \n",
       "| 67 | 5.6        | 3.0        | 4.5        | 1.5        | versicolor | \n",
       "| 68 | 5.8        | 2.7        | 4.1        | 1.0        | versicolor | \n",
       "| 69 | 6.2        | 2.2        | 4.5        | 1.5        | versicolor | \n",
       "| 70 | 5.6        | 2.5        | 3.9        | 1.1        | versicolor | \n",
       "| 71 | 5.9        | 3.2        | 4.8        | 1.8        | versicolor | \n",
       "| 72 | 6.1        | 2.8        | 4.0        | 1.3        | versicolor | \n",
       "| 73 | 6.3        | 2.5        | 4.9        | 1.5        | versicolor | \n",
       "| 74 | 6.1        | 2.8        | 4.7        | 1.2        | versicolor | \n",
       "| 75 | 6.4        | 2.9        | 4.3        | 1.3        | versicolor | \n",
       "| 76 | 6.6        | 3.0        | 4.4        | 1.4        | versicolor | \n",
       "| 77 | 6.8        | 2.8        | 4.8        | 1.4        | versicolor | \n",
       "| 78 | 6.7        | 3.0        | 5.0        | 1.7        | versicolor | \n",
       "| 79 | 6.0        | 2.9        | 4.5        | 1.5        | versicolor | \n",
       "| 80 | 5.7        | 2.6        | 3.5        | 1.0        | versicolor | \n",
       "| 81 | 5.5        | 2.4        | 3.8        | 1.1        | versicolor | \n",
       "| 82 | 5.5        | 2.4        | 3.7        | 1.0        | versicolor | \n",
       "| 83 | 5.8        | 2.7        | 3.9        | 1.2        | versicolor | \n",
       "| 84 | 6.0        | 2.7        | 5.1        | 1.6        | versicolor | \n",
       "| 85 | 5.4        | 3.0        | 4.5        | 1.5        | versicolor | \n",
       "| 86 | 6.0        | 3.4        | 4.5        | 1.6        | versicolor | \n",
       "| 87 | 6.7        | 3.1        | 4.7        | 1.5        | versicolor | \n",
       "| 88 | 6.3        | 2.3        | 4.4        | 1.3        | versicolor | \n",
       "| 89 | 5.6        | 3.0        | 4.1        | 1.3        | versicolor | \n",
       "| 90 | 5.5        | 2.5        | 4.0        | 1.3        | versicolor | \n",
       "| 91 | 5.5        | 2.6        | 4.4        | 1.2        | versicolor | \n",
       "| 92 | 6.1        | 3.0        | 4.6        | 1.4        | versicolor | \n",
       "| 93 | 5.8        | 2.6        | 4.0        | 1.2        | versicolor | \n",
       "| 94 | 5.0        | 2.3        | 3.3        | 1.0        | versicolor | \n",
       "| 95 | 5.6        | 2.7        | 4.2        | 1.3        | versicolor | \n",
       "| 96 | 5.7        | 3.0        | 4.2        | 1.2        | versicolor | \n",
       "| 97 | 5.7        | 2.9        | 4.2        | 1.3        | versicolor | \n",
       "| 98 | 6.2        | 2.9        | 4.3        | 1.3        | versicolor | \n",
       "| 99 | 5.1        | 2.5        | 3.0        | 1.1        | versicolor | \n",
       "| 100 | 5.7        | 2.8        | 4.1        | 1.3        | versicolor | \n",
       "\n",
       "\n"
      ],
      "text/plain": [
       "    Sepal.Length Sepal.Width Petal.Length Petal.Width Species   \n",
       "51  7.0          3.2         4.7          1.4         versicolor\n",
       "52  6.4          3.2         4.5          1.5         versicolor\n",
       "53  6.9          3.1         4.9          1.5         versicolor\n",
       "54  5.5          2.3         4.0          1.3         versicolor\n",
       "55  6.5          2.8         4.6          1.5         versicolor\n",
       "56  5.7          2.8         4.5          1.3         versicolor\n",
       "57  6.3          3.3         4.7          1.6         versicolor\n",
       "58  4.9          2.4         3.3          1.0         versicolor\n",
       "59  6.6          2.9         4.6          1.3         versicolor\n",
       "60  5.2          2.7         3.9          1.4         versicolor\n",
       "61  5.0          2.0         3.5          1.0         versicolor\n",
       "62  5.9          3.0         4.2          1.5         versicolor\n",
       "63  6.0          2.2         4.0          1.0         versicolor\n",
       "64  6.1          2.9         4.7          1.4         versicolor\n",
       "65  5.6          2.9         3.6          1.3         versicolor\n",
       "66  6.7          3.1         4.4          1.4         versicolor\n",
       "67  5.6          3.0         4.5          1.5         versicolor\n",
       "68  5.8          2.7         4.1          1.0         versicolor\n",
       "69  6.2          2.2         4.5          1.5         versicolor\n",
       "70  5.6          2.5         3.9          1.1         versicolor\n",
       "71  5.9          3.2         4.8          1.8         versicolor\n",
       "72  6.1          2.8         4.0          1.3         versicolor\n",
       "73  6.3          2.5         4.9          1.5         versicolor\n",
       "74  6.1          2.8         4.7          1.2         versicolor\n",
       "75  6.4          2.9         4.3          1.3         versicolor\n",
       "76  6.6          3.0         4.4          1.4         versicolor\n",
       "77  6.8          2.8         4.8          1.4         versicolor\n",
       "78  6.7          3.0         5.0          1.7         versicolor\n",
       "79  6.0          2.9         4.5          1.5         versicolor\n",
       "80  5.7          2.6         3.5          1.0         versicolor\n",
       "81  5.5          2.4         3.8          1.1         versicolor\n",
       "82  5.5          2.4         3.7          1.0         versicolor\n",
       "83  5.8          2.7         3.9          1.2         versicolor\n",
       "84  6.0          2.7         5.1          1.6         versicolor\n",
       "85  5.4          3.0         4.5          1.5         versicolor\n",
       "86  6.0          3.4         4.5          1.6         versicolor\n",
       "87  6.7          3.1         4.7          1.5         versicolor\n",
       "88  6.3          2.3         4.4          1.3         versicolor\n",
       "89  5.6          3.0         4.1          1.3         versicolor\n",
       "90  5.5          2.5         4.0          1.3         versicolor\n",
       "91  5.5          2.6         4.4          1.2         versicolor\n",
       "92  6.1          3.0         4.6          1.4         versicolor\n",
       "93  5.8          2.6         4.0          1.2         versicolor\n",
       "94  5.0          2.3         3.3          1.0         versicolor\n",
       "95  5.6          2.7         4.2          1.3         versicolor\n",
       "96  5.7          3.0         4.2          1.2         versicolor\n",
       "97  5.7          2.9         4.2          1.3         versicolor\n",
       "98  6.2          2.9         4.3          1.3         versicolor\n",
       "99  5.1          2.5         3.0          1.1         versicolor\n",
       "100 5.7          2.8         4.1          1.3         versicolor"
      ]
     },
     "metadata": {},
     "output_type": "display_data"
    }
   ],
   "source": [
    "subset(iris, Species == \"versicolor\")"
   ]
  },
  {
   "cell_type": "code",
   "execution_count": 29,
   "metadata": {},
   "outputs": [
    {
     "data": {
      "text/html": [
       "<table>\n",
       "<thead><tr><th></th><th scope=col>Sepal.Length</th><th scope=col>Sepal.Width</th><th scope=col>Petal.Length</th><th scope=col>Petal.Width</th><th scope=col>Species</th></tr></thead>\n",
       "<tbody>\n",
       "\t<tr><th scope=row>51</th><td>7.0       </td><td>3.2       </td><td>4.7       </td><td>1.4       </td><td>versicolor</td></tr>\n",
       "\t<tr><th scope=row>52</th><td>6.4       </td><td>3.2       </td><td>4.5       </td><td>1.5       </td><td>versicolor</td></tr>\n",
       "\t<tr><th scope=row>53</th><td>6.9       </td><td>3.1       </td><td>4.9       </td><td>1.5       </td><td>versicolor</td></tr>\n",
       "\t<tr><th scope=row>54</th><td>5.5       </td><td>2.3       </td><td>4.0       </td><td>1.3       </td><td>versicolor</td></tr>\n",
       "\t<tr><th scope=row>55</th><td>6.5       </td><td>2.8       </td><td>4.6       </td><td>1.5       </td><td>versicolor</td></tr>\n",
       "\t<tr><th scope=row>56</th><td>5.7       </td><td>2.8       </td><td>4.5       </td><td>1.3       </td><td>versicolor</td></tr>\n",
       "\t<tr><th scope=row>57</th><td>6.3       </td><td>3.3       </td><td>4.7       </td><td>1.6       </td><td>versicolor</td></tr>\n",
       "\t<tr><th scope=row>58</th><td>4.9       </td><td>2.4       </td><td>3.3       </td><td>1.0       </td><td>versicolor</td></tr>\n",
       "\t<tr><th scope=row>59</th><td>6.6       </td><td>2.9       </td><td>4.6       </td><td>1.3       </td><td>versicolor</td></tr>\n",
       "\t<tr><th scope=row>60</th><td>5.2       </td><td>2.7       </td><td>3.9       </td><td>1.4       </td><td>versicolor</td></tr>\n",
       "\t<tr><th scope=row>61</th><td>5.0       </td><td>2.0       </td><td>3.5       </td><td>1.0       </td><td>versicolor</td></tr>\n",
       "\t<tr><th scope=row>62</th><td>5.9       </td><td>3.0       </td><td>4.2       </td><td>1.5       </td><td>versicolor</td></tr>\n",
       "\t<tr><th scope=row>63</th><td>6.0       </td><td>2.2       </td><td>4.0       </td><td>1.0       </td><td>versicolor</td></tr>\n",
       "\t<tr><th scope=row>64</th><td>6.1       </td><td>2.9       </td><td>4.7       </td><td>1.4       </td><td>versicolor</td></tr>\n",
       "\t<tr><th scope=row>65</th><td>5.6       </td><td>2.9       </td><td>3.6       </td><td>1.3       </td><td>versicolor</td></tr>\n",
       "\t<tr><th scope=row>66</th><td>6.7       </td><td>3.1       </td><td>4.4       </td><td>1.4       </td><td>versicolor</td></tr>\n",
       "\t<tr><th scope=row>67</th><td>5.6       </td><td>3.0       </td><td>4.5       </td><td>1.5       </td><td>versicolor</td></tr>\n",
       "\t<tr><th scope=row>68</th><td>5.8       </td><td>2.7       </td><td>4.1       </td><td>1.0       </td><td>versicolor</td></tr>\n",
       "\t<tr><th scope=row>69</th><td>6.2       </td><td>2.2       </td><td>4.5       </td><td>1.5       </td><td>versicolor</td></tr>\n",
       "\t<tr><th scope=row>70</th><td>5.6       </td><td>2.5       </td><td>3.9       </td><td>1.1       </td><td>versicolor</td></tr>\n",
       "\t<tr><th scope=row>71</th><td>5.9       </td><td>3.2       </td><td>4.8       </td><td>1.8       </td><td>versicolor</td></tr>\n",
       "\t<tr><th scope=row>72</th><td>6.1       </td><td>2.8       </td><td>4.0       </td><td>1.3       </td><td>versicolor</td></tr>\n",
       "\t<tr><th scope=row>73</th><td>6.3       </td><td>2.5       </td><td>4.9       </td><td>1.5       </td><td>versicolor</td></tr>\n",
       "\t<tr><th scope=row>74</th><td>6.1       </td><td>2.8       </td><td>4.7       </td><td>1.2       </td><td>versicolor</td></tr>\n",
       "\t<tr><th scope=row>75</th><td>6.4       </td><td>2.9       </td><td>4.3       </td><td>1.3       </td><td>versicolor</td></tr>\n",
       "\t<tr><th scope=row>76</th><td>6.6       </td><td>3.0       </td><td>4.4       </td><td>1.4       </td><td>versicolor</td></tr>\n",
       "\t<tr><th scope=row>77</th><td>6.8       </td><td>2.8       </td><td>4.8       </td><td>1.4       </td><td>versicolor</td></tr>\n",
       "\t<tr><th scope=row>78</th><td>6.7       </td><td>3.0       </td><td>5.0       </td><td>1.7       </td><td>versicolor</td></tr>\n",
       "\t<tr><th scope=row>79</th><td>6.0       </td><td>2.9       </td><td>4.5       </td><td>1.5       </td><td>versicolor</td></tr>\n",
       "\t<tr><th scope=row>80</th><td>5.7       </td><td>2.6       </td><td>3.5       </td><td>1.0       </td><td>versicolor</td></tr>\n",
       "\t<tr><th scope=row>81</th><td>5.5       </td><td>2.4       </td><td>3.8       </td><td>1.1       </td><td>versicolor</td></tr>\n",
       "\t<tr><th scope=row>82</th><td>5.5       </td><td>2.4       </td><td>3.7       </td><td>1.0       </td><td>versicolor</td></tr>\n",
       "\t<tr><th scope=row>83</th><td>5.8       </td><td>2.7       </td><td>3.9       </td><td>1.2       </td><td>versicolor</td></tr>\n",
       "\t<tr><th scope=row>84</th><td>6.0       </td><td>2.7       </td><td>5.1       </td><td>1.6       </td><td>versicolor</td></tr>\n",
       "\t<tr><th scope=row>85</th><td>5.4       </td><td>3.0       </td><td>4.5       </td><td>1.5       </td><td>versicolor</td></tr>\n",
       "\t<tr><th scope=row>86</th><td>6.0       </td><td>3.4       </td><td>4.5       </td><td>1.6       </td><td>versicolor</td></tr>\n",
       "\t<tr><th scope=row>87</th><td>6.7       </td><td>3.1       </td><td>4.7       </td><td>1.5       </td><td>versicolor</td></tr>\n",
       "\t<tr><th scope=row>88</th><td>6.3       </td><td>2.3       </td><td>4.4       </td><td>1.3       </td><td>versicolor</td></tr>\n",
       "\t<tr><th scope=row>89</th><td>5.6       </td><td>3.0       </td><td>4.1       </td><td>1.3       </td><td>versicolor</td></tr>\n",
       "\t<tr><th scope=row>90</th><td>5.5       </td><td>2.5       </td><td>4.0       </td><td>1.3       </td><td>versicolor</td></tr>\n",
       "\t<tr><th scope=row>91</th><td>5.5       </td><td>2.6       </td><td>4.4       </td><td>1.2       </td><td>versicolor</td></tr>\n",
       "\t<tr><th scope=row>92</th><td>6.1       </td><td>3.0       </td><td>4.6       </td><td>1.4       </td><td>versicolor</td></tr>\n",
       "\t<tr><th scope=row>93</th><td>5.8       </td><td>2.6       </td><td>4.0       </td><td>1.2       </td><td>versicolor</td></tr>\n",
       "\t<tr><th scope=row>94</th><td>5.0       </td><td>2.3       </td><td>3.3       </td><td>1.0       </td><td>versicolor</td></tr>\n",
       "\t<tr><th scope=row>95</th><td>5.6       </td><td>2.7       </td><td>4.2       </td><td>1.3       </td><td>versicolor</td></tr>\n",
       "\t<tr><th scope=row>96</th><td>5.7       </td><td>3.0       </td><td>4.2       </td><td>1.2       </td><td>versicolor</td></tr>\n",
       "\t<tr><th scope=row>97</th><td>5.7       </td><td>2.9       </td><td>4.2       </td><td>1.3       </td><td>versicolor</td></tr>\n",
       "\t<tr><th scope=row>98</th><td>6.2       </td><td>2.9       </td><td>4.3       </td><td>1.3       </td><td>versicolor</td></tr>\n",
       "\t<tr><th scope=row>99</th><td>5.1       </td><td>2.5       </td><td>3.0       </td><td>1.1       </td><td>versicolor</td></tr>\n",
       "\t<tr><th scope=row>100</th><td>5.7       </td><td>2.8       </td><td>4.1       </td><td>1.3       </td><td>versicolor</td></tr>\n",
       "</tbody>\n",
       "</table>\n"
      ],
      "text/latex": [
       "\\begin{tabular}{r|lllll}\n",
       "  & Sepal.Length & Sepal.Width & Petal.Length & Petal.Width & Species\\\\\n",
       "\\hline\n",
       "\t51 & 7.0        & 3.2        & 4.7        & 1.4        & versicolor\\\\\n",
       "\t52 & 6.4        & 3.2        & 4.5        & 1.5        & versicolor\\\\\n",
       "\t53 & 6.9        & 3.1        & 4.9        & 1.5        & versicolor\\\\\n",
       "\t54 & 5.5        & 2.3        & 4.0        & 1.3        & versicolor\\\\\n",
       "\t55 & 6.5        & 2.8        & 4.6        & 1.5        & versicolor\\\\\n",
       "\t56 & 5.7        & 2.8        & 4.5        & 1.3        & versicolor\\\\\n",
       "\t57 & 6.3        & 3.3        & 4.7        & 1.6        & versicolor\\\\\n",
       "\t58 & 4.9        & 2.4        & 3.3        & 1.0        & versicolor\\\\\n",
       "\t59 & 6.6        & 2.9        & 4.6        & 1.3        & versicolor\\\\\n",
       "\t60 & 5.2        & 2.7        & 3.9        & 1.4        & versicolor\\\\\n",
       "\t61 & 5.0        & 2.0        & 3.5        & 1.0        & versicolor\\\\\n",
       "\t62 & 5.9        & 3.0        & 4.2        & 1.5        & versicolor\\\\\n",
       "\t63 & 6.0        & 2.2        & 4.0        & 1.0        & versicolor\\\\\n",
       "\t64 & 6.1        & 2.9        & 4.7        & 1.4        & versicolor\\\\\n",
       "\t65 & 5.6        & 2.9        & 3.6        & 1.3        & versicolor\\\\\n",
       "\t66 & 6.7        & 3.1        & 4.4        & 1.4        & versicolor\\\\\n",
       "\t67 & 5.6        & 3.0        & 4.5        & 1.5        & versicolor\\\\\n",
       "\t68 & 5.8        & 2.7        & 4.1        & 1.0        & versicolor\\\\\n",
       "\t69 & 6.2        & 2.2        & 4.5        & 1.5        & versicolor\\\\\n",
       "\t70 & 5.6        & 2.5        & 3.9        & 1.1        & versicolor\\\\\n",
       "\t71 & 5.9        & 3.2        & 4.8        & 1.8        & versicolor\\\\\n",
       "\t72 & 6.1        & 2.8        & 4.0        & 1.3        & versicolor\\\\\n",
       "\t73 & 6.3        & 2.5        & 4.9        & 1.5        & versicolor\\\\\n",
       "\t74 & 6.1        & 2.8        & 4.7        & 1.2        & versicolor\\\\\n",
       "\t75 & 6.4        & 2.9        & 4.3        & 1.3        & versicolor\\\\\n",
       "\t76 & 6.6        & 3.0        & 4.4        & 1.4        & versicolor\\\\\n",
       "\t77 & 6.8        & 2.8        & 4.8        & 1.4        & versicolor\\\\\n",
       "\t78 & 6.7        & 3.0        & 5.0        & 1.7        & versicolor\\\\\n",
       "\t79 & 6.0        & 2.9        & 4.5        & 1.5        & versicolor\\\\\n",
       "\t80 & 5.7        & 2.6        & 3.5        & 1.0        & versicolor\\\\\n",
       "\t81 & 5.5        & 2.4        & 3.8        & 1.1        & versicolor\\\\\n",
       "\t82 & 5.5        & 2.4        & 3.7        & 1.0        & versicolor\\\\\n",
       "\t83 & 5.8        & 2.7        & 3.9        & 1.2        & versicolor\\\\\n",
       "\t84 & 6.0        & 2.7        & 5.1        & 1.6        & versicolor\\\\\n",
       "\t85 & 5.4        & 3.0        & 4.5        & 1.5        & versicolor\\\\\n",
       "\t86 & 6.0        & 3.4        & 4.5        & 1.6        & versicolor\\\\\n",
       "\t87 & 6.7        & 3.1        & 4.7        & 1.5        & versicolor\\\\\n",
       "\t88 & 6.3        & 2.3        & 4.4        & 1.3        & versicolor\\\\\n",
       "\t89 & 5.6        & 3.0        & 4.1        & 1.3        & versicolor\\\\\n",
       "\t90 & 5.5        & 2.5        & 4.0        & 1.3        & versicolor\\\\\n",
       "\t91 & 5.5        & 2.6        & 4.4        & 1.2        & versicolor\\\\\n",
       "\t92 & 6.1        & 3.0        & 4.6        & 1.4        & versicolor\\\\\n",
       "\t93 & 5.8        & 2.6        & 4.0        & 1.2        & versicolor\\\\\n",
       "\t94 & 5.0        & 2.3        & 3.3        & 1.0        & versicolor\\\\\n",
       "\t95 & 5.6        & 2.7        & 4.2        & 1.3        & versicolor\\\\\n",
       "\t96 & 5.7        & 3.0        & 4.2        & 1.2        & versicolor\\\\\n",
       "\t97 & 5.7        & 2.9        & 4.2        & 1.3        & versicolor\\\\\n",
       "\t98 & 6.2        & 2.9        & 4.3        & 1.3        & versicolor\\\\\n",
       "\t99 & 5.1        & 2.5        & 3.0        & 1.1        & versicolor\\\\\n",
       "\t100 & 5.7        & 2.8        & 4.1        & 1.3        & versicolor\\\\\n",
       "\\end{tabular}\n"
      ],
      "text/markdown": [
       "\n",
       "| <!--/--> | Sepal.Length | Sepal.Width | Petal.Length | Petal.Width | Species | \n",
       "|---|---|---|---|---|---|---|---|---|---|---|---|---|---|---|---|---|---|---|---|---|---|---|---|---|---|---|---|---|---|---|---|---|---|---|---|---|---|---|---|---|---|---|---|---|---|---|---|---|---|\n",
       "| 51 | 7.0        | 3.2        | 4.7        | 1.4        | versicolor | \n",
       "| 52 | 6.4        | 3.2        | 4.5        | 1.5        | versicolor | \n",
       "| 53 | 6.9        | 3.1        | 4.9        | 1.5        | versicolor | \n",
       "| 54 | 5.5        | 2.3        | 4.0        | 1.3        | versicolor | \n",
       "| 55 | 6.5        | 2.8        | 4.6        | 1.5        | versicolor | \n",
       "| 56 | 5.7        | 2.8        | 4.5        | 1.3        | versicolor | \n",
       "| 57 | 6.3        | 3.3        | 4.7        | 1.6        | versicolor | \n",
       "| 58 | 4.9        | 2.4        | 3.3        | 1.0        | versicolor | \n",
       "| 59 | 6.6        | 2.9        | 4.6        | 1.3        | versicolor | \n",
       "| 60 | 5.2        | 2.7        | 3.9        | 1.4        | versicolor | \n",
       "| 61 | 5.0        | 2.0        | 3.5        | 1.0        | versicolor | \n",
       "| 62 | 5.9        | 3.0        | 4.2        | 1.5        | versicolor | \n",
       "| 63 | 6.0        | 2.2        | 4.0        | 1.0        | versicolor | \n",
       "| 64 | 6.1        | 2.9        | 4.7        | 1.4        | versicolor | \n",
       "| 65 | 5.6        | 2.9        | 3.6        | 1.3        | versicolor | \n",
       "| 66 | 6.7        | 3.1        | 4.4        | 1.4        | versicolor | \n",
       "| 67 | 5.6        | 3.0        | 4.5        | 1.5        | versicolor | \n",
       "| 68 | 5.8        | 2.7        | 4.1        | 1.0        | versicolor | \n",
       "| 69 | 6.2        | 2.2        | 4.5        | 1.5        | versicolor | \n",
       "| 70 | 5.6        | 2.5        | 3.9        | 1.1        | versicolor | \n",
       "| 71 | 5.9        | 3.2        | 4.8        | 1.8        | versicolor | \n",
       "| 72 | 6.1        | 2.8        | 4.0        | 1.3        | versicolor | \n",
       "| 73 | 6.3        | 2.5        | 4.9        | 1.5        | versicolor | \n",
       "| 74 | 6.1        | 2.8        | 4.7        | 1.2        | versicolor | \n",
       "| 75 | 6.4        | 2.9        | 4.3        | 1.3        | versicolor | \n",
       "| 76 | 6.6        | 3.0        | 4.4        | 1.4        | versicolor | \n",
       "| 77 | 6.8        | 2.8        | 4.8        | 1.4        | versicolor | \n",
       "| 78 | 6.7        | 3.0        | 5.0        | 1.7        | versicolor | \n",
       "| 79 | 6.0        | 2.9        | 4.5        | 1.5        | versicolor | \n",
       "| 80 | 5.7        | 2.6        | 3.5        | 1.0        | versicolor | \n",
       "| 81 | 5.5        | 2.4        | 3.8        | 1.1        | versicolor | \n",
       "| 82 | 5.5        | 2.4        | 3.7        | 1.0        | versicolor | \n",
       "| 83 | 5.8        | 2.7        | 3.9        | 1.2        | versicolor | \n",
       "| 84 | 6.0        | 2.7        | 5.1        | 1.6        | versicolor | \n",
       "| 85 | 5.4        | 3.0        | 4.5        | 1.5        | versicolor | \n",
       "| 86 | 6.0        | 3.4        | 4.5        | 1.6        | versicolor | \n",
       "| 87 | 6.7        | 3.1        | 4.7        | 1.5        | versicolor | \n",
       "| 88 | 6.3        | 2.3        | 4.4        | 1.3        | versicolor | \n",
       "| 89 | 5.6        | 3.0        | 4.1        | 1.3        | versicolor | \n",
       "| 90 | 5.5        | 2.5        | 4.0        | 1.3        | versicolor | \n",
       "| 91 | 5.5        | 2.6        | 4.4        | 1.2        | versicolor | \n",
       "| 92 | 6.1        | 3.0        | 4.6        | 1.4        | versicolor | \n",
       "| 93 | 5.8        | 2.6        | 4.0        | 1.2        | versicolor | \n",
       "| 94 | 5.0        | 2.3        | 3.3        | 1.0        | versicolor | \n",
       "| 95 | 5.6        | 2.7        | 4.2        | 1.3        | versicolor | \n",
       "| 96 | 5.7        | 3.0        | 4.2        | 1.2        | versicolor | \n",
       "| 97 | 5.7        | 2.9        | 4.2        | 1.3        | versicolor | \n",
       "| 98 | 6.2        | 2.9        | 4.3        | 1.3        | versicolor | \n",
       "| 99 | 5.1        | 2.5        | 3.0        | 1.1        | versicolor | \n",
       "| 100 | 5.7        | 2.8        | 4.1        | 1.3        | versicolor | \n",
       "\n",
       "\n"
      ],
      "text/plain": [
       "    Sepal.Length Sepal.Width Petal.Length Petal.Width Species   \n",
       "51  7.0          3.2         4.7          1.4         versicolor\n",
       "52  6.4          3.2         4.5          1.5         versicolor\n",
       "53  6.9          3.1         4.9          1.5         versicolor\n",
       "54  5.5          2.3         4.0          1.3         versicolor\n",
       "55  6.5          2.8         4.6          1.5         versicolor\n",
       "56  5.7          2.8         4.5          1.3         versicolor\n",
       "57  6.3          3.3         4.7          1.6         versicolor\n",
       "58  4.9          2.4         3.3          1.0         versicolor\n",
       "59  6.6          2.9         4.6          1.3         versicolor\n",
       "60  5.2          2.7         3.9          1.4         versicolor\n",
       "61  5.0          2.0         3.5          1.0         versicolor\n",
       "62  5.9          3.0         4.2          1.5         versicolor\n",
       "63  6.0          2.2         4.0          1.0         versicolor\n",
       "64  6.1          2.9         4.7          1.4         versicolor\n",
       "65  5.6          2.9         3.6          1.3         versicolor\n",
       "66  6.7          3.1         4.4          1.4         versicolor\n",
       "67  5.6          3.0         4.5          1.5         versicolor\n",
       "68  5.8          2.7         4.1          1.0         versicolor\n",
       "69  6.2          2.2         4.5          1.5         versicolor\n",
       "70  5.6          2.5         3.9          1.1         versicolor\n",
       "71  5.9          3.2         4.8          1.8         versicolor\n",
       "72  6.1          2.8         4.0          1.3         versicolor\n",
       "73  6.3          2.5         4.9          1.5         versicolor\n",
       "74  6.1          2.8         4.7          1.2         versicolor\n",
       "75  6.4          2.9         4.3          1.3         versicolor\n",
       "76  6.6          3.0         4.4          1.4         versicolor\n",
       "77  6.8          2.8         4.8          1.4         versicolor\n",
       "78  6.7          3.0         5.0          1.7         versicolor\n",
       "79  6.0          2.9         4.5          1.5         versicolor\n",
       "80  5.7          2.6         3.5          1.0         versicolor\n",
       "81  5.5          2.4         3.8          1.1         versicolor\n",
       "82  5.5          2.4         3.7          1.0         versicolor\n",
       "83  5.8          2.7         3.9          1.2         versicolor\n",
       "84  6.0          2.7         5.1          1.6         versicolor\n",
       "85  5.4          3.0         4.5          1.5         versicolor\n",
       "86  6.0          3.4         4.5          1.6         versicolor\n",
       "87  6.7          3.1         4.7          1.5         versicolor\n",
       "88  6.3          2.3         4.4          1.3         versicolor\n",
       "89  5.6          3.0         4.1          1.3         versicolor\n",
       "90  5.5          2.5         4.0          1.3         versicolor\n",
       "91  5.5          2.6         4.4          1.2         versicolor\n",
       "92  6.1          3.0         4.6          1.4         versicolor\n",
       "93  5.8          2.6         4.0          1.2         versicolor\n",
       "94  5.0          2.3         3.3          1.0         versicolor\n",
       "95  5.6          2.7         4.2          1.3         versicolor\n",
       "96  5.7          3.0         4.2          1.2         versicolor\n",
       "97  5.7          2.9         4.2          1.3         versicolor\n",
       "98  6.2          2.9         4.3          1.3         versicolor\n",
       "99  5.1          2.5         3.0          1.1         versicolor\n",
       "100 5.7          2.8         4.1          1.3         versicolor"
      ]
     },
     "metadata": {},
     "output_type": "display_data"
    }
   ],
   "source": [
    "iris[iris$Species==\"versicolor\",]"
   ]
  },
  {
   "cell_type": "code",
   "execution_count": null,
   "metadata": {},
   "outputs": [],
   "source": []
  }
 ],
 "metadata": {
  "kernelspec": {
   "display_name": "R",
   "language": "R",
   "name": "ir"
  },
  "language_info": {
   "codemirror_mode": "r",
   "file_extension": ".r",
   "mimetype": "text/x-r-source",
   "name": "R",
   "pygments_lexer": "r",
   "version": "3.5.1"
  }
 },
 "nbformat": 4,
 "nbformat_minor": 2
}
