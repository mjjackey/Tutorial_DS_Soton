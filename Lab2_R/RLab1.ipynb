{
 "cells": [
  {
   "cell_type": "code",
   "execution_count": 1,
   "metadata": {},
   "outputs": [],
   "source": [
    "subject_name <- c(\"Jon Doe\", \"Jane Doe\", \"Markus\") "
   ]
  },
  {
   "cell_type": "code",
   "execution_count": 2,
   "metadata": {},
   "outputs": [],
   "source": [
    "temperature <- c(37.0,37.4,40.0)"
   ]
  },
  {
   "cell_type": "code",
   "execution_count": 3,
   "metadata": {},
   "outputs": [],
   "source": [
    "flu_status <- c(FALSE,FALSE,TRUE)"
   ]
  },
  {
   "cell_type": "code",
   "execution_count": 4,
   "metadata": {},
   "outputs": [
    {
     "data": {
      "text/html": [
       "37"
      ],
      "text/latex": [
       "37"
      ],
      "text/markdown": [
       "37"
      ],
      "text/plain": [
       "[1] 37"
      ]
     },
     "metadata": {},
     "output_type": "display_data"
    }
   ],
   "source": [
    "temperature[1]"
   ]
  },
  {
   "cell_type": "code",
   "execution_count": 5,
   "metadata": {},
   "outputs": [
    {
     "data": {
      "text/html": [
       "<ol class=list-inline>\n",
       "\t<li>37</li>\n",
       "\t<li>40</li>\n",
       "</ol>\n"
      ],
      "text/latex": [
       "\\begin{enumerate*}\n",
       "\\item 37\n",
       "\\item 40\n",
       "\\end{enumerate*}\n"
      ],
      "text/markdown": [
       "1. 37\n",
       "2. 40\n",
       "\n",
       "\n"
      ],
      "text/plain": [
       "[1] 37 40"
      ]
     },
     "metadata": {},
     "output_type": "display_data"
    }
   ],
   "source": [
    "temperature[-2]"
   ]
  },
  {
   "cell_type": "code",
   "execution_count": 6,
   "metadata": {},
   "outputs": [
    {
     "data": {
      "text/html": [
       "40"
      ],
      "text/latex": [
       "40"
      ],
      "text/markdown": [
       "40"
      ],
      "text/plain": [
       "[1] 40"
      ]
     },
     "metadata": {},
     "output_type": "display_data"
    }
   ],
   "source": [
    "temperature[c(FALSE,FALSE,TRUE)]"
   ]
  },
  {
   "cell_type": "code",
   "execution_count": 7,
   "metadata": {},
   "outputs": [],
   "source": [
    "gender <- factor (c(\"MALE\", \"MALE\", \"FEMALE\"))"
   ]
  },
  {
   "cell_type": "code",
   "execution_count": 8,
   "metadata": {},
   "outputs": [
    {
     "data": {
      "text/html": [
       "<ol class=list-inline>\n",
       "\t<li>MALE</li>\n",
       "\t<li>MALE</li>\n",
       "\t<li>FEMALE</li>\n",
       "</ol>\n",
       "\n",
       "<details>\n",
       "\t<summary style=display:list-item;cursor:pointer>\n",
       "\t\t<strong>Levels</strong>:\n",
       "\t</summary>\n",
       "\t<ol class=list-inline>\n",
       "\t\t<li>'FEMALE'</li>\n",
       "\t\t<li>'MALE'</li>\n",
       "\t</ol>\n",
       "</details>"
      ],
      "text/latex": [
       "\\begin{enumerate*}\n",
       "\\item MALE\n",
       "\\item MALE\n",
       "\\item FEMALE\n",
       "\\end{enumerate*}\n",
       "\n",
       "\\emph{Levels}: \\begin{enumerate*}\n",
       "\\item 'FEMALE'\n",
       "\\item 'MALE'\n",
       "\\end{enumerate*}\n"
      ],
      "text/markdown": [
       "1. MALE\n",
       "2. MALE\n",
       "3. FEMALE\n",
       "\n",
       "\n",
       "\n",
       "**Levels**: 1. 'FEMALE'\n",
       "2. 'MALE'\n",
       "\n",
       "\n"
      ],
      "text/plain": [
       "[1] MALE   MALE   FEMALE\n",
       "Levels: FEMALE MALE"
      ]
     },
     "metadata": {},
     "output_type": "display_data"
    }
   ],
   "source": [
    "gender"
   ]
  },
  {
   "cell_type": "code",
   "execution_count": 9,
   "metadata": {},
   "outputs": [],
   "source": [
    "symptoms <- factor (c(\"SEVERE\", \"MILD\", \"MODERATE\"), levels = c(\"MILD\", \"MODERATE\", \"SEVERE\"), ordered=TRUE) "
   ]
  },
  {
   "cell_type": "code",
   "execution_count": 10,
   "metadata": {},
   "outputs": [
    {
     "data": {
      "text/html": [
       "<ol class=list-inline>\n",
       "\t<li>SEVERE</li>\n",
       "\t<li>MILD</li>\n",
       "\t<li>MODERATE</li>\n",
       "</ol>\n",
       "\n",
       "<details>\n",
       "\t<summary style=display:list-item;cursor:pointer>\n",
       "\t\t<strong>Levels</strong>:\n",
       "\t</summary>\n",
       "\t<ol class=list-inline>\n",
       "\t\t<li>'MILD'</li>\n",
       "\t\t<li>'MODERATE'</li>\n",
       "\t\t<li>'SEVERE'</li>\n",
       "\t</ol>\n",
       "</details>"
      ],
      "text/latex": [
       "\\begin{enumerate*}\n",
       "\\item SEVERE\n",
       "\\item MILD\n",
       "\\item MODERATE\n",
       "\\end{enumerate*}\n",
       "\n",
       "\\emph{Levels}: \\begin{enumerate*}\n",
       "\\item 'MILD'\n",
       "\\item 'MODERATE'\n",
       "\\item 'SEVERE'\n",
       "\\end{enumerate*}\n"
      ],
      "text/markdown": [
       "1. SEVERE\n",
       "2. MILD\n",
       "3. MODERATE\n",
       "\n",
       "\n",
       "\n",
       "**Levels**: 1. 'MILD'\n",
       "2. 'MODERATE'\n",
       "3. 'SEVERE'\n",
       "\n",
       "\n"
      ],
      "text/plain": [
       "[1] SEVERE   MILD     MODERATE\n",
       "Levels: MILD < MODERATE < SEVERE"
      ]
     },
     "metadata": {},
     "output_type": "display_data"
    }
   ],
   "source": [
    "symptoms"
   ]
  },
  {
   "cell_type": "code",
   "execution_count": 11,
   "metadata": {},
   "outputs": [
    {
     "data": {
      "text/html": [
       "<ol class=list-inline>\n",
       "\t<li>TRUE</li>\n",
       "\t<li>FALSE</li>\n",
       "\t<li>TRUE</li>\n",
       "</ol>\n"
      ],
      "text/latex": [
       "\\begin{enumerate*}\n",
       "\\item TRUE\n",
       "\\item FALSE\n",
       "\\item TRUE\n",
       "\\end{enumerate*}\n"
      ],
      "text/markdown": [
       "1. TRUE\n",
       "2. FALSE\n",
       "3. TRUE\n",
       "\n",
       "\n"
      ],
      "text/plain": [
       "[1]  TRUE FALSE  TRUE"
      ]
     },
     "metadata": {},
     "output_type": "display_data"
    }
   ],
   "source": [
    "symptoms > \"MILD\" "
   ]
  },
  {
   "cell_type": "code",
   "execution_count": 12,
   "metadata": {},
   "outputs": [],
   "source": [
    "subject1 <- list(fullname = \"Markus\", temperature=40.0, symptoms=symptoms[1]) "
   ]
  },
  {
   "cell_type": "code",
   "execution_count": 13,
   "metadata": {},
   "outputs": [
    {
     "data": {
      "text/html": [
       "<dl>\n",
       "\t<dt>$fullname</dt>\n",
       "\t\t<dd>'Markus'</dd>\n",
       "\t<dt>$temperature</dt>\n",
       "\t\t<dd>40</dd>\n",
       "\t<dt>$symptoms</dt>\n",
       "\t\t<dd>SEVERE\n",
       "<details>\n",
       "\t<summary style=display:list-item;cursor:pointer>\n",
       "\t\t<strong>Levels</strong>:\n",
       "\t</summary>\n",
       "\t<ol class=list-inline>\n",
       "\t\t<li>'MILD'</li>\n",
       "\t\t<li>'MODERATE'</li>\n",
       "\t\t<li>'SEVERE'</li>\n",
       "\t</ol>\n",
       "</details></dd>\n",
       "</dl>\n"
      ],
      "text/latex": [
       "\\begin{description}\n",
       "\\item[\\$fullname] 'Markus'\n",
       "\\item[\\$temperature] 40\n",
       "\\item[\\$symptoms] SEVERE\n",
       "\\emph{Levels}: \\begin{enumerate*}\n",
       "\\item 'MILD'\n",
       "\\item 'MODERATE'\n",
       "\\item 'SEVERE'\n",
       "\\end{enumerate*}\n",
       "\n",
       "\\end{description}\n"
      ],
      "text/markdown": [
       "$fullname\n",
       ":   'Markus'\n",
       "$temperature\n",
       ":   40\n",
       "$symptoms\n",
       ":   SEVERE\n",
       "**Levels**: 1. 'MILD'\n",
       "2. 'MODERATE'\n",
       "3. 'SEVERE'\n",
       "\n",
       "\n",
       "\n",
       "\n",
       "\n"
      ],
      "text/plain": [
       "$fullname\n",
       "[1] \"Markus\"\n",
       "\n",
       "$temperature\n",
       "[1] 40\n",
       "\n",
       "$symptoms\n",
       "[1] SEVERE\n",
       "Levels: MILD < MODERATE < SEVERE\n"
      ]
     },
     "metadata": {},
     "output_type": "display_data"
    }
   ],
   "source": [
    "subject1"
   ]
  },
  {
   "cell_type": "code",
   "execution_count": 14,
   "metadata": {},
   "outputs": [
    {
     "data": {
      "text/html": [
       "40"
      ],
      "text/latex": [
       "40"
      ],
      "text/markdown": [
       "40"
      ],
      "text/plain": [
       "[1] 40"
      ]
     },
     "metadata": {},
     "output_type": "display_data"
    }
   ],
   "source": [
    "subject1$temperature "
   ]
  },
  {
   "cell_type": "code",
   "execution_count": 15,
   "metadata": {},
   "outputs": [
    {
     "data": {
      "text/html": [
       "<dl>\n",
       "\t<dt>$fullname</dt>\n",
       "\t\t<dd>'Markus'</dd>\n",
       "\t<dt>$temperature</dt>\n",
       "\t\t<dd>40</dd>\n",
       "</dl>\n"
      ],
      "text/latex": [
       "\\begin{description}\n",
       "\\item[\\$fullname] 'Markus'\n",
       "\\item[\\$temperature] 40\n",
       "\\end{description}\n"
      ],
      "text/markdown": [
       "$fullname\n",
       ":   'Markus'\n",
       "$temperature\n",
       ":   40\n",
       "\n",
       "\n"
      ],
      "text/plain": [
       "$fullname\n",
       "[1] \"Markus\"\n",
       "\n",
       "$temperature\n",
       "[1] 40\n"
      ]
     },
     "metadata": {},
     "output_type": "display_data"
    }
   ],
   "source": [
    "subject1 [c(\"fullname\", \"temperature\")] "
   ]
  },
  {
   "cell_type": "code",
   "execution_count": 16,
   "metadata": {},
   "outputs": [],
   "source": [
    "pt_data <- data.frame (subject_name, temperature, flu_status, gender, symptoms, stringsAsFactors=FALSE) "
   ]
  },
  {
   "cell_type": "code",
   "execution_count": 17,
   "metadata": {},
   "outputs": [
    {
     "data": {
      "text/html": [
       "<ol class=list-inline>\n",
       "\t<li>37</li>\n",
       "\t<li>37.4</li>\n",
       "\t<li>40</li>\n",
       "</ol>\n"
      ],
      "text/latex": [
       "\\begin{enumerate*}\n",
       "\\item 37\n",
       "\\item 37.4\n",
       "\\item 40\n",
       "\\end{enumerate*}\n"
      ],
      "text/markdown": [
       "1. 37\n",
       "2. 37.4\n",
       "3. 40\n",
       "\n",
       "\n"
      ],
      "text/plain": [
       "[1] 37.0 37.4 40.0"
      ]
     },
     "metadata": {},
     "output_type": "display_data"
    }
   ],
   "source": [
    "pt_data$temperature "
   ]
  },
  {
   "cell_type": "code",
   "execution_count": 18,
   "metadata": {},
   "outputs": [
    {
     "data": {
      "text/html": [
       "<table>\n",
       "<thead><tr><th scope=col>temperature</th><th scope=col>subject_name</th></tr></thead>\n",
       "<tbody>\n",
       "\t<tr><td>37.0    </td><td>Jon Doe </td></tr>\n",
       "\t<tr><td>37.4    </td><td>Jane Doe</td></tr>\n",
       "\t<tr><td>40.0    </td><td>Markus  </td></tr>\n",
       "</tbody>\n",
       "</table>\n"
      ],
      "text/latex": [
       "\\begin{tabular}{r|ll}\n",
       " temperature & subject\\_name\\\\\n",
       "\\hline\n",
       "\t 37.0     & Jon Doe \\\\\n",
       "\t 37.4     & Jane Doe\\\\\n",
       "\t 40.0     & Markus  \\\\\n",
       "\\end{tabular}\n"
      ],
      "text/markdown": [
       "\n",
       "temperature | subject_name | \n",
       "|---|---|---|\n",
       "| 37.0     | Jon Doe  | \n",
       "| 37.4     | Jane Doe | \n",
       "| 40.0     | Markus   | \n",
       "\n",
       "\n"
      ],
      "text/plain": [
       "  temperature subject_name\n",
       "1 37.0        Jon Doe     \n",
       "2 37.4        Jane Doe    \n",
       "3 40.0        Markus      "
      ]
     },
     "metadata": {},
     "output_type": "display_data"
    }
   ],
   "source": [
    "pt_data [c(\"temperature\", \"subject_name\")]"
   ]
  },
  {
   "cell_type": "code",
   "execution_count": 19,
   "metadata": {},
   "outputs": [
    {
     "name": "stderr",
     "output_type": "stream",
     "text": [
      "The following objects are masked _by_ .GlobalEnv:\n",
      "\n",
      "    flu_status, gender, subject_name, symptoms, temperature\n",
      "\n"
     ]
    }
   ],
   "source": [
    "attach(pt_data) "
   ]
  },
  {
   "cell_type": "code",
   "execution_count": 20,
   "metadata": {},
   "outputs": [
    {
     "data": {
      "text/html": [
       "<ol class=list-inline>\n",
       "\t<li>37</li>\n",
       "\t<li>37.4</li>\n",
       "\t<li>40</li>\n",
       "</ol>\n"
      ],
      "text/latex": [
       "\\begin{enumerate*}\n",
       "\\item 37\n",
       "\\item 37.4\n",
       "\\item 40\n",
       "\\end{enumerate*}\n"
      ],
      "text/markdown": [
       "1. 37\n",
       "2. 37.4\n",
       "3. 40\n",
       "\n",
       "\n"
      ],
      "text/plain": [
       "[1] 37.0 37.4 40.0"
      ]
     },
     "metadata": {},
     "output_type": "display_data"
    }
   ],
   "source": [
    "temperature"
   ]
  },
  {
   "cell_type": "code",
   "execution_count": 21,
   "metadata": {},
   "outputs": [
    {
     "data": {
      "text/html": [
       "'Jane Doe'"
      ],
      "text/latex": [
       "'Jane Doe'"
      ],
      "text/markdown": [
       "'Jane Doe'"
      ],
      "text/plain": [
       "[1] \"Jane Doe\""
      ]
     },
     "metadata": {},
     "output_type": "display_data"
    }
   ],
   "source": [
    "pt_data [2, 1] "
   ]
  },
  {
   "cell_type": "code",
   "execution_count": 22,
   "metadata": {},
   "outputs": [
    {
     "data": {
      "text/html": [
       "<table>\n",
       "<thead><tr><th></th><th scope=col>temperature</th><th scope=col>gender</th></tr></thead>\n",
       "<tbody>\n",
       "\t<tr><th scope=row>1</th><td>37    </td><td>MALE  </td></tr>\n",
       "\t<tr><th scope=row>3</th><td>40    </td><td>FEMALE</td></tr>\n",
       "</tbody>\n",
       "</table>\n"
      ],
      "text/latex": [
       "\\begin{tabular}{r|ll}\n",
       "  & temperature & gender\\\\\n",
       "\\hline\n",
       "\t1 & 37     & MALE  \\\\\n",
       "\t3 & 40     & FEMALE\\\\\n",
       "\\end{tabular}\n"
      ],
      "text/markdown": [
       "\n",
       "| <!--/--> | temperature | gender | \n",
       "|---|---|\n",
       "| 1 | 37     | MALE   | \n",
       "| 3 | 40     | FEMALE | \n",
       "\n",
       "\n"
      ],
      "text/plain": [
       "  temperature gender\n",
       "1 37          MALE  \n",
       "3 40          FEMALE"
      ]
     },
     "metadata": {},
     "output_type": "display_data"
    }
   ],
   "source": [
    "pt_data [c(1, 3), c(2, 4)]"
   ]
  },
  {
   "cell_type": "code",
   "execution_count": 23,
   "metadata": {},
   "outputs": [
    {
     "data": {
      "text/html": [
       "<ol class=list-inline>\n",
       "\t<li>'Jon Doe'</li>\n",
       "\t<li>'Jane Doe'</li>\n",
       "\t<li>'Markus'</li>\n",
       "</ol>\n"
      ],
      "text/latex": [
       "\\begin{enumerate*}\n",
       "\\item 'Jon Doe'\n",
       "\\item 'Jane Doe'\n",
       "\\item 'Markus'\n",
       "\\end{enumerate*}\n"
      ],
      "text/markdown": [
       "1. 'Jon Doe'\n",
       "2. 'Jane Doe'\n",
       "3. 'Markus'\n",
       "\n",
       "\n"
      ],
      "text/plain": [
       "[1] \"Jon Doe\"  \"Jane Doe\" \"Markus\"  "
      ]
     },
     "metadata": {},
     "output_type": "display_data"
    }
   ],
   "source": [
    "pt_data [, 1]"
   ]
  },
  {
   "cell_type": "code",
   "execution_count": 24,
   "metadata": {},
   "outputs": [],
   "source": [
    "new <- c(\"Mike\", 40.5, TRUE, \"MALE\", \"SEVERE\")\n",
    "pt_data <- rbind (pt_data, new)"
   ]
  },
  {
   "cell_type": "code",
   "execution_count": 25,
   "metadata": {},
   "outputs": [],
   "source": [
    "pt_data$married <- c(\"TRUE\", \"TRUE\", \"FALSE\", \"FALSE\")"
   ]
  },
  {
   "cell_type": "code",
   "execution_count": 26,
   "metadata": {},
   "outputs": [
    {
     "ename": "ERROR",
     "evalue": "Error in eval(expr, envir, enclos): 找不到对象'married'\n",
     "output_type": "error",
     "traceback": [
      "Error in eval(expr, envir, enclos): 找不到对象'married'\nTraceback:\n"
     ]
    }
   ],
   "source": [
    "married"
   ]
  },
  {
   "cell_type": "code",
   "execution_count": null,
   "metadata": {},
   "outputs": [],
   "source": [
    "pt_data [c(\"temperature\", \"subject_name\")]"
   ]
  },
  {
   "cell_type": "code",
   "execution_count": null,
   "metadata": {},
   "outputs": [],
   "source": [
    "pt_data[c(\"married\")]"
   ]
  },
  {
   "cell_type": "code",
   "execution_count": null,
   "metadata": {},
   "outputs": [],
   "source": [
    "m <- matrix ( c(1, 2, 3, 4), nrow = 2)"
   ]
  },
  {
   "cell_type": "code",
   "execution_count": null,
   "metadata": {},
   "outputs": [],
   "source": [
    "m"
   ]
  },
  {
   "cell_type": "code",
   "execution_count": null,
   "metadata": {},
   "outputs": [],
   "source": [
    "save (x, y, z, file = \"mydata.RData\")"
   ]
  },
  {
   "cell_type": "code",
   "execution_count": null,
   "metadata": {},
   "outputs": [],
   "source": [
    "x<-1\n",
    "y<-2\n",
    "z<-3"
   ]
  },
  {
   "cell_type": "code",
   "execution_count": null,
   "metadata": {},
   "outputs": [],
   "source": [
    "save (x, y, z, file = \"mydata.RData\")"
   ]
  },
  {
   "cell_type": "code",
   "execution_count": null,
   "metadata": {},
   "outputs": [],
   "source": [
    "save.image()"
   ]
  },
  {
   "cell_type": "code",
   "execution_count": null,
   "metadata": {},
   "outputs": [],
   "source": [
    "# load (\"mydata.RData\") #it might overwrite existing data frames in your workspace"
   ]
  },
  {
   "cell_type": "code",
   "execution_count": null,
   "metadata": {},
   "outputs": [],
   "source": [
    "pt_data"
   ]
  },
  {
   "cell_type": "code",
   "execution_count": null,
   "metadata": {},
   "outputs": [],
   "source": [
    "pt_data<-pt_data[-4,] #删除第四行\n",
    "pt_data"
   ]
  },
  {
   "cell_type": "code",
   "execution_count": null,
   "metadata": {},
   "outputs": [],
   "source": [
    "pt_data<-pt_data[-c(3),] #删除第三行\n",
    "pt_data"
   ]
  },
  {
   "cell_type": "code",
   "execution_count": null,
   "metadata": {},
   "outputs": [],
   "source": [
    "subject1"
   ]
  },
  {
   "cell_type": "code",
   "execution_count": null,
   "metadata": {},
   "outputs": [],
   "source": [
    "rm(subject1)"
   ]
  },
  {
   "cell_type": "code",
   "execution_count": null,
   "metadata": {},
   "outputs": [],
   "source": [
    "subject1"
   ]
  },
  {
   "cell_type": "code",
   "execution_count": null,
   "metadata": {},
   "outputs": [],
   "source": [
    "pt_data"
   ]
  },
  {
   "cell_type": "code",
   "execution_count": null,
   "metadata": {},
   "outputs": [],
   "source": [
    "mydata <- read.csv (\"mydata.csv\",header = FALSE,stringsAsFactors=FALSE)"
   ]
  },
  {
   "cell_type": "code",
   "execution_count": null,
   "metadata": {},
   "outputs": [],
   "source": [
    "?rm"
   ]
  },
  {
   "cell_type": "code",
   "execution_count": null,
   "metadata": {},
   "outputs": [],
   "source": [
    "write.csv(mydata, file = \"mydata2.csv\", row.names = FALSE)"
   ]
  },
  {
   "cell_type": "code",
   "execution_count": 1,
   "metadata": {},
   "outputs": [],
   "source": [
    "usedcars <- read.csv (\"usedcars.csv\", stringsAsFactors = FALSE)"
   ]
  },
  {
   "cell_type": "code",
   "execution_count": 2,
   "metadata": {},
   "outputs": [
    {
     "name": "stdout",
     "output_type": "stream",
     "text": [
      "'data.frame':\t150 obs. of  6 variables:\n",
      " $ year        : int  2011 2011 2011 2011 2012 2010 2011 2010 2011 2010 ...\n",
      " $ model       : chr  \"SEL\" \"SEL\" \"SEL\" \"SEL\" ...\n",
      " $ price       : int  21992 20995 19995 17809 17500 17495 17000 16995 16995 16995 ...\n",
      " $ mileage     : int  7413 10926 7351 11613 8367 25125 27393 21026 32655 36116 ...\n",
      " $ color       : chr  \"Yellow\" \"Gray\" \"Silver\" \"Gray\" ...\n",
      " $ transmission: chr  \"AUTO\" \"AUTO\" \"AUTO\" \"AUTO\" ...\n"
     ]
    }
   ],
   "source": [
    "str (usedcars)"
   ]
  },
  {
   "cell_type": "code",
   "execution_count": 3,
   "metadata": {},
   "outputs": [
    {
     "data": {
      "text/plain": [
       "   Min. 1st Qu.  Median    Mean 3rd Qu.    Max. \n",
       "   2000    2008    2009    2009    2010    2012 "
      ]
     },
     "metadata": {},
     "output_type": "display_data"
    }
   ],
   "source": [
    "summary (usedcars$year)"
   ]
  },
  {
   "cell_type": "code",
   "execution_count": 4,
   "metadata": {},
   "outputs": [
    {
     "data": {
      "text/html": [
       "2008.72666666667"
      ],
      "text/latex": [
       "2008.72666666667"
      ],
      "text/markdown": [
       "2008.72666666667"
      ],
      "text/plain": [
       "[1] 2008.727"
      ]
     },
     "metadata": {},
     "output_type": "display_data"
    }
   ],
   "source": [
    "mean (usedcars$year)"
   ]
  },
  {
   "cell_type": "code",
   "execution_count": 5,
   "metadata": {},
   "outputs": [
    {
     "data": {
      "text/html": [
       "2009"
      ],
      "text/latex": [
       "2009"
      ],
      "text/markdown": [
       "2009"
      ],
      "text/plain": [
       "[1] 2009"
      ]
     },
     "metadata": {},
     "output_type": "display_data"
    }
   ],
   "source": [
    "median (usedcars$year)"
   ]
  },
  {
   "cell_type": "code",
   "execution_count": 6,
   "metadata": {},
   "outputs": [
    {
     "data": {
      "image/png": "[encoded data removed]",
      "text/plain": [
       "plot without title"
      ]
     },
     "metadata": {},
     "output_type": "display_data"
    }
   ],
   "source": [
    "boxplot(usedcars$price, mean=\"Boxplot of Used Car Prices\", ylab=\"Price ($)\")"
   ]
  },
  {
   "cell_type": "code",
   "execution_count": 7,
   "metadata": {},
   "outputs": [
    {
     "data": {
      "image/png": "[encoded data removed]",
      "text/plain": [
       "Plot with title \"Histogram of Used Car Prices\""
      ]
     },
     "metadata": {},
     "output_type": "display_data"
    }
   ],
   "source": [
    "hist (usedcars$price, main=\"Histogram of Used Car Prices\", xlab=\"Price ($)\")"
   ]
  },
  {
   "cell_type": "code",
   "execution_count": 10,
   "metadata": {},
   "outputs": [
    {
     "data": {
      "image/png": "[encoded data removed]",
      "text/plain": [
       "plot without title"
      ]
     },
     "metadata": {},
     "output_type": "display_data"
    }
   ],
   "source": [
    "# pdf(\"boxplot1.pdf\")\n",
    "boxplot(usedcars$price, mean=\"Boxplot of Used Car Prices\", ylab=\"Price ($)\")\n",
    "# dev.off()"
   ]
  },
  {
   "cell_type": "code",
   "execution_count": null,
   "metadata": {},
   "outputs": [],
   "source": []
  }
 ],
 "metadata": {
  "kernelspec": {
   "display_name": "R",
   "language": "R",
   "name": "ir"
  },
  "language_info": {
   "codemirror_mode": "r",
   "file_extension": ".r",
   "mimetype": "text/x-r-source",
   "name": "R",
   "pygments_lexer": "r",
   "version": "3.5.1"
  }
 },
 "nbformat": 4,
 "nbformat_minor": 2
}
