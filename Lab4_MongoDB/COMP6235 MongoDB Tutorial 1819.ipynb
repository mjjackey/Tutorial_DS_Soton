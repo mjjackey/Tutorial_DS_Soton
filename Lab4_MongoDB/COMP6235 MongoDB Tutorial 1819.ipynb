{
 "cells": [
  {
   "cell_type": "markdown",
   "metadata": {},
   "source": [
    "# Introduction\n",
    "\n",
    "## Using Jupyter\n",
    "\n",
    "Jupyter is a front end to the [IPython](https://ipython.org) interactive shell, and offers IDE like features.  It is separated into two main types of cell: [Markdown](https://en.wikipedia.org/wiki/Markdown) cells (such as this one) which allows markdown or HTML code to be written, and code cells like the next one which can be run in real time.\n",
    "\n",
    "To execute code in a cell, press `Crtl` + `Enter`, click on the `[ > ]Run` button in the main menu, or press `Shift` + `Enter` if you wish to execute the code and then move on to a new cell (creating it if it does not already exist).\n",
    "\n",
    "## Setup\n",
    "\n",
    "MongoDB is a NoSQL database, which has a core API in JavaScript, and a series of other APIs in different languages.  The one we are going to use is the Python API, [PyMongo](https://api.mongodb.com/python/current/).  MongoDB instance on your VM is already started by default.\n",
    "\n",
    "PyMongo is a package that contains tools to work with MongoDB from Python. We have installed it in the VM provided to you. "
   ]
  },
  {
   "cell_type": "markdown",
   "metadata": {},
   "source": [
    "This imports the `MongoClient` class from the pymongo module, which we will use to deal with all our connections from.  We're connecting to our localhost, which is listening on port 27017. There are more options, the documentation for the formatting of the connection string is at https://docs.mongodb.com/manual/reference/connection-string/."
   ]
  },
  {
   "cell_type": "code",
   "execution_count": 1,
   "metadata": {},
   "outputs": [],
   "source": [
    "from pymongo import MongoClient\n",
    "client = MongoClient('mongodb://localhost:27017')"
   ]
  },
  {
   "cell_type": "markdown",
   "metadata": {},
   "source": [
    "If you do not get any errors, you have confirmed PyMongo library has been successfully installed&configured in the VM. We will now check to see whether the connection is correct.  The following code calls a function which returns a list of all current databases.  If your Mongo instance is still empty, it should be something like `['admin', 'local']`."
   ]
  },
  {
   "cell_type": "code",
   "execution_count": 2,
   "metadata": {},
   "outputs": [
    {
     "data": {
      "text/plain": [
       "[u'enron', u'local', u'test']"
      ]
     },
     "execution_count": 2,
     "metadata": {},
     "output_type": "execute_result"
    }
   ],
   "source": [
    "client.list_database_names()"
   ]
  },
  {
   "cell_type": "markdown",
   "metadata": {},
   "source": [
    "Next, we are going to create a database object `db`, which is a property of the `client` object.  MongoDB is schemaless, and so accessing a database like this will create the database if it does not already exist.\n",
    "\n",
    "A database can be accessed by using \"dot\" notation (i.e., `client.dbname`), or dictionary notation (i.e., `client['dbname']`).  This also applies to making collections\n",
    "\n",
    "Create a database called `test` in a variable called `db`.  Using that variable, create a collection called `test_collection` with a variable called `collection` as follows.  Run the code in the following cell (there should not be any output)"
   ]
  },
  {
   "cell_type": "code",
   "execution_count": 3,
   "metadata": {},
   "outputs": [],
   "source": [
    "# Create database and collection objects for convenience\n",
    "db = client.test\n",
    "collection = db.test_collection"
   ]
  },
  {
   "cell_type": "markdown",
   "metadata": {},
   "source": [
    "# Using MongoDB\n",
    "\n",
    "## Inserting data\n",
    "\n",
    "MongoDB data is stored as BSON (binary JSON), which is essentially JSON with some additional optimisations, so the way to insert data is as a JSON object.  For Python, you can use a `dict` or a `list` for this, and then call either `insert_one` or `insert_many` on the collection.  "
   ]
  },
  {
   "cell_type": "code",
   "execution_count": 4,
   "metadata": {},
   "outputs": [
    {
     "data": {
      "text/plain": [
       "<pymongo.results.InsertOneResult at 0x7fdf9837c1b8>"
      ]
     },
     "execution_count": 4,
     "metadata": {},
     "output_type": "execute_result"
    }
   ],
   "source": [
    "# Create an object and insert into the `test_collection`\n",
    "single_obj = {'name': 'Amber', 'star_sign': 'Capricorn', 'favourite_song': 'The Load-Out'}\n",
    "collection.insert_one(single_obj)\n",
    "single_obj_2 = {'name': 'Huw', 'star_sign': 'Libra', 'favourite_song': 'The masses against the classes'}\n",
    "collection.insert_one(single_obj_2)\n",
    "single_obj_3 = {'name': 'Robert', 'star_sign': 'Leo', 'favourite_song': 'Bad day'}\n",
    "collection.insert_one(single_obj_3)"
   ]
  },
  {
   "cell_type": "markdown",
   "metadata": {},
   "source": [
    "We will look at querying data in more detail below, but for now, to see whether the object got successfully inserted into the collection, run the code below.  This will always return the first instance which matches the query.  You will notice that even though we didn't specify `_id` one got added already.  This is a unique identifier for the document in the collection"
   ]
  },
  {
   "cell_type": "code",
   "execution_count": 5,
   "metadata": {},
   "outputs": [
    {
     "data": {
      "text/plain": [
       "{u'_id': ObjectId('5c0843e65ccae901c5ffb8c9'),\n",
       " u'favourite_song': u'The Load-Out',\n",
       " u'name': u'Amber',\n",
       " u'star_sign': u'Capricorn'}"
      ]
     },
     "execution_count": 5,
     "metadata": {},
     "output_type": "execute_result"
    }
   ],
   "source": [
    "collection.find_one() # returns a single document matching the query condition"
   ]
  },
  {
   "cell_type": "code",
   "execution_count": 6,
   "metadata": {},
   "outputs": [
    {
     "data": {
      "text/plain": [
       "{u'_id': ObjectId('5c0843e65ccae901c5ffb8cb'),\n",
       " u'favourite_song': u'Bad day',\n",
       " u'name': u'Robert',\n",
       " u'star_sign': u'Leo'}"
      ]
     },
     "execution_count": 6,
     "metadata": {},
     "output_type": "execute_result"
    }
   ],
   "source": [
    "collection.find_one({'name':'Robert'})"
   ]
  },
  {
   "cell_type": "markdown",
   "metadata": {},
   "source": [
    "Remember, for MongoDB, you do not have to specify a schema or create a collection, it will be created automatically.  You don't need to keep to the same layout, but can have entirely different objects.  Consider the following: "
   ]
  },
  {
   "cell_type": "code",
   "execution_count": 7,
   "metadata": {},
   "outputs": [
    {
     "data": {
      "text/plain": [
       "<pymongo.results.InsertOneResult at 0x7f26c81dd2d8>"
      ]
     },
     "execution_count": 7,
     "metadata": {},
     "output_type": "execute_result"
    }
   ],
   "source": [
    "from datetime import datetime\n",
    "obj1 = {'Meaning of life': 42}\n",
    "obj2 = {'ABC': 'DEF', 'time': datetime.now()}\n",
    "collection.insert_one(obj1)\n",
    "collection.insert_one(obj2)"
   ]
  },
  {
   "cell_type": "markdown",
   "metadata": {},
   "source": [
    "We can also use the `insert_many`, which accepts a list of dicts.  In the cell below, create a list of dicts called `many_objects`, and call the `insert_many` function.  The code below that will iterate over all the documents in the database."
   ]
  },
  {
   "cell_type": "code",
   "execution_count": 8,
   "metadata": {},
   "outputs": [
    {
     "name": "stdout",
     "output_type": "stream",
     "text": [
      "{u'favourite_song': u'The Load-Out', u'_id': ObjectId('5c0843e65ccae901c5ffb8c9'), u'name': u'Amber', u'star_sign': u'Capricorn'}\n",
      "{u'favourite_song': u'The masses against the classes', u'_id': ObjectId('5c0843e65ccae901c5ffb8ca'), u'name': u'Huw', u'star_sign': u'Libra'}\n",
      "{u'favourite_song': u'Bad day', u'_id': ObjectId('5c0843e65ccae901c5ffb8cb'), u'name': u'Robert', u'star_sign': u'Leo'}\n",
      "{u'Meaning of life': 42, u'_id': ObjectId('5c0843ed5ccae901c5ffb8cc')}\n",
      "{u'_id': ObjectId('5c0843ed5ccae901c5ffb8cd'), u'ABC': u'DEF', u'time': datetime.datetime(2018, 12, 5, 21, 32, 29, 444000)}\n",
      "{u'age': 20, u'_id': ObjectId('5c0844065ccae901c5ffb8ce')}\n",
      "{u'age': 21, u'_id': ObjectId('5c0844065ccae901c5ffb8cf')}\n",
      "{u'age': 22, u'_id': ObjectId('5c0844065ccae901c5ffb8d0')}\n",
      "{u'age': 23, u'_id': ObjectId('5c0844065ccae901c5ffb8d1')}\n",
      "{u'age': 24, u'_id': ObjectId('5c0844065ccae901c5ffb8d2')}\n",
      "{u'age': 25, u'_id': ObjectId('5c0844065ccae901c5ffb8d3')}\n",
      "{u'age': 26, u'_id': ObjectId('5c0844065ccae901c5ffb8d4')}\n",
      "{u'age': 27, u'_id': ObjectId('5c0844065ccae901c5ffb8d5')}\n",
      "{u'age': 28, u'_id': ObjectId('5c0844065ccae901c5ffb8d6')}\n",
      "{u'age': 29, u'_id': ObjectId('5c0844065ccae901c5ffb8d7')}\n"
     ]
    }
   ],
   "source": [
    "# YOUR CODE HERE\n",
    "collection.insert_many([{\"age\":x} for x in range(20,30)])\n",
    "\n",
    "#See what has been inserted into the collection\n",
    "for doc in collection.find():\n",
    "    print(doc)"
   ]
  },
  {
   "cell_type": "markdown",
   "metadata": {},
   "source": [
    "## Importing and querying data\n",
    "\n",
    "For this part of the exercise, we will use a sample dataset provided by Mongo  for a documentation tutorial.  The following cell runs the `mongoimport` command, which is a Unix command which comes with Mongo for importing data. We will need to run a bash command in the next cell first.  This uses the Jupyter \\\"magics\\\", and requires that the first line include `%%bash`. The code does the following:\n",
    "\n",
    "- Download the JSON file from the url, and save as ./primer-dataset.json\n",
    "- Import into the `test` database into the collection `restaurants` whilst dropping any collection which already exists from the file ./primer-dataset.json\n",
    "- Deletes the file.\n",
    "\n",
    " Click on the following cell, and execute it:"
   ]
  },
  {
   "cell_type": "code",
   "execution_count": 9,
   "metadata": {},
   "outputs": [
    {
     "name": "stderr",
     "output_type": "stream",
     "text": [
      "--2018-12-05 21:33:28--  https://raw.githubusercontent.com/mongodb/docs-assets/primer-dataset/primer-dataset.json\n",
      "Resolving raw.githubusercontent.com (raw.githubusercontent.com)... 151.101.16.133\n",
      "Connecting to raw.githubusercontent.com (raw.githubusercontent.com)|151.101.16.133|:443... connected.\n",
      "HTTP request sent, awaiting response... 200 OK\n",
      "Length: 11874761 (11M) [text/plain]\n",
      "Saving to: ‘primer-dataset.json’\n",
      "\n",
      "     0K .......... .......... .......... .......... ..........  0% 14.8K 12m59s\n",
      "    50K .......... .......... .......... .......... ..........  0% 23.7K 10m30s\n",
      "   100K .......... .......... .......... .......... ..........  1% 41.1K 8m31s\n",
      "   150K .......... .......... .......... .......... ..........  1% 31.4K 7m52s\n",
      "   200K .......... .......... .......... .......... ..........  2%  398K 6m22s\n",
      "   250K .......... .......... .......... .......... ..........  2% 31.7K 6m16s\n",
      "   300K .......... .......... .......... .......... ..........  3% 22.2K 6m33s\n",
      "   350K .......... .......... .......... .......... ..........  3%  180K 5m50s\n",
      "   400K .......... .......... .......... .......... ..........  3%  826K 5m11s\n",
      "   450K .......... .......... .......... .......... ..........  4%  258K 4m43s\n",
      "   500K .......... .......... .......... .......... ..........  4%  339K 4m19s\n",
      "   550K .......... .......... .......... .......... ..........  5%  284K 4m0s\n",
      "   600K .......... .......... .......... .......... ..........  5%  285K 3m43s\n",
      "   650K .......... .......... .......... .......... ..........  6%  157K 3m31s\n",
      "   700K .......... .......... .......... .......... ..........  6%  273K 3m19s\n",
      "   750K .......... .......... .......... .......... ..........  6% 24.4K 3m34s\n",
      "   800K .......... .......... .......... .......... ..........  7% 1.56M 3m20s\n",
      "   850K .......... .......... .......... .......... ..........  7% 3.53M 3m9s\n",
      "   900K .......... .......... .......... .......... ..........  8% 1.28M 2m58s\n",
      "   950K .......... .......... .......... .......... ..........  8%  566K 2m49s\n",
      "  1000K .......... .......... .......... .......... ..........  9% 1.85M 2m41s\n",
      "  1050K .......... .......... .......... .......... ..........  9%  971K 2m33s\n",
      "  1100K .......... .......... .......... .......... ..........  9%  473K 2m27s\n",
      "  1150K .......... .......... .......... .......... .......... 10% 1.81M 2m20s\n",
      "  1200K .......... .......... .......... .......... .......... 10% 1.98M 2m14s\n",
      "  1250K .......... .......... .......... .......... .......... 11% 3.94M 2m9s\n",
      "  1300K .......... .......... .......... .......... .......... 11% 1.78M 2m3s\n",
      "  1350K .......... .......... .......... .......... .......... 12% 3.07M 1m59s\n",
      "  1400K .......... .......... .......... .......... .......... 12% 2.15M 1m54s\n",
      "  1450K .......... .......... .......... .......... .......... 12% 1.69M 1m50s\n",
      "  1500K .......... .......... .......... .......... .......... 13% 1.81M 1m46s\n",
      "  1550K .......... .......... .......... .......... .......... 13% 3.66M 1m42s\n",
      "  1600K .......... .......... .......... .......... .......... 14% 2.14M 99s\n",
      "  1650K .......... .......... .......... .......... .......... 14%  560K 96s\n",
      "  1700K .......... .......... .......... .......... .......... 15%  503K 93s\n",
      "  1750K .......... .......... .......... .......... .......... 15%  836K 91s\n",
      "  1800K .......... .......... .......... .......... .......... 15% 1.96M 88s\n",
      "  1850K .......... .......... .......... .......... .......... 16% 2.63M 85s\n",
      "  1900K .......... .......... .......... .......... .......... 16% 1.37M 83s\n",
      "  1950K .......... .......... .......... .......... .......... 17%  607K 81s\n",
      "  2000K .......... .......... .......... .......... .......... 17% 1.04M 78s\n",
      "  2050K .......... .......... .......... .......... .......... 18%  444K 77s\n",
      "  2100K .......... .......... .......... .......... .......... 18%  528K 75s\n",
      "  2150K .......... .......... .......... .......... .......... 18%  185K 74s\n",
      "  2200K .......... .......... .......... .......... .......... 19%  487K 72s\n",
      "  2250K .......... .......... .......... .......... .......... 19% 35.4K 76s\n",
      "  2300K .......... .......... .......... .......... .......... 20%  301K 75s\n",
      "  2350K .......... .......... .......... .......... .......... 20%  254K 74s\n",
      "  2400K .......... .......... .......... .......... .......... 21%  891K 72s\n",
      "  2450K .......... .......... .......... .......... .......... 21%  753K 70s\n",
      "  2500K .......... .......... .......... .......... .......... 21% 36.2K 73s\n",
      "  2550K .......... .......... .......... .......... .......... 22%  650K 72s\n",
      "  2600K .......... .......... .......... .......... .......... 22% 1.03M 70s\n",
      "  2650K .......... .......... .......... .......... .......... 23% 2.50M 69s\n",
      "  2700K .......... .......... .......... .......... .......... 23%  549K 67s\n",
      "  2750K .......... .......... .......... .......... .......... 24%  164K 67s\n",
      "  2800K .......... .......... .......... .......... .......... 24% 24.8K 71s\n",
      "  2850K .......... .......... .......... .......... .......... 25% 2.14M 70s\n",
      "  2900K .......... .......... .......... .......... .......... 25% 4.48M 68s\n",
      "  2950K .......... .......... .......... .......... .......... 25%  490K 67s\n",
      "  3000K .......... .......... .......... .......... .......... 26% 8.43M 66s\n",
      "  3050K .......... .......... .......... .......... .......... 26% 11.6M 64s\n",
      "  3100K .......... .......... .......... .......... .......... 27%  220K 63s\n",
      "  3150K .......... .......... .......... .......... .......... 27% 1.84M 62s\n",
      "  3200K .......... .......... .......... .......... .......... 28% 6.68M 61s\n",
      "  3250K .......... .......... .......... .......... .......... 28% 10.7M 60s\n",
      "  3300K .......... .......... .......... .......... .......... 28%  384K 59s\n",
      "  3350K .......... .......... .......... .......... .......... 29% 7.07M 57s\n",
      "  3400K .......... .......... .......... .......... .......... 29%  460K 56s\n",
      "  3450K .......... .......... .......... .......... .......... 30%  469K 56s\n",
      "  3500K .......... .......... .......... .......... .......... 30%  480K 55s\n",
      "  3550K .......... .......... .......... .......... .......... 31% 14.9M 54s\n",
      "  3600K .......... .......... .......... .......... .......... 31% 16.6M 53s\n",
      "  3650K .......... .......... .......... .......... .......... 31% 80.6K 53s\n",
      "  3700K .......... .......... .......... .......... .......... 32% 62.1K 53s\n",
      "  3750K .......... .......... .......... .......... .......... 32% 1.46M 53s\n",
      "  3800K .......... .......... .......... .......... .......... 33%  574K 52s\n",
      "  3850K .......... .......... .......... .......... .......... 33% 12.7M 51s\n",
      "  3900K .......... .......... .......... .......... .......... 34% 14.0M 50s\n",
      "  3950K .......... .......... .......... .......... .......... 34% 16.9M 49s\n",
      "  4000K .......... .......... .......... .......... .......... 34% 16.5M 48s\n",
      "  4050K .......... .......... .......... .......... .......... 35% 24.2M 47s\n",
      "  4100K .......... .......... .......... .......... .......... 35%  235K 46s\n",
      "  4150K .......... .......... .......... .......... .......... 36%  341K 46s\n",
      "  4200K .......... .......... .......... .......... .......... 36% 16.8K 50s\n",
      "  4250K .......... .......... .......... .......... .......... 37%  719K 49s\n",
      "  4300K .......... .......... .......... .......... .......... 37% 13.2M 48s\n",
      "  4350K .......... .......... .......... .......... .......... 37% 18.5M 48s\n",
      "  4400K .......... .......... .......... .......... .......... 38% 24.6M 47s\n",
      "  4450K .......... .......... .......... .......... .......... 38% 58.9K 47s\n",
      "  4500K .......... .......... .......... .......... .......... 39% 7.14M 46s\n",
      "  4550K .......... .......... .......... .......... .......... 39% 10.2M 46s\n",
      "  4600K .......... .......... .......... .......... .......... 40% 10.8M 45s\n",
      "  4650K .......... .......... .......... .......... .......... 40% 14.1M 44s\n",
      "  4700K .......... .......... .......... .......... .......... 40% 73.3K 44s\n",
      "  4750K .......... .......... .......... .......... .......... 41% 12.6M 43s\n",
      "  4800K .......... .......... .......... .......... .......... 41% 12.8M 43s\n",
      "  4850K .......... .......... .......... .......... .......... 42% 17.2M 42s\n",
      "  4900K .......... .......... .......... .......... .......... 42% 21.0M 41s\n",
      "  4950K .......... .......... .......... .......... .......... 43% 26.2M 40s\n",
      "  5000K .......... .......... .......... .......... .......... 43% 32.3M 40s\n",
      "  5050K .......... .......... .......... .......... .......... 43% 25.4M 39s\n",
      "  5100K .......... .......... .......... .......... .......... 44% 25.8M 38s\n",
      "  5150K .......... .......... .......... .......... .......... 44% 25.2M 38s\n",
      "  5200K .......... .......... .......... .......... .......... 45%  913K 37s\n",
      "  5250K .......... .......... .......... .......... .......... 45%  673K 37s\n",
      "  5300K .......... .......... .......... .......... .......... 46%  455K 36s\n",
      "  5350K .......... .......... .......... .......... .......... 46% 1.55M 36s\n",
      "  5400K .......... .......... .......... .......... .......... 46%  417K 35s\n",
      "  5450K .......... .......... .......... .......... .......... 47%  458K 35s\n",
      "  5500K .......... .......... .......... .......... .......... 47%  751K 34s\n",
      "  5550K .......... .......... .......... .......... .......... 48% 1.86M 33s\n",
      "  5600K .......... .......... .......... .......... .......... 48%  990K 33s\n",
      "  5650K .......... .......... .......... .......... .......... 49%  197K 33s\n",
      "  5700K .......... .......... .......... .......... .......... 49%  105K 33s\n",
      "  5750K .......... .......... .......... .......... .......... 50%  615K 32s\n",
      "  5800K .......... .......... .......... .......... .......... 50% 79.0K 32s\n",
      "  5850K .......... .......... .......... .......... .......... 50%  471K 32s\n",
      "  5900K .......... .......... .......... .......... .......... 51%  537K 31s\n",
      "  5950K .......... .......... .......... .......... .......... 51%  437K 31s\n",
      "  6000K .......... .......... .......... .......... .......... 52%  266K 31s\n",
      "  6050K .......... .......... .......... .......... .......... 52% 1.84M 30s\n",
      "  6100K .......... .......... .......... .......... .......... 53%  144K 30s\n",
      "  6150K .......... .......... .......... .......... .......... 53% 1.03M 29s\n",
      "  6200K .......... .......... .......... .......... .......... 53% 1.81M 29s\n",
      "  6250K .......... .......... .......... .......... .......... 54%  262K 29s\n",
      "  6300K .......... .......... .......... .......... .......... 54%  125K 28s\n",
      "  6350K .......... .......... .......... .......... .......... 55%  302K 28s\n",
      "  6400K .......... .......... .......... .......... .......... 55% 3.01M 28s\n",
      "  6450K .......... .......... .......... .......... .......... 56%  170K 27s\n",
      "  6500K .......... .......... .......... .......... .......... 56% 2.25M 27s\n",
      "  6550K .......... .......... .......... .......... .......... 56% 45.9K 27s\n",
      "  6600K .......... .......... .......... .......... .......... 57%  656K 27s\n",
      "  6650K .......... .......... .......... .......... .......... 57% 4.04M 26s\n",
      "  6700K .......... .......... .......... .......... .......... 58% 8.58M 26s\n",
      "  6750K .......... .......... .......... .......... .......... 58% 8.38M 25s\n",
      "  6800K .......... .......... .......... .......... .......... 59% 11.6M 25s\n",
      "  6850K .......... .......... .......... .......... .......... 59% 11.3M 25s\n",
      "  6900K .......... .......... .......... .......... .......... 59% 15.4M 24s\n",
      "  6950K .......... .......... .......... .......... .......... 60% 18.6M 24s\n",
      "  7000K .......... .......... .......... .......... .......... 60% 27.5M 23s\n",
      "  7050K .......... .......... .......... .......... .......... 61% 17.9M 23s\n",
      "  7100K .......... .......... .......... .......... .......... 61% 23.6M 22s\n",
      "  7150K .......... .......... .......... .......... .......... 62%  392K 22s\n",
      "  7200K .......... .......... .......... .......... .......... 62%  364K 22s\n",
      "  7250K .......... .......... .......... .......... .......... 62%  720K 21s\n",
      "  7300K .......... .......... .......... .......... .......... 63% 85.3K 21s\n",
      "  7350K .......... .......... .......... .......... .......... 63%  296K 21s\n",
      "  7400K .......... .......... .......... .......... .......... 64%  374K 21s\n",
      "  7450K .......... .......... .......... .......... .......... 64%  490K 20s\n",
      "  7500K .......... .......... .......... .......... .......... 65%  336K 20s\n",
      "  7550K .......... .......... .......... .......... .......... 65%  730K 20s\n",
      "  7600K .......... .......... .......... .......... .......... 65%  228K 19s\n",
      "  7650K .......... .......... .......... .......... .......... 66%  232K 19s\n",
      "  7700K .......... .......... .......... .......... .......... 66% 66.2K 19s\n",
      "  7750K .......... .......... .......... .......... .......... 67% 1006K 19s\n",
      "  7800K .......... .......... .......... .......... .......... 67%  115K 19s\n",
      "  7850K .......... .......... .......... .......... .......... 68%  576K 18s\n",
      "  7900K .......... .......... .......... .......... .......... 68% 1.72M 18s\n",
      "  7950K .......... .......... .......... .......... .......... 68%  394K 18s\n",
      "  8000K .......... .......... .......... .......... .......... 69%  328K 17s\n",
      "  8050K .......... .......... .......... .......... .......... 69%  193K 17s\n",
      "  8100K .......... .......... .......... .......... .......... 70%  112K 17s\n",
      "  8150K .......... .......... .......... .......... .......... 70%  312K 17s\n",
      "  8200K .......... .......... .......... .......... .......... 71%  307K 16s\n",
      "  8250K .......... .......... .......... .......... .......... 71%  102K 16s\n",
      "  8300K .......... .......... .......... .......... .......... 72%  119K 16s\n",
      "  8350K .......... .......... .......... .......... .......... 72%  248K 16s\n",
      "  8400K .......... .......... .......... .......... .......... 72%  929K 16s\n",
      "  8450K .......... .......... .......... .......... .......... 73% 87.4K 15s\n",
      "  8500K .......... .......... .......... .......... .......... 73%  312K 15s\n",
      "  8550K .......... .......... .......... .......... .......... 74%  123K 15s\n",
      "  8600K .......... .......... .......... .......... .......... 74%  283K 15s\n",
      "  8650K .......... .......... .......... .......... .......... 75%  120K 15s\n",
      "  8700K .......... .......... .......... .......... .......... 75% 51.1K 14s\n",
      "  8750K .......... .......... .......... .......... .......... 75% 1.22M 14s\n",
      "  8800K .......... .......... .......... .......... .......... 76%  485K 14s\n",
      "  8850K .......... .......... .......... .......... .......... 76%  240K 14s\n",
      "  8900K .......... .......... .......... .......... .......... 77%  148K 13s\n",
      "  8950K .......... .......... .......... .......... .......... 77%  188K 13s\n",
      "  9000K .......... .......... .......... .......... .......... 78% 61.4K 13s\n",
      "  9050K .......... .......... .......... .......... .......... 78%  108K 13s\n",
      "  9100K .......... .......... .......... .......... .......... 78% 26.2K 13s\n",
      "  9150K .......... .......... .......... .......... .......... 79%  728K 13s\n",
      "  9200K .......... .......... .......... .......... .......... 79% 33.3K 13s\n",
      "  9250K .......... .......... .......... .......... .......... 80% 58.8K 13s\n",
      "  9300K .......... .......... .......... .......... .......... 80%  569K 12s\n",
      "  9350K .......... .......... .......... .......... .......... 81%  398K 12s\n",
      "  9400K .......... .......... .......... .......... .......... 81% 3.09M 12s\n",
      "  9450K .......... .......... .......... .......... .......... 81% 2.02M 11s\n",
      "  9500K .......... .......... .......... .......... .......... 82% 1.04M 11s\n",
      "  9550K .......... .......... .......... .......... .......... 82%  910K 11s\n",
      "  9600K .......... .......... .......... .......... .......... 83%  165K 10s\n",
      "  9650K .......... .......... .......... .......... .......... 83%  188K 10s\n",
      "  9700K .......... .......... .......... .......... .......... 84%  465K 10s\n",
      "  9750K .......... .......... .......... .......... .......... 84%  534K 10s\n",
      "  9800K .......... .......... .......... .......... .......... 84%  232K 9s\n",
      "  9850K .......... .......... .......... .......... .......... 85%  210K 9s\n",
      "  9900K .......... .......... .......... .......... .......... 85%  198K 9s\n",
      "  9950K .......... .......... .......... .......... .......... 86%  111K 9s\n",
      " 10000K .......... .......... .......... .......... .......... 86%  679K 8s\n",
      " 10050K .......... .......... .......... .......... .......... 87%  253K 8s\n",
      " 10100K .......... .......... .......... .......... .......... 87% 66.8K 8s\n",
      " 10150K .......... .......... .......... .......... .......... 87% 17.2K 8s\n",
      " 10200K .......... .......... .......... .......... .......... 88%  414K 8s\n",
      " 10250K .......... .......... .......... .......... .......... 88%  135K 7s\n",
      " 10300K .......... .......... .......... .......... .......... 89%  301K 7s\n",
      " 10350K .......... .......... .......... .......... .......... 89% 20.0K 7s\n",
      " 10400K .......... .......... .......... .......... .......... 90% 19.3M 7s\n",
      " 10450K .......... .......... .......... .......... .......... 90% 9.21M 6s\n",
      " 10500K .......... .......... .......... .......... .......... 90% 15.6M 6s\n",
      " 10550K .......... .......... .......... .......... .......... 91% 14.5M 6s\n",
      " 10600K .......... .......... .......... .......... .......... 91% 13.6M 5s\n",
      " 10650K .......... .......... .......... .......... .......... 92% 12.0M 5s\n",
      " 10700K .......... .......... .......... .......... .......... 92% 16.7M 5s\n",
      " 10750K .......... .......... .......... .......... .......... 93% 23.3M 4s\n",
      " 10800K .......... .......... .......... .......... .......... 93% 19.6M 4s\n",
      " 10850K .......... .......... .......... .......... .......... 93% 15.2M 4s\n",
      " 10900K .......... .......... .......... .......... .......... 94% 29.5M 4s\n",
      " 10950K .......... .......... .......... .......... .......... 94% 32.1M 3s\n",
      " 11000K .......... .......... .......... .......... .......... 95% 27.5M 3s\n",
      " 11050K .......... .......... .......... .......... .......... 95% 22.5M 3s\n",
      " 11100K .......... .......... .......... .......... .......... 96% 28.8M 2s\n",
      " 11150K .......... .......... .......... .......... .......... 96% 30.9M 2s\n",
      " 11200K .......... .......... .......... .......... .......... 97% 24.2M 2s\n",
      " 11250K .......... .......... .......... .......... .......... 97% 17.7M 2s\n",
      " 11300K .......... .......... .......... .......... .......... 97% 22.3M 1s\n",
      " 11350K .......... .......... .......... .......... .......... 98% 25.6M 1s\n",
      " 11400K .......... .......... .......... .......... .......... 98% 31.1M 1s\n",
      " 11450K .......... .......... .......... .......... .......... 99% 20.4M 1s\n",
      " 11500K .......... .......... .......... .......... .......... 99% 31.2M 0s\n",
      " 11550K .......... .......... .......... .......... ......    100% 2.31M=61s\n",
      "\n",
      "2018-12-05 21:34:34 (192 KB/s) - ‘primer-dataset.json’ saved [11874761/11874761]\n",
      "\n",
      "2018-12-05T21:34:35.010+0000\tconnected to: localhost\n",
      "2018-12-05T21:34:35.010+0000\tdropping: test.restaurants\n",
      "2018-12-05T21:34:37.969+0000\timported 25359 documents\n"
     ]
    }
   ],
   "source": [
    "%%bash\n",
    "# Use wget to download the data\n",
    "wget https://raw.githubusercontent.com/mongodb/docs-assets/primer-dataset/primer-dataset.json\n",
    "# mongoimport is the Mongo command to import data.  \n",
    "# It specifies the database, collection and format, and import file\n",
    "# --drop means it's going to drop any collection with the same name which already exists\n",
    "mongoimport --db test --collection restaurants --drop --file ./primer-dataset.json\n",
    "# Delete the JSON file we just downloaded\n",
    "rm ./primer-dataset.json"
   ]
  },
  {
   "cell_type": "markdown",
   "metadata": {},
   "source": [
    "Change the variable `collection` to refer to the new collection `restaurants`, and inspect the general format of the data by adding the code below to find the first record of the collection:"
   ]
  },
  {
   "cell_type": "code",
   "execution_count": 10,
   "metadata": {},
   "outputs": [
    {
     "data": {
      "text/plain": [
       "{u'_id': ObjectId('5c08446bb248ceabdae26eaa'),\n",
       " u'address': {u'building': u'1007',\n",
       "  u'coord': [-73.856077, 40.848447],\n",
       "  u'street': u'Morris Park Ave',\n",
       "  u'zipcode': u'10462'},\n",
       " u'borough': u'Bronx',\n",
       " u'cuisine': u'Bakery',\n",
       " u'grades': [{u'date': datetime.datetime(2014, 3, 3, 0, 0),\n",
       "   u'grade': u'A',\n",
       "   u'score': 2},\n",
       "  {u'date': datetime.datetime(2013, 9, 11, 0, 0), u'grade': u'A', u'score': 6},\n",
       "  {u'date': datetime.datetime(2013, 1, 24, 0, 0),\n",
       "   u'grade': u'A',\n",
       "   u'score': 10},\n",
       "  {u'date': datetime.datetime(2011, 11, 23, 0, 0),\n",
       "   u'grade': u'A',\n",
       "   u'score': 9},\n",
       "  {u'date': datetime.datetime(2011, 3, 10, 0, 0),\n",
       "   u'grade': u'B',\n",
       "   u'score': 14}],\n",
       " u'name': u'Morris Park Bake Shop',\n",
       " u'restaurant_id': u'30075445'}"
      ]
     },
     "execution_count": 10,
     "metadata": {},
     "output_type": "execute_result"
    }
   ],
   "source": [
    "# YOUR CODE HERE\n",
    "collection = db.restaurants\n",
    "collection.find_one()"
   ]
  },
  {
   "cell_type": "markdown",
   "metadata": {},
   "source": [
    "We saw the [`collection.find()`](https://api.mongodb.com/python/current/api/pymongo/collection.html#pymongo.collection.Collection.find) function earlier to return all the documents we inserted into our `test` collection.  Without any arguments, `find()` will return a cursor of all the available documents from in the collection.  To refine queries, however, the search can be filtered by the addition of a first parameter.\n",
    "\n",
    "The `filter` parameter is a dict, which searches for the documents where `key` = `value` where the dict is of the form `{key: value}`.  For example, to find all bakeries in the city, we would do the following query:   \n",
    "\n",
    "**WARNING** Unlike the Mongo command line interface, if you try and print the output of a `find()` query, it will continue to output all results until it has finished.  This can cause the browser to crash, particularly if it is a particularly large query set.\n",
    "\n",
    "Using `find().count()` is a useful way of checking how many a result will return, and `find_one()` to see the general structure of a result. If you use `find()`, make sure you either include the `limit` argument, or have a counter or other condition to break out of your printing loop!"
   ]
  },
  {
   "cell_type": "code",
   "execution_count": 11,
   "metadata": {},
   "outputs": [
    {
     "data": {
      "text/plain": [
       "<pymongo.cursor.Cursor at 0x7f26c87e8610>"
      ]
     },
     "execution_count": 11,
     "metadata": {},
     "output_type": "execute_result"
    }
   ],
   "source": [
    "collection.find({'cuisine': 'Bakery'}).limit(5)"
   ]
  },
  {
   "cell_type": "markdown",
   "metadata": {},
   "source": [
    "Noted, count() is deprecated in the MongoDb drivers compatible with the 4.0features, as a result, we should use countDocuments() in the following exercises. (for more information, check https://docs.mongodb.com/manual/reference/method/db.collection.count/ and http://api.mongodb.com/python/current/changelog.html)"
   ]
  },
  {
   "cell_type": "code",
   "execution_count": 22,
   "metadata": {},
   "outputs": [
    {
     "data": {
      "text/plain": [
       "691"
      ]
     },
     "execution_count": 22,
     "metadata": {},
     "output_type": "execute_result"
    }
   ],
   "source": [
    "collection.count_documents({'cuisine': 'Bakery'})"
   ]
  },
  {
   "cell_type": "markdown",
   "metadata": {},
   "source": [
    "A filter can have as many conditions as you like, and will assume that you are using an AND condition, unless you specify otherwise (as below).  In the cell below, write a query to return the number/count of all the establishments with a cuisine of `Hamburgers` in the borough of Manhattan."
   ]
  },
  {
   "cell_type": "code",
   "execution_count": 13,
   "metadata": {},
   "outputs": [
    {
     "data": {
      "text/plain": [
       "124"
      ]
     },
     "execution_count": 13,
     "metadata": {},
     "output_type": "execute_result"
    }
   ],
   "source": [
    "# YOUR CODE HERE\n",
    "# All establishments with: \n",
    "# * a cuisine of 'Hamburgers' \n",
    "# * in the borough of 'Manhattan\n",
    "\n",
    "collection.count_documents({'cuisine': 'Hamburgers', 'borough': 'Manhattan'})"
   ]
  },
  {
   "cell_type": "code",
   "execution_count": 20,
   "metadata": {},
   "outputs": [
    {
     "data": {
      "text/plain": [
       "[u'Bakery',\n",
       " u'Hamburgers',\n",
       " u'Irish',\n",
       " u'American',\n",
       " u'Jewish/Kosher',\n",
       " u'Delicatessen',\n",
       " u'Ice Cream, Gelato, Yogurt, Ices',\n",
       " u'Chinese',\n",
       " u'Chicken',\n",
       " u'Turkish',\n",
       " u'Caribbean',\n",
       " u'Donuts',\n",
       " u'Sandwiches/Salads/Mixed Buffet',\n",
       " u'Bagels/Pretzels',\n",
       " u'Continental',\n",
       " u'Pizza',\n",
       " u'Italian',\n",
       " u'Steak',\n",
       " u'Polish',\n",
       " u'Latin (Cuban, Dominican, Puerto Rican, South & Central American)',\n",
       " u'German',\n",
       " u'French',\n",
       " u'Pizza/Italian',\n",
       " u'Mexican',\n",
       " u'Spanish',\n",
       " u'Caf\\xe9/Coffee/Tea',\n",
       " u'Tex-Mex',\n",
       " u'Pancakes/Waffles',\n",
       " u'Soul Food',\n",
       " u'Seafood',\n",
       " u'Hotdogs',\n",
       " u'Greek',\n",
       " u'Not Listed/Not Applicable',\n",
       " u'African',\n",
       " u'Japanese',\n",
       " u'Indian',\n",
       " u'Armenian',\n",
       " u'Thai',\n",
       " u'Chinese/Cuban',\n",
       " u'Mediterranean',\n",
       " u'Korean',\n",
       " u'Bottled beverages, including water, sodas, juices, etc.',\n",
       " u'Russian',\n",
       " u'Eastern European',\n",
       " u'Middle Eastern',\n",
       " u'Asian',\n",
       " u'Ethiopian',\n",
       " u'Vegetarian',\n",
       " u'Barbecue',\n",
       " u'Egyptian',\n",
       " u'English',\n",
       " u'Other',\n",
       " u'Sandwiches',\n",
       " u'Portuguese',\n",
       " u'Indonesian',\n",
       " u'Chinese/Japanese',\n",
       " u'Filipino',\n",
       " u'Juice, Smoothies, Fruit Salads',\n",
       " u'Brazilian',\n",
       " u'Afghan',\n",
       " u'Vietnamese/Cambodian/Malaysia',\n",
       " u'Caf\\xc3\\xa9/Coffee/Tea',\n",
       " u'Soups & Sandwiches',\n",
       " u'Tapas',\n",
       " u'Moroccan',\n",
       " u'Pakistani',\n",
       " u'Peruvian',\n",
       " u'Bangladeshi',\n",
       " u'Czech',\n",
       " u'Salads',\n",
       " u'Creole',\n",
       " u'Fruits/Vegetables',\n",
       " u'Iranian',\n",
       " u'Cajun',\n",
       " u'Scandinavian',\n",
       " u'Polynesian',\n",
       " u'Soups',\n",
       " u'Australian',\n",
       " u'Hotdogs/Pretzels',\n",
       " u'Southwestern',\n",
       " u'Nuts/Confectionary',\n",
       " u'Hawaiian',\n",
       " u'Creole/Cajun',\n",
       " u'Californian',\n",
       " u'Chilean']"
      ]
     },
     "execution_count": 20,
     "metadata": {},
     "output_type": "execute_result"
    }
   ],
   "source": [
    "collection.distinct('cuisine')"
   ]
  },
  {
   "cell_type": "code",
   "execution_count": 17,
   "metadata": {},
   "outputs": [
    {
     "data": {
      "text/plain": [
       "[]"
      ]
     },
     "execution_count": 17,
     "metadata": {},
     "output_type": "execute_result"
    }
   ],
   "source": [
    "collection.distinct('coord')"
   ]
  },
  {
   "cell_type": "code",
   "execution_count": 18,
   "metadata": {},
   "outputs": [
    {
     "data": {
      "text/plain": [
       "<pymongo.cursor.Cursor at 0x7f26c87e8910>"
      ]
     },
     "execution_count": 18,
     "metadata": {},
     "output_type": "execute_result"
    }
   ],
   "source": [
    "collection.find({'street': 'Morris Park Ave'})"
   ]
  },
  {
   "cell_type": "code",
   "execution_count": 27,
   "metadata": {},
   "outputs": [
    {
     "data": {
      "text/plain": [
       "0"
      ]
     },
     "execution_count": 27,
     "metadata": {},
     "output_type": "execute_result"
    }
   ],
   "source": [
    "collection.count_documents({'street': \"Morris\"+\"\\000\"+\"Park\"+\"\\000\"+\"Ave\"})"
   ]
  },
  {
   "cell_type": "code",
   "execution_count": 19,
   "metadata": {},
   "outputs": [],
   "source": [
    "from pprint import pprint\n",
    "cursor=collection.find({'street': 'Morris Park Ave'})\n",
    "for c in cursor:\n",
    "    pprint(c)"
   ]
  },
  {
   "cell_type": "code",
   "execution_count": 23,
   "metadata": {},
   "outputs": [
    {
     "data": {
      "text/plain": [
       "2338"
      ]
     },
     "execution_count": 23,
     "metadata": {},
     "output_type": "execute_result"
    }
   ],
   "source": [
    "collection.count_documents({'borough':'Bronx'})"
   ]
  },
  {
   "cell_type": "markdown",
   "metadata": {},
   "source": [
    "### Sub-documents\n",
    "\n",
    "A valid JSON style \"document\" can have another JSON document inside it.  To access these, we use the \"dot\" notation to access them.  For example, to get all the restaurants in a certain zipcode, you would run code as follows:"
   ]
  },
  {
   "cell_type": "code",
   "execution_count": null,
   "metadata": {},
   "outputs": [],
   "source": [
    "from pprint import pprint\n",
    "cursor = collection.find({'address.zipcode': '10462'}, limit=5)\n",
    "for c in cursor:\n",
    "    pprint(c)"
   ]
  },
  {
   "cell_type": "markdown",
   "metadata": {},
   "source": [
    "### Operators\n",
    "\n",
    "MongoDB has a series of [operators](https://docs.mongodb.com/manual/reference/operator/query/) which allow us to do more sophisticated filters on our queries.  There are too many to go into individually, but we will look at a few important ones.  The specific syntax varies depending on the operator, so it isn't possible to give a general rule, but we will go over a few examples here.  Make sure you check the [documentation](https://docs.mongodb.com/manual/reference/operator/query/) for use on each one.\n",
    "\n",
    "#### [\\$or](https://docs.mongodb.com/manual/reference/operator/query/or/#op._S_or)\n",
    "\n",
    "Performs a logical **OR** operation on all the key/value pairs in a list, as in the code below:"
   ]
  },
  {
   "cell_type": "code",
   "execution_count": null,
   "metadata": {},
   "outputs": [],
   "source": [
    "filter = {\"$or\": [{\"cuisine\": \"Polynesian\"}, {\"cuisine\": \"Hawaiian\"}]}\n",
    "for f in collection.find(filter):\n",
    "    pprint(f)"
   ]
  },
  {
   "cell_type": "markdown",
   "metadata": {},
   "source": [
    "#### [`$regex`](https://docs.mongodb.com/manual/reference/operator/query/regex/#op._S_regex)\n",
    "\n",
    "The `$regex` operator searches for a regular expression on a particular field.  Within the filter field, the named field (a key) takes a dict as a value.  \n",
    "\n",
    "For example, to search for all restaurants which start with the word \"Pretzel\" in the title you can do the following:"
   ]
  },
  {
   "cell_type": "code",
   "execution_count": null,
   "metadata": {},
   "outputs": [],
   "source": [
    "filter = {\"name\": {\"$regex\": '^Pretzel'}}\n",
    "collection.count_documents(filter)"
   ]
  },
  {
   "cell_type": "markdown",
   "metadata": {},
   "source": [
    "There are other ways to use regular expressions in PyMongo, you can use the [`re`](https://docs.python.org/3/library/re.html) module in Python.  In Mongo itself, you can use the following syntax: The simplest is to enclose the regular expression inside `/` characters, as in `{\"name\": /^Pretzel/}`, but that doesn't work properly in PyMongo.\n",
    "\n",
    "Using the `$regex` operator, find all restaurants which end in \"Bar\" in the borough of Brooklyn.\n",
    "\n",
    "HINT: The regex character for the end of a string is `$`"
   ]
  },
  {
   "cell_type": "code",
   "execution_count": null,
   "metadata": {},
   "outputs": [],
   "source": [
    "# YOUR CODE HERE\n"
   ]
  },
  {
   "cell_type": "markdown",
   "metadata": {},
   "source": [
    "#### [`$gt`](https://docs.mongodb.com/manual/reference/operator/query/gt/#op._S_gt)\n",
    "\n",
    "The `$gt` operator is a comparison between two values where one is greater than the other.  \n",
    "\n",
    "For example, consider this code which finds restaurants which have had a score of more than 15:"
   ]
  },
  {
   "cell_type": "code",
   "execution_count": null,
   "metadata": {},
   "outputs": [],
   "source": [
    "filter = {'grades.score': {'$gt': 12}}\n",
    "collection.count_documents(filter)"
   ]
  },
  {
   "cell_type": "markdown",
   "metadata": {},
   "source": [
    "Using one of the other comparison operators, find all restaurants which had a grade awarded on the 15 December 2012.  You'll need to create a [`datetime`](https://docs.python.org/2/library/datetime.html#datetime-objects) object in Python."
   ]
  },
  {
   "cell_type": "code",
   "execution_count": null,
   "metadata": {},
   "outputs": [],
   "source": [
    "# YOUR CODE HERE\n"
   ]
  },
  {
   "cell_type": "markdown",
   "metadata": {},
   "source": [
    "## Organising output\n",
    "\n",
    "So far, we have seen the two of the arguments in the `find()` and related functions.  The `filter` which allows us to select the criteria for documents in the collection, and the `limit` to limit the amount of results.  You should read the documentation fully about the function in your own time, but for now, we will go over two other arguments which are for organising output: field selection, and sorting.\n",
    "\n",
    "The field selection or `projection` argument is the argument after the \\[optional\\] filter, and is either:\n",
    "\n",
    "* A list of fields to include (plus \\_id)\n",
    "* A dict of fields with True/False to include\n",
    "\n",
    "For example, to display only the name of the restaurant:"
   ]
  },
  {
   "cell_type": "code",
   "execution_count": null,
   "metadata": {},
   "outputs": [],
   "source": [
    "filter = {'cuisine': 'Brazilian'}\n",
    "fields = {'_id': False, 'name': True}\n",
    "collection.find_one(filter, fields)"
   ]
  },
  {
   "cell_type": "markdown",
   "metadata": {},
   "source": [
    "The sort argument is a dict object of field names as keys, and directions.  This can be done either as a named parameter when calling `find()`, or as a function in its own right [`sort()`](https://api.mongodb.com/python/current/api/pymongo/cursor.html#pymongo.cursor.Cursor.sort)\n",
    "\n",
    "For example, to sort in alphabetical order, consider the following code:"
   ]
  },
  {
   "cell_type": "code",
   "execution_count": null,
   "metadata": {},
   "outputs": [],
   "source": [
    "import pymongo\n",
    "# The ASCENDING and DESCENDING constants have values of 1 (ASCENDING) and -1 (DESCENDING)\n",
    "sort = [('name', pymongo.ASCENDING)]\n",
    "for d in collection.find(filter, projection=fields, sort=sort):\n",
    "    pprint(d)"
   ]
  },
  {
   "cell_type": "markdown",
   "metadata": {},
   "source": [
    "# MongoDB Aggregation Framework\n",
    "\n",
    "The most common usage for the aggregation framework is to perform group operations such as sum, count or average.  The framework works as a pipeline, with a series of different stages where the data are transformed in each one.\n",
    "\n",
    "At its simplest, this can be used to obtain output like min, max, count, avg on a collection as follows:"
   ]
  },
  {
   "cell_type": "code",
   "execution_count": null,
   "metadata": {},
   "outputs": [],
   "source": [
    "group = {\n",
    "    '$group': {\n",
    "        '_id': None, \n",
    "        'size': {'$sum': 1},\n",
    "        'min': {'$min': '$restaurant_id'},\n",
    "        'max': {'$max': '$restaurant_id'}\n",
    "    }\n",
    "}\n",
    "\n",
    "cursor = collection.aggregate([group])\n",
    "for c in cursor:\n",
    "    print(c)"
   ]
  },
  {
   "cell_type": "markdown",
   "metadata": {},
   "source": [
    "Note that it has an `$_id: None` key/value pair in it.  It is compulsory for a `$group` pipeline to have one, and it indicates what it is grouping by.  In this case, we haven't grouped it at all, however it can also be used for more complex output where documents are grouped according to a field.\n",
    "\n",
    "### Aggregation example\n",
    "\n",
    "Consider this example, of finding the breakdown of how many of each type of restaurant there is in the Bronx.  We would need to go through the following stages:\n",
    "\n",
    "- Identify restaurants which are in the Bronx\n",
    "- Group the restaurants by type to get the count\n",
    "- Sort the results in a sensible way\n",
    "\n",
    "The code to perform this query is below:"
   ]
  },
  {
   "cell_type": "code",
   "execution_count": null,
   "metadata": {},
   "outputs": [],
   "source": [
    "# Restrict the results to only establishments in the Bronx.  \n",
    "# '$match' indicates the stage in the pipeline, and the dictionary is the same as using with find()\n",
    "match = {\n",
    "    \"$match\": {\"borough\": \"Bronx\"}\n",
    "}\n",
    "\n",
    "# $group indicates the stage in the pipeline\n",
    "# _id is the field to perform the operation on (like SQL GROUP BY)\n",
    "# count is the name of the field that the result will be in\n",
    "# $sum is the counting operation, and the value 1 is how many to count each time\n",
    "group = {\n",
    "    '$group': {'_id': '$cuisine', 'count': {'$sum': 1}}\n",
    "    \n",
    "}\n",
    "# $sort indicates the position in the pipeline\n",
    "# count is the field to sort by, and -1 means to sort in descending order\n",
    "sort = {\n",
    "    '$sort': {'count': pymongo.DESCENDING}\n",
    "}\n",
    "\n",
    "cursor = collection.aggregate([match, group, sort])\n",
    "for c in cursor:\n",
    "    print(c)\n",
    "\n"
   ]
  },
  {
   "cell_type": "markdown",
   "metadata": {},
   "source": [
    "This is a simple query, which shows some of the basic stages of the aggregation pipeline.  It can be improved as follows:\n",
    "\n",
    "* We can change the name of the `_id` in the output back to `cuisine` using the `$project` stage\n",
    "* We can change the order of the output to be sorted in alphabetical order as well\n",
    "* We can limit the results to include results only with a count of 20 or more\n",
    "\n",
    "Implement those stages in the cell below"
   ]
  },
  {
   "cell_type": "code",
   "execution_count": null,
   "metadata": {},
   "outputs": [],
   "source": [
    "# YOUR CODE HERE\n",
    "\n",
    "\n",
    "pipeline = [match, group] #More code here...\n",
    "cursor = collection.aggregate(pipeline)\n",
    "for c in cursor:\n",
    "    print(c)\n"
   ]
  },
  {
   "cell_type": "code",
   "execution_count": null,
   "metadata": {},
   "outputs": [],
   "source": [
    "# YOUR CODE HERE FOR sort\n",
    "\n",
    "pipeline.append(sort)\n",
    "cursor = collection.aggregate(pipeline)\n",
    "for c in cursor:\n",
    "    pprint(c)\n"
   ]
  },
  {
   "cell_type": "code",
   "execution_count": null,
   "metadata": {},
   "outputs": [],
   "source": [
    "# YOUR CODE HERE FOR `count` > 20\n",
    "\n",
    "cursor = collection.aggregate(pipeline)\n",
    "for c in cursor:\n",
    "    pprint(c)\n"
   ]
  },
  {
   "cell_type": "markdown",
   "metadata": {},
   "source": [
    "## Challenge\n",
    "\n",
    "How would you work out the percentage of each type of cuisine out of all selected restaurants?"
   ]
  },
  {
   "cell_type": "code",
   "execution_count": null,
   "metadata": {},
   "outputs": [],
   "source": [
    "# YOUR CODE HERE..."
   ]
  },
  {
   "cell_type": "markdown",
   "metadata": {},
   "source": [
    "# Where next?\n",
    "\n",
    "* Dealing with array data\n",
    "* Update, delete, and drop\n",
    "* Setting up authentication\n",
    "* Sharding databases"
   ]
  }
 ],
 "metadata": {
  "kernelspec": {
   "display_name": "Python 2",
   "language": "python",
   "name": "python2"
  },
  "language_info": {
   "codemirror_mode": {
    "name": "ipython",
    "version": 2
   },
   "file_extension": ".py",
   "mimetype": "text/x-python",
   "name": "python",
   "nbconvert_exporter": "python",
   "pygments_lexer": "ipython2",
   "version": "2.7.15"
  }
 },
 "nbformat": 4,
 "nbformat_minor": 2
}
