{
 "cells": [
  {
   "cell_type": "markdown",
   "metadata": {},
   "source": [
    "# Introduction\n",
    "\n",
    "## Using Jupyter\n",
    "\n",
    "Jupyter is a front end to the [IPython](https://ipython.org) interactive shell, and offers IDE like features.  It is separated into two main types of cell: [Markdown](https://en.wikipedia.org/wiki/Markdown) cells (such as this one) which allows markdown or HTML code to be written, and code cells like the next one which can be run in real time.\n",
    "\n",
    "To execute code in a cell, press `Crtl` + `Enter`, click on the `[ > ]Run` button in the main menu, or press `Shift` + `Enter` if you wish to execute the code and then move on to a new cell (creating it if it does not already exist).\n",
    "\n",
    "## Setup\n",
    "\n",
    "MongoDB is a NoSQL database, which has a core API in JavaScript, and a series of other APIs in different languages.  The one we are going to use is the Python API, [PyMongo](https://api.mongodb.com/python/current/).  MongoDB instance on your VM is already started by default.\n",
    "\n",
    "PyMongo is a package that contains tools to work with MongoDB from Python. We have installed it in the VM provided to you. "
   ]
  },
  {
   "cell_type": "markdown",
   "metadata": {},
   "source": [
    "This imports the `MongoClient` class from the pymongo module, which we will use to deal with all our connections from.  We're connecting to our localhost, which is listening on port 27017. There are more options, the documentation for the formatting of the connection string is at https://docs.mongodb.com/manual/reference/connection-string/."
   ]
  },
  {
   "cell_type": "code",
   "execution_count": 1,
   "metadata": {},
   "outputs": [],
   "source": [
    "from pymongo import MongoClient\n",
    "client = MongoClient('mongodb://localhost:27017')"
   ]
  },
  {
   "cell_type": "markdown",
   "metadata": {},
   "source": [
    "If you do not get any errors, you have confirmed PyMongo library has been successfully installed&configured in the VM. We will now check to see whether the connection is correct.  The following code calls a function which returns a list of all current databases.  If your Mongo instance is still empty, it should be something like `['admin', 'local']`."
   ]
  },
  {
   "cell_type": "code",
   "execution_count": 2,
   "metadata": {},
   "outputs": [
    {
     "ename": "ServerSelectionTimeoutError",
     "evalue": "localhost:27017: [WinError 10061] 由于目标计算机积极拒绝，无法连接。",
     "output_type": "error",
     "traceback": [
      "\u001b[1;31m---------------------------------------------------------------------------\u001b[0m",
      "\u001b[1;31mServerSelectionTimeoutError\u001b[0m               Traceback (most recent call last)",
      "\u001b[1;32m<ipython-input-2-62f658703d98>\u001b[0m in \u001b[0;36m<module>\u001b[1;34m()\u001b[0m\n\u001b[1;32m----> 1\u001b[1;33m \u001b[0mclient\u001b[0m\u001b[1;33m.\u001b[0m\u001b[0mlist_database_names\u001b[0m\u001b[1;33m(\u001b[0m\u001b[1;33m)\u001b[0m\u001b[1;33m\u001b[0m\u001b[0m\n\u001b[0m",
      "\u001b[1;32mD:\\ProgramData\\Anaconda3\\lib\\site-packages\\pymongo\\mongo_client.py\u001b[0m in \u001b[0;36mlist_database_names\u001b[1;34m(self, session)\u001b[0m\n\u001b[0;32m   1662\u001b[0m         \"\"\"\n\u001b[0;32m   1663\u001b[0m         return [doc[\"name\"]\n\u001b[1;32m-> 1664\u001b[1;33m                 for doc in self.list_databases(session, nameOnly=True)]\n\u001b[0m\u001b[0;32m   1665\u001b[0m \u001b[1;33m\u001b[0m\u001b[0m\n\u001b[0;32m   1666\u001b[0m     \u001b[1;32mdef\u001b[0m \u001b[0mdatabase_names\u001b[0m\u001b[1;33m(\u001b[0m\u001b[0mself\u001b[0m\u001b[1;33m,\u001b[0m \u001b[0msession\u001b[0m\u001b[1;33m=\u001b[0m\u001b[1;32mNone\u001b[0m\u001b[1;33m)\u001b[0m\u001b[1;33m:\u001b[0m\u001b[1;33m\u001b[0m\u001b[0m\n",
      "\u001b[1;32mD:\\ProgramData\\Anaconda3\\lib\\site-packages\\pymongo\\mongo_client.py\u001b[0m in \u001b[0;36mlist_databases\u001b[1;34m(self, session, **kwargs)\u001b[0m\n\u001b[0;32m   1643\u001b[0m         \u001b[0mcmd\u001b[0m\u001b[1;33m.\u001b[0m\u001b[0mupdate\u001b[0m\u001b[1;33m(\u001b[0m\u001b[0mkwargs\u001b[0m\u001b[1;33m)\u001b[0m\u001b[1;33m\u001b[0m\u001b[0m\n\u001b[0;32m   1644\u001b[0m         \u001b[0madmin\u001b[0m \u001b[1;33m=\u001b[0m \u001b[0mself\u001b[0m\u001b[1;33m.\u001b[0m\u001b[0m_database_default_options\u001b[0m\u001b[1;33m(\u001b[0m\u001b[1;34m\"admin\"\u001b[0m\u001b[1;33m)\u001b[0m\u001b[1;33m\u001b[0m\u001b[0m\n\u001b[1;32m-> 1645\u001b[1;33m         \u001b[0mres\u001b[0m \u001b[1;33m=\u001b[0m \u001b[0madmin\u001b[0m\u001b[1;33m.\u001b[0m\u001b[0mcommand\u001b[0m\u001b[1;33m(\u001b[0m\u001b[0mcmd\u001b[0m\u001b[1;33m,\u001b[0m \u001b[0msession\u001b[0m\u001b[1;33m=\u001b[0m\u001b[0msession\u001b[0m\u001b[1;33m)\u001b[0m\u001b[1;33m\u001b[0m\u001b[0m\n\u001b[0m\u001b[0;32m   1646\u001b[0m         \u001b[1;31m# listDatabases doesn't return a cursor (yet). Fake one.\u001b[0m\u001b[1;33m\u001b[0m\u001b[1;33m\u001b[0m\u001b[0m\n\u001b[0;32m   1647\u001b[0m         cursor = {\n",
      "\u001b[1;32mD:\\ProgramData\\Anaconda3\\lib\\site-packages\\pymongo\\database.py\u001b[0m in \u001b[0;36mcommand\u001b[1;34m(self, command, value, check, allowable_errors, read_preference, codec_options, session, **kwargs)\u001b[0m\n\u001b[0;32m    609\u001b[0m                                or ReadPreference.PRIMARY)\n\u001b[0;32m    610\u001b[0m         with self.__client._socket_for_reads(\n\u001b[1;32m--> 611\u001b[1;33m                 read_preference) as (sock_info, slave_ok):\n\u001b[0m\u001b[0;32m    612\u001b[0m             return self._command(sock_info, command, slave_ok, value,\n\u001b[0;32m    613\u001b[0m                                  \u001b[0mcheck\u001b[0m\u001b[1;33m,\u001b[0m \u001b[0mallowable_errors\u001b[0m\u001b[1;33m,\u001b[0m \u001b[0mread_preference\u001b[0m\u001b[1;33m,\u001b[0m\u001b[1;33m\u001b[0m\u001b[0m\n",
      "\u001b[1;32mD:\\ProgramData\\Anaconda3\\lib\\contextlib.py\u001b[0m in \u001b[0;36m__enter__\u001b[1;34m(self)\u001b[0m\n\u001b[0;32m    110\u001b[0m         \u001b[1;32mdel\u001b[0m \u001b[0mself\u001b[0m\u001b[1;33m.\u001b[0m\u001b[0margs\u001b[0m\u001b[1;33m,\u001b[0m \u001b[0mself\u001b[0m\u001b[1;33m.\u001b[0m\u001b[0mkwds\u001b[0m\u001b[1;33m,\u001b[0m \u001b[0mself\u001b[0m\u001b[1;33m.\u001b[0m\u001b[0mfunc\u001b[0m\u001b[1;33m\u001b[0m\u001b[0m\n\u001b[0;32m    111\u001b[0m         \u001b[1;32mtry\u001b[0m\u001b[1;33m:\u001b[0m\u001b[1;33m\u001b[0m\u001b[0m\n\u001b[1;32m--> 112\u001b[1;33m             \u001b[1;32mreturn\u001b[0m \u001b[0mnext\u001b[0m\u001b[1;33m(\u001b[0m\u001b[0mself\u001b[0m\u001b[1;33m.\u001b[0m\u001b[0mgen\u001b[0m\u001b[1;33m)\u001b[0m\u001b[1;33m\u001b[0m\u001b[0m\n\u001b[0m\u001b[0;32m    113\u001b[0m         \u001b[1;32mexcept\u001b[0m \u001b[0mStopIteration\u001b[0m\u001b[1;33m:\u001b[0m\u001b[1;33m\u001b[0m\u001b[0m\n\u001b[0;32m    114\u001b[0m             \u001b[1;32mraise\u001b[0m \u001b[0mRuntimeError\u001b[0m\u001b[1;33m(\u001b[0m\u001b[1;34m\"generator didn't yield\"\u001b[0m\u001b[1;33m)\u001b[0m \u001b[1;32mfrom\u001b[0m \u001b[1;32mNone\u001b[0m\u001b[1;33m\u001b[0m\u001b[0m\n",
      "\u001b[1;32mD:\\ProgramData\\Anaconda3\\lib\\site-packages\\pymongo\\mongo_client.py\u001b[0m in \u001b[0;36m_socket_for_reads\u001b[1;34m(self, read_preference)\u001b[0m\n\u001b[0;32m   1097\u001b[0m         \u001b[0mtopology\u001b[0m \u001b[1;33m=\u001b[0m \u001b[0mself\u001b[0m\u001b[1;33m.\u001b[0m\u001b[0m_get_topology\u001b[0m\u001b[1;33m(\u001b[0m\u001b[1;33m)\u001b[0m\u001b[1;33m\u001b[0m\u001b[0m\n\u001b[0;32m   1098\u001b[0m         \u001b[0msingle\u001b[0m \u001b[1;33m=\u001b[0m \u001b[0mtopology\u001b[0m\u001b[1;33m.\u001b[0m\u001b[0mdescription\u001b[0m\u001b[1;33m.\u001b[0m\u001b[0mtopology_type\u001b[0m \u001b[1;33m==\u001b[0m \u001b[0mTOPOLOGY_TYPE\u001b[0m\u001b[1;33m.\u001b[0m\u001b[0mSingle\u001b[0m\u001b[1;33m\u001b[0m\u001b[0m\n\u001b[1;32m-> 1099\u001b[1;33m         \u001b[0mserver\u001b[0m \u001b[1;33m=\u001b[0m \u001b[0mtopology\u001b[0m\u001b[1;33m.\u001b[0m\u001b[0mselect_server\u001b[0m\u001b[1;33m(\u001b[0m\u001b[0mread_preference\u001b[0m\u001b[1;33m)\u001b[0m\u001b[1;33m\u001b[0m\u001b[0m\n\u001b[0m\u001b[0;32m   1100\u001b[0m \u001b[1;33m\u001b[0m\u001b[0m\n\u001b[0;32m   1101\u001b[0m         \u001b[1;32mwith\u001b[0m \u001b[0mself\u001b[0m\u001b[1;33m.\u001b[0m\u001b[0m_get_socket\u001b[0m\u001b[1;33m(\u001b[0m\u001b[0mserver\u001b[0m\u001b[1;33m)\u001b[0m \u001b[1;32mas\u001b[0m \u001b[0msock_info\u001b[0m\u001b[1;33m:\u001b[0m\u001b[1;33m\u001b[0m\u001b[0m\n",
      "\u001b[1;32mD:\\ProgramData\\Anaconda3\\lib\\site-packages\\pymongo\\topology.py\u001b[0m in \u001b[0;36mselect_server\u001b[1;34m(self, selector, server_selection_timeout, address)\u001b[0m\n\u001b[0;32m    222\u001b[0m         return random.choice(self.select_servers(selector,\n\u001b[0;32m    223\u001b[0m                                                  \u001b[0mserver_selection_timeout\u001b[0m\u001b[1;33m,\u001b[0m\u001b[1;33m\u001b[0m\u001b[0m\n\u001b[1;32m--> 224\u001b[1;33m                                                  address))\n\u001b[0m\u001b[0;32m    225\u001b[0m \u001b[1;33m\u001b[0m\u001b[0m\n\u001b[0;32m    226\u001b[0m     def select_server_by_address(self, address,\n",
      "\u001b[1;32mD:\\ProgramData\\Anaconda3\\lib\\site-packages\\pymongo\\topology.py\u001b[0m in \u001b[0;36mselect_servers\u001b[1;34m(self, selector, server_selection_timeout, address)\u001b[0m\n\u001b[0;32m    181\u001b[0m         \u001b[1;32mwith\u001b[0m \u001b[0mself\u001b[0m\u001b[1;33m.\u001b[0m\u001b[0m_lock\u001b[0m\u001b[1;33m:\u001b[0m\u001b[1;33m\u001b[0m\u001b[0m\n\u001b[0;32m    182\u001b[0m             server_descriptions = self._select_servers_loop(\n\u001b[1;32m--> 183\u001b[1;33m                 selector, server_timeout, address)\n\u001b[0m\u001b[0;32m    184\u001b[0m \u001b[1;33m\u001b[0m\u001b[0m\n\u001b[0;32m    185\u001b[0m             return [self.get_server_by_address(sd.address)\n",
      "\u001b[1;32mD:\\ProgramData\\Anaconda3\\lib\\site-packages\\pymongo\\topology.py\u001b[0m in \u001b[0;36m_select_servers_loop\u001b[1;34m(self, selector, timeout, address)\u001b[0m\n\u001b[0;32m    197\u001b[0m             \u001b[1;32mif\u001b[0m \u001b[0mtimeout\u001b[0m \u001b[1;33m==\u001b[0m \u001b[1;36m0\u001b[0m \u001b[1;32mor\u001b[0m \u001b[0mnow\u001b[0m \u001b[1;33m>\u001b[0m \u001b[0mend_time\u001b[0m\u001b[1;33m:\u001b[0m\u001b[1;33m\u001b[0m\u001b[0m\n\u001b[0;32m    198\u001b[0m                 raise ServerSelectionTimeoutError(\n\u001b[1;32m--> 199\u001b[1;33m                     self._error_message(selector))\n\u001b[0m\u001b[0;32m    200\u001b[0m \u001b[1;33m\u001b[0m\u001b[0m\n\u001b[0;32m    201\u001b[0m             \u001b[0mself\u001b[0m\u001b[1;33m.\u001b[0m\u001b[0m_ensure_opened\u001b[0m\u001b[1;33m(\u001b[0m\u001b[1;33m)\u001b[0m\u001b[1;33m\u001b[0m\u001b[0m\n",
      "\u001b[1;31mServerSelectionTimeoutError\u001b[0m: localhost:27017: [WinError 10061] 由于目标计算机积极拒绝，无法连接。"
     ]
    }
   ],
   "source": [
    "client.list_database_names()"
   ]
  },
  {
   "cell_type": "markdown",
   "metadata": {},
   "source": [
    "Next, we are going to create a database object `db`, which is a property of the `client` object.  MongoDB is schemaless, and so accessing a database like this will create the database if it does not already exist.\n",
    "\n",
    "A database can be accessed by using \"dot\" notation (i.e., `client.dbname`), or dictionary notation (i.e., `client['dbname']`).  This also applies to making collections\n",
    "\n",
    "Create a database called `test` in a variable called `db`.  Using that variable, create a collection called `test_collection` with a variable called `collection` as follows.  Run the code in the following cell (there should not be any output)"
   ]
  },
  {
   "cell_type": "code",
   "execution_count": 4,
   "metadata": {},
   "outputs": [],
   "source": [
    "# Create database and collection objects for convenience\n",
    "db = client.test\n",
    "collection = db.test_collection"
   ]
  },
  {
   "cell_type": "markdown",
   "metadata": {},
   "source": [
    "# Using MongoDB\n",
    "\n",
    "## Inserting data\n",
    "\n",
    "MongoDB data is stored as BSON (binary JSON), which is essentially JSON with some additional optimisations, so the way to insert data is as a JSON object.  For Python, you can use a `dict` or a `list` for this, and then call either `insert_one` or `insert_many` on the collection.  "
   ]
  },
  {
   "cell_type": "code",
   "execution_count": 5,
   "metadata": {},
   "outputs": [
    {
     "data": {
      "text/plain": [
       "<pymongo.results.InsertOneResult at 0x7f4dc59281b8>"
      ]
     },
     "execution_count": 5,
     "metadata": {},
     "output_type": "execute_result"
    }
   ],
   "source": [
    "# Create an object and insert into the `test_collection`\n",
    "single_obj = {'name': 'Amber', 'star_sign': 'Capricorn', 'favourite_song': 'The Load-Out'}\n",
    "collection.insert_one(single_obj)\n",
    "single_obj_2 = {'name': 'Huw', 'star_sign': 'Libra', 'favourite_song': 'The masses against the classes'}\n",
    "collection.insert_one(single_obj_2)\n",
    "single_obj_3 = {'name': 'Robert', 'star_sign': 'Leo', 'favourite_song': 'Bad day'}\n",
    "collection.insert_one(single_obj_3)"
   ]
  },
  {
   "cell_type": "markdown",
   "metadata": {},
   "source": [
    "We will look at querying data in more detail below, but for now, to see whether the object got successfully inserted into the collection, run the code below.  This will always return the first instance which matches the query.  You will notice that even though we didn't specify `_id` one got added already.  This is a unique identifier for the document in the collection"
   ]
  },
  {
   "cell_type": "code",
   "execution_count": 6,
   "metadata": {},
   "outputs": [
    {
     "data": {
      "text/plain": [
       "{u'_id': ObjectId('5bef1c045ccae9018a4f55c5'),\n",
       " u'favourite_song': u'The Load-Out',\n",
       " u'name': u'Amber',\n",
       " u'star_sign': u'Capricorn'}"
      ]
     },
     "execution_count": 6,
     "metadata": {},
     "output_type": "execute_result"
    }
   ],
   "source": [
    "collection.find_one() # returns a single document matching the query condition"
   ]
  },
  {
   "cell_type": "code",
   "execution_count": 7,
   "metadata": {},
   "outputs": [
    {
     "data": {
      "text/plain": [
       "{u'_id': ObjectId('5bef1c045ccae9018a4f55c7'),\n",
       " u'favourite_song': u'Bad day',\n",
       " u'name': u'Robert',\n",
       " u'star_sign': u'Leo'}"
      ]
     },
     "execution_count": 7,
     "metadata": {},
     "output_type": "execute_result"
    }
   ],
   "source": [
    "collection.find_one({'name':'Robert'})"
   ]
  },
  {
   "cell_type": "markdown",
   "metadata": {},
   "source": [
    "Remember, for MongoDB, you do not have to specify a schema or create a collection, it will be created automatically.  You don't need to keep to the same layout, but can have entirely different objects.  Consider the following: "
   ]
  },
  {
   "cell_type": "code",
   "execution_count": 8,
   "metadata": {},
   "outputs": [
    {
     "data": {
      "text/plain": [
       "<pymongo.results.InsertOneResult at 0x7f4dc5928560>"
      ]
     },
     "execution_count": 8,
     "metadata": {},
     "output_type": "execute_result"
    }
   ],
   "source": [
    "from datetime import datetime\n",
    "obj1 = {'Meaning of life': 42}\n",
    "obj2 = {'ABC': 'DEF', 'time': datetime.now()}\n",
    "collection.insert_one(obj1)\n",
    "collection.insert_one(obj2)"
   ]
  },
  {
   "cell_type": "markdown",
   "metadata": {},
   "source": [
    "We can also use the `insert_many`, which accepts a list of dicts.  In the cell below, create a list of dicts called `many_objects`, and call the `insert_many` function.  The code below that will iterate over all the documents in the database."
   ]
  },
  {
   "cell_type": "code",
   "execution_count": 9,
   "metadata": {},
   "outputs": [
    {
     "name": "stdout",
     "output_type": "stream",
     "text": [
      "{u'favourite_song': u'The Load-Out', u'_id': ObjectId('5bef1c045ccae9018a4f55c5'), u'name': u'Amber', u'star_sign': u'Capricorn'}\n",
      "{u'favourite_song': u'The masses against the classes', u'_id': ObjectId('5bef1c045ccae9018a4f55c6'), u'name': u'Huw', u'star_sign': u'Libra'}\n",
      "{u'favourite_song': u'Bad day', u'_id': ObjectId('5bef1c045ccae9018a4f55c7'), u'name': u'Robert', u'star_sign': u'Leo'}\n",
      "{u'Meaning of life': 42, u'_id': ObjectId('5bef1c1b5ccae9018a4f55c8')}\n",
      "{u'_id': ObjectId('5bef1c1b5ccae9018a4f55c9'), u'ABC': u'DEF', u'time': datetime.datetime(2018, 11, 16, 19, 35, 55, 819000)}\n",
      "{u'age': 20, u'_id': ObjectId('5bef1c315ccae9018a4f55ca')}\n",
      "{u'age': 21, u'_id': ObjectId('5bef1c315ccae9018a4f55cb')}\n",
      "{u'age': 22, u'_id': ObjectId('5bef1c315ccae9018a4f55cc')}\n",
      "{u'age': 23, u'_id': ObjectId('5bef1c315ccae9018a4f55cd')}\n",
      "{u'age': 24, u'_id': ObjectId('5bef1c315ccae9018a4f55ce')}\n",
      "{u'age': 25, u'_id': ObjectId('5bef1c315ccae9018a4f55cf')}\n",
      "{u'age': 26, u'_id': ObjectId('5bef1c315ccae9018a4f55d0')}\n",
      "{u'age': 27, u'_id': ObjectId('5bef1c315ccae9018a4f55d1')}\n",
      "{u'age': 28, u'_id': ObjectId('5bef1c315ccae9018a4f55d2')}\n",
      "{u'age': 29, u'_id': ObjectId('5bef1c315ccae9018a4f55d3')}\n"
     ]
    }
   ],
   "source": [
    "# YOUR CODE HERE\n",
    "collection.insert_many([{\"age\":x} for x in range(20,30)])\n",
    "\n",
    "#See what has been inserted into the collection\n",
    "for doc in collection.find():\n",
    "    print(doc)"
   ]
  },
  {
   "cell_type": "markdown",
   "metadata": {},
   "source": [
    "## Importing and querying data\n",
    "\n",
    "For this part of the exercise, we will use a sample dataset provided by Mongo  for a documentation tutorial.  The following cell runs the `mongoimport` command, which is a Unix command which comes with Mongo for importing data. We will need to run a bash command in the next cell first.  This uses the Jupyter \\\"magics\\\", and requires that the first line include `%%bash`. The code does the following:\n",
    "\n",
    "- Download the JSON file from the url, and save as ./primer-dataset.json\n",
    "- Import into the `test` database into the collection `restaurants` whilst dropping any collection which already exists from the file ./primer-dataset.json\n",
    "- Deletes the file.\n",
    "\n",
    " Click on the following cell, and execute it:"
   ]
  },
  {
   "cell_type": "code",
   "execution_count": 10,
   "metadata": {},
   "outputs": [
    {
     "name": "stderr",
     "output_type": "stream",
     "text": [
      "--2018-11-16 19:36:29--  https://raw.githubusercontent.com/mongodb/docs-assets/primer-dataset/primer-dataset.json\n",
      "Resolving raw.githubusercontent.com (raw.githubusercontent.com)... 151.101.16.133\n",
      "Connecting to raw.githubusercontent.com (raw.githubusercontent.com)|151.101.16.133|:443... connected.\n",
      "HTTP request sent, awaiting response... 200 OK\n",
      "Length: 11874761 (11M) [text/plain]\n",
      "Saving to: ‘primer-dataset.json’\n",
      "\n",
      "     0K .......... .......... .......... .......... ..........  0% 1.28M 9s\n",
      "    50K .......... .......... .......... .......... ..........  0% 2.02M 7s\n",
      "   100K .......... .......... .......... .......... ..........  1% 2.54M 6s\n",
      "   150K .......... .......... .......... .......... ..........  1% 5.42M 5s\n",
      "   200K .......... .......... .......... .......... ..........  2% 2.06M 5s\n",
      "   250K .......... .......... .......... .......... ..........  2% 1.18M 6s\n",
      "   300K .......... .......... .......... .......... ..........  3%  412K 9s\n",
      "   350K .......... .......... .......... .......... ..........  3% 4.81M 8s\n",
      "   400K .......... .......... .......... .......... ..........  3% 6.17M 7s\n",
      "   450K .......... .......... .......... .......... ..........  4% 6.06M 7s\n",
      "   500K .......... .......... .......... .......... ..........  4%  816K 7s\n",
      "   550K .......... .......... .......... .......... ..........  5% 7.02M 7s\n",
      "   600K .......... .......... .......... .......... ..........  5% 1.78M 7s\n",
      "   650K .......... .......... .......... .......... ..........  6% 2.58M 7s\n",
      "   700K .......... .......... .......... .......... ..........  6%  826K 7s\n",
      "   750K .......... .......... .......... .......... ..........  6% 5.26M 7s\n",
      "   800K .......... .......... .......... .......... ..........  7% 2.15M 6s\n",
      "   850K .......... .......... .......... .......... ..........  7% 2.92M 6s\n",
      "   900K .......... .......... .......... .......... ..........  8%  500K 7s\n",
      "   950K .......... .......... .......... .......... ..........  8% 2.73M 7s\n",
      "  1000K .......... .......... .......... .......... ..........  9% 4.41M 7s\n",
      "  1050K .......... .......... .......... .......... ..........  9% 6.62M 6s\n",
      "  1100K .......... .......... .......... .......... ..........  9% 2.51M 6s\n",
      "  1150K .......... .......... .......... .......... .......... 10% 3.06M 6s\n",
      "  1200K .......... .......... .......... .......... .......... 10% 4.87M 6s\n",
      "  1250K .......... .......... .......... .......... .......... 11% 10.4M 6s\n",
      "  1300K .......... .......... .......... .......... .......... 11% 5.58M 5s\n",
      "  1350K .......... .......... .......... .......... .......... 12%  199K 7s\n",
      "  1400K .......... .......... .......... .......... .......... 12% 2.15M 7s\n",
      "  1450K .......... .......... .......... .......... .......... 12%  729K 7s\n",
      "  1500K .......... .......... .......... .......... .......... 13% 3.73M 7s\n",
      "  1550K .......... .......... .......... .......... .......... 13% 1.99M 7s\n",
      "  1600K .......... .......... .......... .......... .......... 14% 2.03M 7s\n",
      "  1650K .......... .......... .......... .......... .......... 14%  590K 7s\n",
      "  1700K .......... .......... .......... .......... .......... 15% 2.04M 7s\n",
      "  1750K .......... .......... .......... .......... .......... 15% 1.26M 7s\n",
      "  1800K .......... .......... .......... .......... .......... 15% 1.37M 7s\n",
      "  1850K .......... .......... .......... .......... .......... 16% 12.0M 7s\n",
      "  1900K .......... .......... .......... .......... .......... 16% 2.19M 7s\n",
      "  1950K .......... .......... .......... .......... .......... 17% 2.17M 7s\n",
      "  2000K .......... .......... .......... .......... .......... 17% 3.80M 6s\n",
      "  2050K .......... .......... .......... .......... .......... 18% 3.13M 6s\n",
      "  2100K .......... .......... .......... .......... .......... 18%  548K 6s\n",
      "  2150K .......... .......... .......... .......... .......... 18%  958K 7s\n",
      "  2200K .......... .......... .......... .......... .......... 19% 4.18M 6s\n",
      "  2250K .......... .......... .......... .......... .......... 19%  627K 7s\n",
      "  2300K .......... .......... .......... .......... .......... 20% 4.43M 6s\n",
      "  2350K .......... .......... .......... .......... .......... 20% 2.69M 6s\n",
      "  2400K .......... .......... .......... .......... .......... 21%  471K 7s\n",
      "  2450K .......... .......... .......... .......... .......... 21% 1.50M 7s\n",
      "  2500K .......... .......... .......... .......... .......... 21% 1.78M 6s\n",
      "  2550K .......... .......... .......... .......... .......... 22% 4.32M 6s\n",
      "  2600K .......... .......... .......... .......... .......... 22% 3.35M 6s\n",
      "  2650K .......... .......... .......... .......... .......... 23% 1.05M 6s\n",
      "  2700K .......... .......... .......... .......... .......... 23% 7.45M 6s\n",
      "  2750K .......... .......... .......... .......... .......... 24%  769K 6s\n",
      "  2800K .......... .......... .......... .......... .......... 24% 1.52M 6s\n",
      "  2850K .......... .......... .......... .......... .......... 25% 2.54M 6s\n",
      "  2900K .......... .......... .......... .......... .......... 25% 2.86M 6s\n",
      "  2950K .......... .......... .......... .......... .......... 25% 5.64M 6s\n",
      "  3000K .......... .......... .......... .......... .......... 26% 5.69M 6s\n",
      "  3050K .......... .......... .......... .......... .......... 26% 4.94M 6s\n",
      "  3100K .......... .......... .......... .......... .......... 27% 4.28M 6s\n",
      "  3150K .......... .......... .......... .......... .......... 27% 6.48M 5s\n",
      "  3200K .......... .......... .......... .......... .......... 28%  323K 6s\n",
      "  3250K .......... .......... .......... .......... .......... 28%  956K 6s\n",
      "  3300K .......... .......... .......... .......... .......... 28%  453K 6s\n",
      "  3350K .......... .......... .......... .......... .......... 29% 4.78M 6s\n",
      "  3400K .......... .......... .......... .......... .......... 29% 3.70M 6s\n",
      "  3450K .......... .......... .......... .......... .......... 30% 10.8M 6s\n",
      "  3500K .......... .......... .......... .......... .......... 30% 2.54M 6s\n",
      "  3550K .......... .......... .......... .......... .......... 31% 1.62M 5s\n",
      "  3600K .......... .......... .......... .......... .......... 31%  903K 5s\n",
      "  3650K .......... .......... .......... .......... .......... 31% 1.77M 5s\n",
      "  3700K .......... .......... .......... .......... .......... 32% 1.65M 5s\n",
      "  3750K .......... .......... .......... .......... .......... 32% 24.4M 5s\n",
      "  3800K .......... .......... .......... .......... .......... 33% 1.71M 5s\n",
      "  3850K .......... .......... .......... .......... .......... 33% 7.40M 5s\n",
      "  3900K .......... .......... .......... .......... .......... 34%  489K 5s\n",
      "  3950K .......... .......... .......... .......... .......... 34% 4.15M 5s\n",
      "  4000K .......... .......... .......... .......... .......... 34% 2.95M 5s\n",
      "  4050K .......... .......... .......... .......... .......... 35% 1.63M 5s\n",
      "  4100K .......... .......... .......... .......... .......... 35% 3.07M 5s\n",
      "  4150K .......... .......... .......... .......... .......... 36% 1.69M 5s\n",
      "  4200K .......... .......... .......... .......... .......... 36% 3.95M 5s\n",
      "  4250K .......... .......... .......... .......... .......... 37% 3.32M 5s\n",
      "  4300K .......... .......... .......... .......... .......... 37%  501K 5s\n",
      "  4350K .......... .......... .......... .......... .......... 37% 2.28M 5s\n",
      "  4400K .......... .......... .......... .......... .......... 38%  775K 5s\n",
      "  4450K .......... .......... .......... .......... .......... 38% 4.68M 5s\n",
      "  4500K .......... .......... .......... .......... .......... 39% 5.79M 5s\n",
      "  4550K .......... .......... .......... .......... .......... 39% 1.53M 5s\n",
      "  4600K .......... .......... .......... .......... .......... 40% 3.26M 5s\n",
      "  4650K .......... .......... .......... .......... .......... 40%  927K 5s\n",
      "  4700K .......... .......... .......... .......... .......... 40% 1.55M 5s\n",
      "  4750K .......... .......... .......... .......... .......... 41% 1.63M 5s\n",
      "  4800K .......... .......... .......... .......... .......... 41% 1.80M 5s\n",
      "  4850K .......... .......... .......... .......... .......... 42% 3.11M 4s\n",
      "  4900K .......... .......... .......... .......... .......... 42% 3.53M 4s\n",
      "  4950K .......... .......... .......... .......... .......... 43% 3.09M 4s\n",
      "  5000K .......... .......... .......... .......... .......... 43% 1.06M 4s\n",
      "  5050K .......... .......... .......... .......... .......... 43% 3.75M 4s\n",
      "  5100K .......... .......... .......... .......... .......... 44%  946K 4s\n",
      "  5150K .......... .......... .......... .......... .......... 44% 3.44M 4s\n",
      "  5200K .......... .......... .......... .......... .......... 45% 5.86M 4s\n",
      "  5250K .......... .......... .......... .......... .......... 45% 2.28M 4s\n",
      "  5300K .......... .......... .......... .......... .......... 46% 7.57M 4s\n",
      "  5350K .......... .......... .......... .......... .......... 46% 2.46M 4s\n",
      "  5400K .......... .......... .......... .......... .......... 46% 13.1M 4s\n",
      "  5450K .......... .......... .......... .......... .......... 47% 2.19M 4s\n",
      "  5500K .......... .......... .......... .......... .......... 47%  621K 4s\n",
      "  5550K .......... .......... .......... .......... .......... 48% 5.30M 4s\n",
      "  5600K .......... .......... .......... .......... .......... 48% 7.65M 4s\n",
      "  5650K .......... .......... .......... .......... .......... 49% 4.82M 4s\n",
      "  5700K .......... .......... .......... .......... .......... 49%  867K 4s\n",
      "  5750K .......... .......... .......... .......... .......... 50%  476K 4s\n",
      "  5800K .......... .......... .......... .......... .......... 50%  683K 4s\n",
      "  5850K .......... .......... .......... .......... .......... 50% 1.45M 4s\n",
      "  5900K .......... .......... .......... .......... .......... 51% 3.61M 4s\n",
      "  5950K .......... .......... .......... .......... .......... 51%  283K 4s\n",
      "  6000K .......... .......... .......... .......... .......... 52% 1.57M 4s\n",
      "  6050K .......... .......... .......... .......... .......... 52% 1.65M 4s\n",
      "  6100K .......... .......... .......... .......... .......... 53% 2.41M 4s\n",
      "  6150K .......... .......... .......... .......... .......... 53%  595K 4s\n",
      "  6200K .......... .......... .......... .......... .......... 53% 1.78M 4s\n",
      "  6250K .......... .......... .......... .......... .......... 54% 3.53M 4s\n",
      "  6300K .......... .......... .......... .......... .......... 54% 1.35M 4s\n",
      "  6350K .......... .......... .......... .......... .......... 55% 2.75M 4s\n",
      "  6400K .......... .......... .......... .......... .......... 55% 1.92M 3s\n",
      "  6450K .......... .......... .......... .......... .......... 56% 1.63M 3s\n",
      "  6500K .......... .......... .......... .......... .......... 56% 10.1M 3s\n",
      "  6550K .......... .......... .......... .......... .......... 56% 4.68M 3s\n",
      "  6600K .......... .......... .......... .......... .......... 57%  467K 3s\n",
      "  6650K .......... .......... .......... .......... .......... 57% 1.26M 3s\n",
      "  6700K .......... .......... .......... .......... .......... 58% 3.46M 3s\n",
      "  6750K .......... .......... .......... .......... .......... 58% 36.2M 3s\n",
      "  6800K .......... .......... .......... .......... .......... 59% 54.1M 3s\n",
      "  6850K .......... .......... .......... .......... .......... 59% 56.1M 3s\n",
      "  6900K .......... .......... .......... .......... .......... 59% 2.59M 3s\n",
      "  6950K .......... .......... .......... .......... .......... 60% 6.82M 3s\n",
      "  7000K .......... .......... .......... .......... .......... 60% 9.68M 3s\n",
      "  7050K .......... .......... .......... .......... .......... 61% 1.72M 3s\n",
      "  7100K .......... .......... .......... .......... .......... 61% 13.6M 3s\n",
      "  7150K .......... .......... .......... .......... .......... 62% 6.68M 3s\n",
      "  7200K .......... .......... .......... .......... .......... 62% 2.18M 3s\n",
      "  7250K .......... .......... .......... .......... .......... 62% 2.06M 3s\n",
      "  7300K .......... .......... .......... .......... .......... 63% 10.2M 3s\n",
      "  7350K .......... .......... .......... .......... .......... 63% 3.21M 3s\n",
      "  7400K .......... .......... .......... .......... .......... 64% 6.12M 3s\n",
      "  7450K .......... .......... .......... .......... .......... 64% 3.88M 3s\n",
      "  7500K .......... .......... .......... .......... .......... 65% 3.79M 3s\n",
      "  7550K .......... .......... .......... .......... .......... 65% 19.5M 2s\n",
      "  7600K .......... .......... .......... .......... .......... 65% 3.90M 2s\n",
      "  7650K .......... .......... .......... .......... .......... 66% 5.61M 2s\n",
      "  7700K .......... .......... .......... .......... .......... 66% 10.0M 2s\n",
      "  7750K .......... .......... .......... .......... .......... 67% 2.91M 2s\n",
      "  7800K .......... .......... .......... .......... .......... 67%  580K 2s\n",
      "  7850K .......... .......... .......... .......... .......... 68% 2.73M 2s\n",
      "  7900K .......... .......... .......... .......... .......... 68% 1.51M 2s\n",
      "  7950K .......... .......... .......... .......... .......... 68% 1.16M 2s\n",
      "  8000K .......... .......... .......... .......... .......... 69%  530K 2s\n",
      "  8050K .......... .......... .......... .......... .......... 69% 3.86M 2s\n",
      "  8100K .......... .......... .......... .......... .......... 70% 6.46M 2s\n",
      "  8150K .......... .......... .......... .......... .......... 70% 4.16M 2s\n",
      "  8200K .......... .......... .......... .......... .......... 71% 9.70M 2s\n",
      "  8250K .......... .......... .......... .......... .......... 71% 4.85M 2s\n",
      "  8300K .......... .......... .......... .......... .......... 72% 4.67M 2s\n",
      "  8350K .......... .......... .......... .......... .......... 72% 4.64M 2s\n",
      "  8400K .......... .......... .......... .......... .......... 72% 3.45M 2s\n",
      "  8450K .......... .......... .......... .......... .......... 73% 5.48M 2s\n",
      "  8500K .......... .......... .......... .......... .......... 73% 5.91M 2s\n",
      "  8550K .......... .......... .......... .......... .......... 74% 1.79M 2s\n",
      "  8600K .......... .......... .......... .......... .......... 74% 15.1M 2s\n",
      "  8650K .......... .......... .......... .......... .......... 75% 8.45M 2s\n",
      "  8700K .......... .......... .......... .......... .......... 75% 4.15M 2s\n",
      "  8750K .......... .......... .......... .......... .......... 75% 3.66M 2s\n",
      "  8800K .......... .......... .......... .......... .......... 76% 3.59M 2s\n",
      "  8850K .......... .......... .......... .......... .......... 76% 6.15M 2s\n",
      "  8900K .......... .......... .......... .......... .......... 77% 16.8M 2s\n",
      "  8950K .......... .......... .......... .......... .......... 77% 4.10M 2s\n",
      "  9000K .......... .......... .......... .......... .......... 78% 3.45M 1s\n",
      "  9050K .......... .......... .......... .......... .......... 78% 3.81M 1s\n",
      "  9100K .......... .......... .......... .......... .......... 78% 6.07M 1s\n",
      "  9150K .......... .......... .......... .......... .......... 79% 3.56M 1s\n",
      "  9200K .......... .......... .......... .......... .......... 79% 3.84M 1s\n",
      "  9250K .......... .......... .......... .......... .......... 80%  462K 1s\n",
      "  9300K .......... .......... .......... .......... .......... 80% 1.48M 1s\n",
      "  9350K .......... .......... .......... .......... .......... 81%  483K 1s\n",
      "  9400K .......... .......... .......... .......... .......... 81%  777K 1s\n",
      "  9450K .......... .......... .......... .......... .......... 81%  679K 1s\n",
      "  9500K .......... .......... .......... .......... .......... 82% 3.82M 1s\n",
      "  9550K .......... .......... .......... .......... .......... 82% 6.25M 1s\n",
      "  9600K .......... .......... .......... .......... .......... 83% 4.61M 1s\n",
      "  9650K .......... .......... .......... .......... .......... 83% 9.72M 1s\n",
      "  9700K .......... .......... .......... .......... .......... 84% 4.56M 1s\n",
      "  9750K .......... .......... .......... .......... .......... 84%  529K 1s\n",
      "  9800K .......... .......... .......... .......... .......... 84% 2.45M 1s\n",
      "  9850K .......... .......... .......... .......... .......... 85% 1.56M 1s\n",
      "  9900K .......... .......... .......... .......... .......... 85% 2.28M 1s\n",
      "  9950K .......... .......... .......... .......... .......... 86% 2.24M 1s\n",
      " 10000K .......... .......... .......... .......... .......... 86%  853K 1s\n",
      " 10050K .......... .......... .......... .......... .......... 87% 1.04M 1s\n",
      " 10100K .......... .......... .......... .......... .......... 87%  788K 1s\n",
      " 10150K .......... .......... .......... .......... .......... 87%  760K 1s\n",
      " 10200K .......... .......... .......... .......... .......... 88% 1.48M 1s\n",
      " 10250K .......... .......... .......... .......... .......... 88% 2.28M 1s\n",
      " 10300K .......... .......... .......... .......... .......... 89% 2.08M 1s\n",
      " 10350K .......... .......... .......... .......... .......... 89% 2.86M 1s\n",
      " 10400K .......... .......... .......... .......... .......... 90% 1.31M 1s\n",
      " 10450K .......... .......... .......... .......... .......... 90% 1.42M 1s\n",
      " 10500K .......... .......... .......... .......... .......... 90% 1.51M 1s\n",
      " 10550K .......... .......... .......... .......... .......... 91%  408K 1s\n",
      " 10600K .......... .......... .......... .......... .......... 91%  637K 1s\n",
      " 10650K .......... .......... .......... .......... .......... 92% 4.15M 1s\n",
      " 10700K .......... .......... .......... .......... .......... 92%  430K 1s\n",
      " 10750K .......... .......... .......... .......... .......... 93%  273K 1s\n",
      " 10800K .......... .......... .......... .......... .......... 93% 1.50M 0s\n",
      " 10850K .......... .......... .......... .......... .......... 93%  889K 0s\n",
      " 10900K .......... .......... .......... .......... .......... 94% 6.69M 0s\n",
      " 10950K .......... .......... .......... .......... .......... 94% 4.40M 0s\n",
      " 11000K .......... .......... .......... .......... .......... 95% 10.9M 0s\n",
      " 11050K .......... .......... .......... .......... .......... 95% 3.25M 0s\n",
      " 11100K .......... .......... .......... .......... .......... 96% 4.68M 0s\n",
      " 11150K .......... .......... .......... .......... .......... 96% 3.65M 0s\n",
      " 11200K .......... .......... .......... .......... .......... 97% 7.05M 0s\n",
      " 11250K .......... .......... .......... .......... .......... 97% 3.60M 0s\n",
      " 11300K .......... .......... .......... .......... .......... 97% 5.87M 0s\n",
      " 11350K .......... .......... .......... .......... .......... 98% 4.13M 0s\n",
      " 11400K .......... .......... .......... .......... .......... 98% 12.8M 0s\n",
      " 11450K .......... .......... .......... .......... .......... 99% 3.58M 0s\n",
      " 11500K .......... .......... .......... .......... .......... 99% 5.44M 0s\n",
      " 11550K .......... .......... .......... .......... ......    100% 10.7M=7.1s\n",
      "\n",
      "2018-11-16 19:36:36 (1.60 MB/s) - ‘primer-dataset.json’ saved [11874761/11874761]\n",
      "\n",
      "2018-11-16T19:36:36.754+0000\tconnected to: localhost\n",
      "2018-11-16T19:36:36.754+0000\tdropping: test.restaurants\n",
      "2018-11-16T19:36:38.823+0000\timported 25359 documents\n"
     ]
    }
   ],
   "source": [
    "%%bash\n",
    "# Use wget to download the data\n",
    "wget https://raw.githubusercontent.com/mongodb/docs-assets/primer-dataset/primer-dataset.json\n",
    "# mongoimport is the Mongo command to import data.  \n",
    "# It specifies the database, collection and format, and import file\n",
    "# --drop means it's going to drop any collection with the same name which already exists\n",
    "mongoimport --db test --collection restaurants --drop --file ./primer-dataset.json\n",
    "# Delete the JSON file we just downloaded\n",
    "rm ./primer-dataset.json"
   ]
  },
  {
   "cell_type": "markdown",
   "metadata": {},
   "source": [
    "Change the variable `collection` to refer to the new collection `restaurants`, and inspect the general format of the data by adding the code below to find the first record of the collection:"
   ]
  },
  {
   "cell_type": "code",
   "execution_count": null,
   "metadata": {},
   "outputs": [],
   "source": [
    "# YOUR CODE HERE\n",
    "\n"
   ]
  },
  {
   "cell_type": "markdown",
   "metadata": {},
   "source": [
    "We saw the [`collection.find()`](https://api.mongodb.com/python/current/api/pymongo/collection.html#pymongo.collection.Collection.find) function earlier to return all the documents we inserted into our `test` collection.  Without any arguments, `find()` will return a cursor of all the available documents from in the collection.  To refine queries, however, the search can be filtered by the addition of a first parameter.\n",
    "\n",
    "The `filter` parameter is a dict, which searches for the documents where `key` = `value` where the dict is of the form `{key: value}`.  For example, to find all bakeries in the city, we would do the following query:   \n",
    "\n",
    "**WARNING** Unlike the Mongo command line interface, if you try and print the output of a `find()` query, it will continue to output all results until it has finished.  This can cause the browser to crash, particularly if it is a particularly large query set.\n",
    "\n",
    "Using `find().count()` is a useful way of checking how many a result will return, and `find_one()` to see the general structure of a result. If you use `find()`, make sure you either include the `limit` argument, or have a counter or other condition to break out of your printing loop!"
   ]
  },
  {
   "cell_type": "code",
   "execution_count": null,
   "metadata": {},
   "outputs": [],
   "source": [
    "collection.find({'cuisine': 'Bakery'}).limit(5)"
   ]
  },
  {
   "cell_type": "markdown",
   "metadata": {},
   "source": [
    "Noted, count() is deprecated in the MongoDb drivers compatible with the 4.0features, as a result, we should use countDocuments() in the following exercises. (for more information, check https://docs.mongodb.com/manual/reference/method/db.collection.count/ and http://api.mongodb.com/python/current/changelog.html)"
   ]
  },
  {
   "cell_type": "code",
   "execution_count": null,
   "metadata": {},
   "outputs": [],
   "source": [
    "collection.count_documents({'cuisine': 'Bakery'})"
   ]
  },
  {
   "cell_type": "markdown",
   "metadata": {},
   "source": [
    "A filter can have as many conditions as you like, and will assume that you are using an AND condition, unless you specify otherwise (as below).  In the cell below, write a query to return the number/count of all the establishments with a cuisine of `Hamburgers` in the borough of Manhattan."
   ]
  },
  {
   "cell_type": "code",
   "execution_count": null,
   "metadata": {},
   "outputs": [],
   "source": [
    "# YOUR CODE HERE\n",
    "# All establishments with: \n",
    "# * a cuisine of 'Hamburgers' \n",
    "# * in the borough of 'Manhattan\n",
    "\n"
   ]
  },
  {
   "cell_type": "code",
   "execution_count": null,
   "metadata": {},
   "outputs": [],
   "source": [
    "collection.distinct('cuisine')"
   ]
  },
  {
   "cell_type": "markdown",
   "metadata": {},
   "source": [
    "### Sub-documents\n",
    "\n",
    "A valid JSON style \"document\" can have another JSON document inside it.  To access these, we use the \"dot\" notation to access them.  For example, to get all the restaurants in a certain zipcode, you would run code as follows:"
   ]
  },
  {
   "cell_type": "code",
   "execution_count": null,
   "metadata": {},
   "outputs": [],
   "source": [
    "from pprint import pprint\n",
    "cursor = collection.find({'address.zipcode': '10462'}, limit=5)\n",
    "for c in cursor:\n",
    "    pprint(c)"
   ]
  },
  {
   "cell_type": "markdown",
   "metadata": {},
   "source": [
    "### Operators\n",
    "\n",
    "MongoDB has a series of [operators](https://docs.mongodb.com/manual/reference/operator/query/) which allow us to do more sophisticated filters on our queries.  There are too many to go into individually, but we will look at a few important ones.  The specific syntax varies depending on the operator, so it isn't possible to give a general rule, but we will go over a few examples here.  Make sure you check the [documentation](https://docs.mongodb.com/manual/reference/operator/query/) for use on each one.\n",
    "\n",
    "#### [\\$or](https://docs.mongodb.com/manual/reference/operator/query/or/#op._S_or)\n",
    "\n",
    "Performs a logical **OR** operation on all the key/value pairs in a list, as in the code below:"
   ]
  },
  {
   "cell_type": "code",
   "execution_count": null,
   "metadata": {},
   "outputs": [],
   "source": [
    "filter = {\"$or\": [{\"cuisine\": \"Polynesian\"}, {\"cuisine\": \"Hawaiian\"}]}\n",
    "for f in collection.find(filter):\n",
    "    pprint(f)"
   ]
  },
  {
   "cell_type": "markdown",
   "metadata": {},
   "source": [
    "#### [`$regex`](https://docs.mongodb.com/manual/reference/operator/query/regex/#op._S_regex)\n",
    "\n",
    "The `$regex` operator searches for a regular expression on a particular field.  Within the filter field, the named field (a key) takes a dict as a value.  \n",
    "\n",
    "For example, to search for all restaurants which start with the word \"Pretzel\" in the title you can do the following:"
   ]
  },
  {
   "cell_type": "code",
   "execution_count": null,
   "metadata": {},
   "outputs": [],
   "source": [
    "filter = {\"name\": {\"$regex\": '^Pretzel'}}\n",
    "collection.count_documents(filter)"
   ]
  },
  {
   "cell_type": "markdown",
   "metadata": {},
   "source": [
    "There are other ways to use regular expressions in PyMongo, you can use the [`re`](https://docs.python.org/3/library/re.html) module in Python.  In Mongo itself, you can use the following syntax: The simplest is to enclose the regular expression inside `/` characters, as in `{\"name\": /^Pretzel/}`, but that doesn't work properly in PyMongo.\n",
    "\n",
    "Using the `$regex` operator, find all restaurants which end in \"Bar\" in the borough of Brooklyn.\n",
    "\n",
    "HINT: The regex character for the end of a string is `$`"
   ]
  },
  {
   "cell_type": "code",
   "execution_count": null,
   "metadata": {},
   "outputs": [],
   "source": [
    "# YOUR CODE HERE\n"
   ]
  },
  {
   "cell_type": "markdown",
   "metadata": {},
   "source": [
    "#### [`$gt`](https://docs.mongodb.com/manual/reference/operator/query/gt/#op._S_gt)\n",
    "\n",
    "The `$gt` operator is a comparison between two values where one is greater than the other.  \n",
    "\n",
    "For example, consider this code which finds restaurants which have had a score of more than 15:"
   ]
  },
  {
   "cell_type": "code",
   "execution_count": null,
   "metadata": {},
   "outputs": [],
   "source": [
    "filter = {'grades.score': {'$gt': 12}}\n",
    "collection.count_documents(filter)"
   ]
  },
  {
   "cell_type": "markdown",
   "metadata": {},
   "source": [
    "Using one of the other comparison operators, find all restaurants which had a grade awarded on the 15 December 2012.  You'll need to create a [`datetime`](https://docs.python.org/2/library/datetime.html#datetime-objects) object in Python."
   ]
  },
  {
   "cell_type": "code",
   "execution_count": null,
   "metadata": {},
   "outputs": [],
   "source": [
    "# YOUR CODE HERE\n"
   ]
  },
  {
   "cell_type": "markdown",
   "metadata": {},
   "source": [
    "## Organising output\n",
    "\n",
    "So far, we have seen the two of the arguments in the `find()` and related functions.  The `filter` which allows us to select the criteria for documents in the collection, and the `limit` to limit the amount of results.  You should read the documentation fully about the function in your own time, but for now, we will go over two other arguments which are for organising output: field selection, and sorting.\n",
    "\n",
    "The field selection or `projection` argument is the argument after the \\[optional\\] filter, and is either:\n",
    "\n",
    "* A list of fields to include (plus \\_id)\n",
    "* A dict of fields with True/False to include\n",
    "\n",
    "For example, to display only the name of the restaurant:"
   ]
  },
  {
   "cell_type": "code",
   "execution_count": null,
   "metadata": {},
   "outputs": [],
   "source": [
    "filter = {'cuisine': 'Brazilian'}\n",
    "fields = {'_id': False, 'name': True}\n",
    "collection.find_one(filter, fields)"
   ]
  },
  {
   "cell_type": "markdown",
   "metadata": {},
   "source": [
    "The sort argument is a dict object of field names as keys, and directions.  This can be done either as a named parameter when calling `find()`, or as a function in its own right [`sort()`](https://api.mongodb.com/python/current/api/pymongo/cursor.html#pymongo.cursor.Cursor.sort)\n",
    "\n",
    "For example, to sort in alphabetical order, consider the following code:"
   ]
  },
  {
   "cell_type": "code",
   "execution_count": null,
   "metadata": {},
   "outputs": [],
   "source": [
    "import pymongo\n",
    "# The ASCENDING and DESCENDING constants have values of 1 (ASCENDING) and -1 (DESCENDING)\n",
    "sort = [('name', pymongo.ASCENDING)]\n",
    "for d in collection.find(filter, projection=fields, sort=sort):\n",
    "    pprint(d)"
   ]
  },
  {
   "cell_type": "markdown",
   "metadata": {},
   "source": [
    "# MongoDB Aggregation Framework\n",
    "\n",
    "The most common usage for the aggregation framework is to perform group operations such as sum, count or average.  The framework works as a pipeline, with a series of different stages where the data are transformed in each one.\n",
    "\n",
    "At its simplest, this can be used to obtain output like min, max, count, avg on a collection as follows:"
   ]
  },
  {
   "cell_type": "code",
   "execution_count": null,
   "metadata": {},
   "outputs": [],
   "source": [
    "group = {\n",
    "    '$group': {\n",
    "        '_id': None, \n",
    "        'size': {'$sum': 1},\n",
    "        'min': {'$min': '$restaurant_id'},\n",
    "        'max': {'$max': '$restaurant_id'}\n",
    "    }\n",
    "}\n",
    "\n",
    "cursor = collection.aggregate([group])\n",
    "for c in cursor:\n",
    "    print(c)"
   ]
  },
  {
   "cell_type": "markdown",
   "metadata": {},
   "source": [
    "Note that it has an `$_id: None` key/value pair in it.  It is compulsory for a `$group` pipeline to have one, and it indicates what it is grouping by.  In this case, we haven't grouped it at all, however it can also be used for more complex output where documents are grouped according to a field.\n",
    "\n",
    "### Aggregation example\n",
    "\n",
    "Consider this example, of finding the breakdown of how many of each type of restaurant there is in the Bronx.  We would need to go through the following stages:\n",
    "\n",
    "- Identify restaurants which are in the Bronx\n",
    "- Group the restaurants by type to get the count\n",
    "- Sort the results in a sensible way\n",
    "\n",
    "The code to perform this query is below:"
   ]
  },
  {
   "cell_type": "code",
   "execution_count": null,
   "metadata": {},
   "outputs": [],
   "source": [
    "# Restrict the results to only establishments in the Bronx.  \n",
    "# '$match' indicates the stage in the pipeline, and the dictionary is the same as using with find()\n",
    "match = {\n",
    "    \"$match\": {\"borough\": \"Bronx\"}\n",
    "}\n",
    "\n",
    "# $group indicates the stage in the pipeline\n",
    "# _id is the field to perform the operation on (like SQL GROUP BY)\n",
    "# count is the name of the field that the result will be in\n",
    "# $sum is the counting operation, and the value 1 is how many to count each time\n",
    "group = {\n",
    "    '$group': {'_id': '$cuisine', 'count': {'$sum': 1}}\n",
    "    \n",
    "}\n",
    "# $sort indicates the position in the pipeline\n",
    "# count is the field to sort by, and -1 means to sort in descending order\n",
    "sort = {\n",
    "    '$sort': {'count': pymongo.DESCENDING}\n",
    "}\n",
    "\n",
    "cursor = collection.aggregate([match, group, sort])\n",
    "for c in cursor:\n",
    "    print(c)\n",
    "\n"
   ]
  },
  {
   "cell_type": "markdown",
   "metadata": {},
   "source": [
    "This is a simple query, which shows some of the basic stages of the aggregation pipeline.  It can be improved as follows:\n",
    "\n",
    "* We can change the name of the `_id` in the output back to `cuisine` using the `$project` stage\n",
    "* We can change the order of the output to be sorted in alphabetical order as well\n",
    "* We can limit the results to include results only with a count of 20 or more\n",
    "\n",
    "Implement those stages in the cell below"
   ]
  },
  {
   "cell_type": "code",
   "execution_count": null,
   "metadata": {},
   "outputs": [],
   "source": [
    "# YOUR CODE HERE\n",
    "\n",
    "\n",
    "pipeline = [match, group] #More code here...\n",
    "cursor = collection.aggregate(pipeline)\n",
    "for c in cursor:\n",
    "    print(c)\n"
   ]
  },
  {
   "cell_type": "code",
   "execution_count": null,
   "metadata": {},
   "outputs": [],
   "source": [
    "# YOUR CODE HERE FOR sort\n",
    "\n",
    "pipeline.append(sort)\n",
    "cursor = collection.aggregate(pipeline)\n",
    "for c in cursor:\n",
    "    pprint(c)\n"
   ]
  },
  {
   "cell_type": "code",
   "execution_count": null,
   "metadata": {},
   "outputs": [],
   "source": [
    "# YOUR CODE HERE FOR `count` > 20\n",
    "\n",
    "cursor = collection.aggregate(pipeline)\n",
    "for c in cursor:\n",
    "    pprint(c)\n"
   ]
  },
  {
   "cell_type": "markdown",
   "metadata": {},
   "source": [
    "## Challenge\n",
    "\n",
    "How would you work out the percentage of each type of cuisine out of all selected restaurants?"
   ]
  },
  {
   "cell_type": "code",
   "execution_count": null,
   "metadata": {},
   "outputs": [],
   "source": [
    "# YOUR CODE HERE..."
   ]
  },
  {
   "cell_type": "markdown",
   "metadata": {},
   "source": [
    "# Where next?\n",
    "\n",
    "* Dealing with array data\n",
    "* Update, delete, and drop\n",
    "* Setting up authentication\n",
    "* Sharding databases"
   ]
  }
 ],
 "metadata": {
  "kernelspec": {
   "display_name": "Python 3",
   "language": "python",
   "name": "python3"
  },
  "language_info": {
   "codemirror_mode": {
    "name": "ipython",
    "version": 3
   },
   "file_extension": ".py",
   "mimetype": "text/x-python",
   "name": "python",
   "nbconvert_exporter": "python",
   "pygments_lexer": "ipython3",
   "version": "3.7.0"
  }
 },
 "nbformat": 4,
 "nbformat_minor": 2
}
