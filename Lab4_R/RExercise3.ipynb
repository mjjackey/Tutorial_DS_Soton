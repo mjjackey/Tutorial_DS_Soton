{
 "cells": [
  {
   "cell_type": "code",
   "execution_count": 4,
   "metadata": {},
   "outputs": [],
   "source": [
    "x<- rnorm (100,0,1)\n",
    "y<- runif(100,min=0,max=1)"
   ]
  },
  {
   "cell_type": "code",
   "execution_count": 5,
   "metadata": {},
   "outputs": [],
   "source": [
    "df <- data.frame (x=sort(x), y=sort(y))"
   ]
  },
  {
   "cell_type": "code",
   "execution_count": 7,
   "metadata": {},
   "outputs": [
    {
     "data": {
      "text/plain": [
       "\n",
       "Call:\n",
       "lm(formula = df$y ~ df$x)\n",
       "\n",
       "Residuals:\n",
       "     Min       1Q   Median       3Q      Max \n",
       "-0.21211 -0.04980 -0.00631  0.05384  0.32651 \n",
       "\n",
       "Coefficients:\n",
       "            Estimate Std. Error t value Pr(>|t|)    \n",
       "(Intercept) 0.486234   0.007547   64.43   <2e-16 ***\n",
       "df$x        0.257895   0.007042   36.62   <2e-16 ***\n",
       "---\n",
       "Signif. codes:  0 '***' 0.001 '**' 0.01 '*' 0.05 '.' 0.1 ' ' 1\n",
       "\n",
       "Residual standard error: 0.07539 on 98 degrees of freedom\n",
       "Multiple R-squared:  0.9319,\tAdjusted R-squared:  0.9312 \n",
       "F-statistic:  1341 on 1 and 98 DF,  p-value: < 2.2e-16\n"
      ]
     },
     "metadata": {},
     "output_type": "display_data"
    },
    {
     "data": {
      "image/png": "[encoded data removed]",
      "text/plain": [
       "Plot with title \"Scatterplot Price vs Mleage\""
      ]
     },
     "metadata": {},
     "output_type": "display_data"
    }
   ],
   "source": [
    "plot (df$y ~ df$x, main=\"Scatterplot Price vs Mleage\", xlab=\"Mileage (mi.)\", ylab=\"Price ($)\")\n",
    "lm1 <- lm ( df$y ~ df$x)\n",
    "summary (lm1)\n",
    "lines (predict (lm1) ~ df$x, col=\"red\")\n",
    "lm2 <- lm ( df$y ~ df$x)\n",
    "lines (predict (lm2) ~ df$x, col=\"blue\")"
   ]
  },
  {
   "cell_type": "code",
   "execution_count": 17,
   "metadata": {},
   "outputs": [
    {
     "data": {
      "text/html": [
       "50"
      ],
      "text/latex": [
       "50"
      ],
      "text/markdown": [
       "50"
      ],
      "text/plain": [
       "[1] 50"
      ]
     },
     "metadata": {},
     "output_type": "display_data"
    },
    {
     "data": {
      "text/html": [
       "50"
      ],
      "text/latex": [
       "50"
      ],
      "text/markdown": [
       "50"
      ],
      "text/plain": [
       "[1] 50"
      ]
     },
     "metadata": {},
     "output_type": "display_data"
    }
   ],
   "source": [
    "a=array(0,dim=c(50,16))\n",
    "# a\n",
    "nrow(a)\n",
    "b=matrix(0, nrow = 50, ncol = 16)\n",
    "nrow(b)"
   ]
  },
  {
   "cell_type": "code",
   "execution_count": null,
   "metadata": {},
   "outputs": [],
   "source": [
    "sine_wave<- function(x)\n",
    "{\n",
    "    for(j in 1:3)\n",
    "    {\n",
    "        for (i in 1:nrow(x)/2)\n",
    "        {\n",
    "            \n",
    "        }\n",
    "    }\n",
    "    \n",
    " }"
   ]
  }
 ],
 "metadata": {
  "kernelspec": {
   "display_name": "R",
   "language": "R",
   "name": "ir"
  },
  "language_info": {
   "codemirror_mode": "r",
   "file_extension": ".r",
   "mimetype": "text/x-r-source",
   "name": "R",
   "pygments_lexer": "r",
   "version": "3.5.1"
  }
 },
 "nbformat": 4,
 "nbformat_minor": 2
}
